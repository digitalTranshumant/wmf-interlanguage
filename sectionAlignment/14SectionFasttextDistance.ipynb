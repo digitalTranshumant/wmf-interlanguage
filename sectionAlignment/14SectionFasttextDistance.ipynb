{
 "cells": [
  {
   "cell_type": "markdown",
   "metadata": {},
   "source": [
    "## Setup notebook"
   ]
  },
  {
   "cell_type": "code",
   "execution_count": 1,
   "metadata": {},
   "outputs": [
    {
     "name": "stdout",
     "output_type": "stream",
     "text": [
      "Collecting fasttext\n",
      "  Downloading https://files.pythonhosted.org/packages/a4/86/ff826211bc9e28d4c371668b30b4b2c38a09127e5e73017b1c0cd52f9dfa/fasttext-0.8.3.tar.gz (73kB)\n",
      "\u001b[K    100% |████████████████████████████████| 81kB 4.3MB/s ta 0:00:011\n",
      "\u001b[?25hRequirement already satisfied: numpy>=1 in ./venv/lib/python3.5/site-packages (from fasttext)\n",
      "Requirement already satisfied: future in ./venv/lib/python3.5/site-packages (from fasttext)\n",
      "Building wheels for collected packages: fasttext\n",
      "  Running setup.py bdist_wheel for fasttext ... \u001b[?25ldone\n",
      "\u001b[?25h  Stored in directory: /home/dsaez/.cache/pip/wheels/73/8e/5d/ecb50b90adaab5868ae1d8df180f31e55e85c2f055aaf2fb35\n",
      "Successfully built fasttext\n",
      "Installing collected packages: fasttext\n",
      "Successfully installed fasttext-0.8.3\n"
     ]
    }
   ],
   "source": [
    "!pip install fasttext"
   ]
  },
  {
   "cell_type": "code",
   "execution_count": 2,
   "metadata": {},
   "outputs": [
    {
     "name": "stdout",
     "output_type": "stream",
     "text": [
      "Cloning into 'fastText_multilingual'...\n",
      "remote: Counting objects: 226, done.\u001b[K\n",
      "remote: Total 226 (delta 0), reused 0 (delta 0), pack-reused 226\u001b[K\n",
      "Receiving objects: 100% (226/226), 144.02 MiB | 37.09 MiB/s, done.\n",
      "Resolving deltas: 100% (29/29), done.\n"
     ]
    }
   ],
   "source": [
    "!git clone https://github.com/Babylonpartners/fastText_multilingual.git"
   ]
  },
  {
   "cell_type": "code",
   "execution_count": 10,
   "metadata": {},
   "outputs": [
    {
     "name": "stdout",
     "output_type": "stream",
     "text": [
      "--2018-08-23 22:40:23--  https://s3-us-west-1.amazonaws.com/fasttext-vectors/wiki.ru.vec\n",
      "Resolving webproxy.eqiad.wmnet (webproxy.eqiad.wmnet)... 2620:0:861:1:208:80:154:22, 208.80.154.22\n",
      "Connecting to webproxy.eqiad.wmnet (webproxy.eqiad.wmnet)|2620:0:861:1:208:80:154:22|:8080... connected.\n",
      "Proxy request sent, awaiting response... 200 OK\n",
      "Length: 4954492872 (4.6G) [binary/octet-stream]\n",
      "Saving to: ‘wiki.ru.vec.1’\n",
      "\n",
      "wiki.ru.vec.1       100%[===================>]   4.61G  34.2MB/s    in 7m 53s  \n",
      "\n",
      "2018-08-23 22:48:17 (9.98 MB/s) - ‘wiki.ru.vec.1’ saved [4954492872/4954492872]\n",
      "\n",
      "--2018-08-23 22:48:17--  https://s3-us-west-1.amazonaws.com/fasttext-vectors/wiki.ja.vec\n",
      "Resolving webproxy.eqiad.wmnet (webproxy.eqiad.wmnet)... 2620:0:861:1:208:80:154:22, 208.80.154.22\n",
      "Connecting to webproxy.eqiad.wmnet (webproxy.eqiad.wmnet)|2620:0:861:1:208:80:154:22|:8080... connected.\n",
      "Proxy request sent, awaiting response... 200 OK\n",
      "Length: 1374192861 (1.3G) [binary/octet-stream]\n",
      "Saving to: ‘wiki.ja.vec’\n",
      "\n",
      "wiki.ja.vec         100%[===================>]   1.28G  28.7MB/s    in 3m 1s   \n",
      "\n",
      "2018-08-23 22:51:20 (7.22 MB/s) - ‘wiki.ja.vec’ saved [1374192861/1374192861]\n",
      "\n",
      "--2018-08-23 22:51:20--  https://s3-us-west-1.amazonaws.com/fasttext-vectors/wiki.fr.vec\n",
      "Resolving webproxy.eqiad.wmnet (webproxy.eqiad.wmnet)... 2620:0:861:1:208:80:154:22, 208.80.154.22\n",
      "Connecting to webproxy.eqiad.wmnet (webproxy.eqiad.wmnet)|2620:0:861:1:208:80:154:22|:8080... connected.\n",
      "Proxy request sent, awaiting response... 200 OK\n",
      "Length: 3027096151 (2.8G) [binary/octet-stream]\n",
      "Saving to: ‘wiki.fr.vec’\n",
      "\n",
      "wiki.fr.vec         100%[===================>]   2.82G  14.7MB/s    in 4m 39s  \n",
      "\n",
      "2018-08-23 22:56:00 (10.3 MB/s) - ‘wiki.fr.vec’ saved [3027096151/3027096151]\n",
      "\n",
      "--2018-08-23 22:56:02--  https://s3-us-west-1.amazonaws.com/fasttext-vectors/wiki.es.vec\n",
      "Resolving webproxy.eqiad.wmnet (webproxy.eqiad.wmnet)... 2620:0:861:1:208:80:154:22, 208.80.154.22\n",
      "Connecting to webproxy.eqiad.wmnet (webproxy.eqiad.wmnet)|2620:0:861:1:208:80:154:22|:8080... connected.\n",
      "Proxy request sent, awaiting response... 200 OK\n",
      "Length: 2594302560 (2.4G) [binary/octet-stream]\n",
      "Saving to: ‘wiki.es.vec’\n",
      "\n",
      "wiki.es.vec         100%[===================>]   2.42G  50.8MB/s    in 5m 26s  \n",
      "\n",
      "2018-08-23 23:01:31 (7.58 MB/s) - ‘wiki.es.vec’ saved [2594302560/2594302560]\n",
      "\n",
      "--2018-08-23 23:01:31--  https://s3-us-west-1.amazonaws.com/fasttext-vectors/wiki.en.vec\n",
      "Resolving webproxy.eqiad.wmnet (webproxy.eqiad.wmnet)... 2620:0:861:1:208:80:154:22, 208.80.154.22\n",
      "Connecting to webproxy.eqiad.wmnet (webproxy.eqiad.wmnet)|2620:0:861:1:208:80:154:22|:8080... connected.\n",
      "Proxy request sent, awaiting response... 200 OK\n",
      "Length: 6597238061 (6.1G) [binary/octet-stream]\n",
      "Saving to: ‘wiki.en.vec’\n",
      "\n",
      "wiki.en.vec         100%[===================>]   6.14G  21.4MB/s    in 8m 28s  \n",
      "\n",
      "2018-08-23 23:10:00 (12.4 MB/s) - ‘wiki.en.vec’ saved [6597238061/6597238061]\n",
      "\n",
      "--2018-08-23 23:10:00--  https://s3-us-west-1.amazonaws.com/fasttext-vectors/wiki.ar.vec\n",
      "Resolving webproxy.eqiad.wmnet (webproxy.eqiad.wmnet)... 2620:0:861:1:208:80:154:22, 208.80.154.22\n",
      "Connecting to webproxy.eqiad.wmnet (webproxy.eqiad.wmnet)|2620:0:861:1:208:80:154:22|:8080... connected.\n",
      "Proxy request sent, awaiting response... 200 OK\n",
      "Length: 1610017300 (1.5G) [binary/octet-stream]\n",
      "Saving to: ‘wiki.ar.vec’\n",
      "\n",
      "wiki.ar.vec         100%[===================>]   1.50G  48.0MB/s    in 94s     \n",
      "\n",
      "2018-08-23 23:11:34 (16.4 MB/s) - ‘wiki.ar.vec’ saved [1610017300/1610017300]\n",
      "\n"
     ]
    }
   ],
   "source": [
    "### Download Fasttext pre-computed embbedings\n",
    "##### ATENTION, LANGS ARE HARD CODED HERE, FOR NEW LANGUAGES: CHANGE #####\n",
    "hardCodedLangs = ['ru', 'ja', 'fr', 'es', 'en', 'ar']\n",
    "for l in hardCodedLangs:\n",
    "    url= 'https://s3-us-west-1.amazonaws.com/fasttext-vectors/wiki.%s.vec' % l\n",
    "    !wget $url"
   ]
  },
  {
   "cell_type": "markdown",
   "metadata": {},
   "source": [
    "## Compute distances "
   ]
  },
  {
   "cell_type": "code",
   "execution_count": 1,
   "metadata": {},
   "outputs": [],
   "source": [
    "def fasttextDistance(sec1,sec2,vectorsLang1,vectorsLang2):\n",
    "    '''\n",
    "    Take two sections, create a vector for each of them summing all the words\n",
    "    return cosine similarity\n",
    "    '''\n",
    "    if (sec1!='') & (sec2!=''): #to avoid '' empty sections\n",
    "        sec1 = sec1.lower().split()\n",
    "        sec2 = sec2.lower().split()\n",
    "        sec1Vector  = sum([vectorsLang1[word] for word in sec1 if word in vectorsLang1])/len(sec1)\n",
    "        sec2Vector  = sum([vectorsLang2[word] for word in sec2 if word in vectorsLang2])/len(sec2)\n",
    "        distance  = vectorsLang2.cosine_similarity(sec1Vector,sec2Vector)\n",
    "        if not isinstance(distance,float): #when at least one of the sections is not the vectorial space, the result is 'nan'\n",
    "            return 0\n",
    "        else:\n",
    "            return distance\n",
    "    else:\n",
    "        return 0"
   ]
  },
  {
   "cell_type": "code",
   "execution_count": 2,
   "metadata": {},
   "outputs": [
    {
     "name": "stdout",
     "output_type": "stream",
     "text": [
      "reading word vectors from SectionAligmentData/wiki.en.vec\n",
      "CPU times: user 2min 58s, sys: 6.32 s, total: 3min 5s\n",
      "Wall time: 3min 4s\n",
      "reading word vectors from SectionAligmentData/wiki.ja.vec\n"
     ]
    },
    {
     "name": "stderr",
     "output_type": "stream",
     "text": [
      "/srv/home/dsaez/fastText_multilingual/fasttext.py:144: RuntimeWarning: invalid value encountered in double_scalars\n",
      "  (np.linalg.norm(vec_a) * np.linalg.norm(vec_b))\n",
      "/srv/home/dsaez/fastText_multilingual/fasttext.py:144: RuntimeWarning: invalid value encountered in true_divide\n",
      "  (np.linalg.norm(vec_a) * np.linalg.norm(vec_b))\n"
     ]
    },
    {
     "name": "stdout",
     "output_type": "stream",
     "text": [
      "reading word vectors from SectionAligmentData/wiki.ar.vec\n"
     ]
    },
    {
     "name": "stderr",
     "output_type": "stream",
     "text": [
      "/srv/home/dsaez/fastText_multilingual/fasttext.py:144: RuntimeWarning: invalid value encountered in true_divide\n",
      "  (np.linalg.norm(vec_a) * np.linalg.norm(vec_b))\n",
      "/srv/home/dsaez/fastText_multilingual/fasttext.py:144: RuntimeWarning: invalid value encountered in double_scalars\n",
      "  (np.linalg.norm(vec_a) * np.linalg.norm(vec_b))\n"
     ]
    },
    {
     "name": "stdout",
     "output_type": "stream",
     "text": [
      "reading word vectors from SectionAligmentData/wiki.es.vec\n"
     ]
    },
    {
     "name": "stderr",
     "output_type": "stream",
     "text": [
      "/srv/home/dsaez/fastText_multilingual/fasttext.py:144: RuntimeWarning: invalid value encountered in true_divide\n",
      "  (np.linalg.norm(vec_a) * np.linalg.norm(vec_b))\n",
      "/srv/home/dsaez/fastText_multilingual/fasttext.py:144: RuntimeWarning: invalid value encountered in double_scalars\n",
      "  (np.linalg.norm(vec_a) * np.linalg.norm(vec_b))\n"
     ]
    },
    {
     "name": "stdout",
     "output_type": "stream",
     "text": [
      "reading word vectors from SectionAligmentData/wiki.fr.vec\n"
     ]
    },
    {
     "name": "stderr",
     "output_type": "stream",
     "text": [
      "/srv/home/dsaez/fastText_multilingual/fasttext.py:144: RuntimeWarning: invalid value encountered in true_divide\n",
      "  (np.linalg.norm(vec_a) * np.linalg.norm(vec_b))\n",
      "/srv/home/dsaez/fastText_multilingual/fasttext.py:144: RuntimeWarning: invalid value encountered in double_scalars\n",
      "  (np.linalg.norm(vec_a) * np.linalg.norm(vec_b))\n"
     ]
    },
    {
     "name": "stdout",
     "output_type": "stream",
     "text": [
      "reading word vectors from SectionAligmentData/wiki.ru.vec\n"
     ]
    },
    {
     "name": "stderr",
     "output_type": "stream",
     "text": [
      "/srv/home/dsaez/fastText_multilingual/fasttext.py:144: RuntimeWarning: invalid value encountered in true_divide\n",
      "  (np.linalg.norm(vec_a) * np.linalg.norm(vec_b))\n",
      "/srv/home/dsaez/fastText_multilingual/fasttext.py:144: RuntimeWarning: invalid value encountered in double_scalars\n",
      "  (np.linalg.norm(vec_a) * np.linalg.norm(vec_b))\n"
     ]
    },
    {
     "name": "stdout",
     "output_type": "stream",
     "text": [
      "reading word vectors from SectionAligmentData/wiki.ja.vec\n"
     ]
    },
    {
     "name": "stderr",
     "output_type": "stream",
     "text": [
      "/srv/home/dsaez/fastText_multilingual/fasttext.py:144: RuntimeWarning: invalid value encountered in true_divide\n",
      "  (np.linalg.norm(vec_a) * np.linalg.norm(vec_b))\n",
      "/srv/home/dsaez/fastText_multilingual/fasttext.py:144: RuntimeWarning: invalid value encountered in double_scalars\n",
      "  (np.linalg.norm(vec_a) * np.linalg.norm(vec_b))\n"
     ]
    },
    {
     "name": "stdout",
     "output_type": "stream",
     "text": [
      "reading word vectors from SectionAligmentData/wiki.ar.vec\n"
     ]
    },
    {
     "name": "stderr",
     "output_type": "stream",
     "text": [
      "/srv/home/dsaez/fastText_multilingual/fasttext.py:144: RuntimeWarning: invalid value encountered in true_divide\n",
      "  (np.linalg.norm(vec_a) * np.linalg.norm(vec_b))\n",
      "/srv/home/dsaez/fastText_multilingual/fasttext.py:144: RuntimeWarning: invalid value encountered in double_scalars\n",
      "  (np.linalg.norm(vec_a) * np.linalg.norm(vec_b))\n"
     ]
    },
    {
     "name": "stdout",
     "output_type": "stream",
     "text": [
      "reading word vectors from SectionAligmentData/wiki.es.vec\n"
     ]
    },
    {
     "name": "stderr",
     "output_type": "stream",
     "text": [
      "/srv/home/dsaez/fastText_multilingual/fasttext.py:144: RuntimeWarning: invalid value encountered in true_divide\n",
      "  (np.linalg.norm(vec_a) * np.linalg.norm(vec_b))\n",
      "/srv/home/dsaez/fastText_multilingual/fasttext.py:144: RuntimeWarning: invalid value encountered in double_scalars\n",
      "  (np.linalg.norm(vec_a) * np.linalg.norm(vec_b))\n"
     ]
    },
    {
     "name": "stdout",
     "output_type": "stream",
     "text": [
      "reading word vectors from SectionAligmentData/wiki.fr.vec\n"
     ]
    },
    {
     "name": "stderr",
     "output_type": "stream",
     "text": [
      "/srv/home/dsaez/fastText_multilingual/fasttext.py:144: RuntimeWarning: invalid value encountered in true_divide\n",
      "  (np.linalg.norm(vec_a) * np.linalg.norm(vec_b))\n",
      "/srv/home/dsaez/fastText_multilingual/fasttext.py:144: RuntimeWarning: invalid value encountered in double_scalars\n",
      "  (np.linalg.norm(vec_a) * np.linalg.norm(vec_b))\n"
     ]
    },
    {
     "name": "stdout",
     "output_type": "stream",
     "text": [
      "reading word vectors from SectionAligmentData/wiki.ja.vec\n"
     ]
    },
    {
     "name": "stderr",
     "output_type": "stream",
     "text": [
      "/srv/home/dsaez/fastText_multilingual/fasttext.py:144: RuntimeWarning: invalid value encountered in true_divide\n",
      "  (np.linalg.norm(vec_a) * np.linalg.norm(vec_b))\n",
      "/srv/home/dsaez/fastText_multilingual/fasttext.py:144: RuntimeWarning: invalid value encountered in double_scalars\n",
      "  (np.linalg.norm(vec_a) * np.linalg.norm(vec_b))\n"
     ]
    },
    {
     "name": "stdout",
     "output_type": "stream",
     "text": [
      "reading word vectors from SectionAligmentData/wiki.ar.vec\n"
     ]
    },
    {
     "name": "stderr",
     "output_type": "stream",
     "text": [
      "/srv/home/dsaez/fastText_multilingual/fasttext.py:144: RuntimeWarning: invalid value encountered in true_divide\n",
      "  (np.linalg.norm(vec_a) * np.linalg.norm(vec_b))\n",
      "/srv/home/dsaez/fastText_multilingual/fasttext.py:144: RuntimeWarning: invalid value encountered in double_scalars\n",
      "  (np.linalg.norm(vec_a) * np.linalg.norm(vec_b))\n"
     ]
    },
    {
     "name": "stdout",
     "output_type": "stream",
     "text": [
      "reading word vectors from SectionAligmentData/wiki.es.vec\n"
     ]
    },
    {
     "name": "stderr",
     "output_type": "stream",
     "text": [
      "/srv/home/dsaez/fastText_multilingual/fasttext.py:144: RuntimeWarning: invalid value encountered in true_divide\n",
      "  (np.linalg.norm(vec_a) * np.linalg.norm(vec_b))\n",
      "/srv/home/dsaez/fastText_multilingual/fasttext.py:144: RuntimeWarning: invalid value encountered in double_scalars\n",
      "  (np.linalg.norm(vec_a) * np.linalg.norm(vec_b))\n"
     ]
    },
    {
     "name": "stdout",
     "output_type": "stream",
     "text": [
      "reading word vectors from SectionAligmentData/wiki.ja.vec\n"
     ]
    },
    {
     "name": "stderr",
     "output_type": "stream",
     "text": [
      "/srv/home/dsaez/fastText_multilingual/fasttext.py:144: RuntimeWarning: invalid value encountered in true_divide\n",
      "  (np.linalg.norm(vec_a) * np.linalg.norm(vec_b))\n",
      "/srv/home/dsaez/fastText_multilingual/fasttext.py:144: RuntimeWarning: invalid value encountered in double_scalars\n",
      "  (np.linalg.norm(vec_a) * np.linalg.norm(vec_b))\n"
     ]
    },
    {
     "name": "stdout",
     "output_type": "stream",
     "text": [
      "reading word vectors from SectionAligmentData/wiki.ar.vec\n"
     ]
    },
    {
     "name": "stderr",
     "output_type": "stream",
     "text": [
      "/srv/home/dsaez/fastText_multilingual/fasttext.py:144: RuntimeWarning: invalid value encountered in true_divide\n",
      "  (np.linalg.norm(vec_a) * np.linalg.norm(vec_b))\n",
      "/srv/home/dsaez/fastText_multilingual/fasttext.py:144: RuntimeWarning: invalid value encountered in double_scalars\n",
      "  (np.linalg.norm(vec_a) * np.linalg.norm(vec_b))\n"
     ]
    },
    {
     "name": "stdout",
     "output_type": "stream",
     "text": [
      "reading word vectors from SectionAligmentData/wiki.ja.vec\n"
     ]
    },
    {
     "name": "stderr",
     "output_type": "stream",
     "text": [
      "/srv/home/dsaez/fastText_multilingual/fasttext.py:144: RuntimeWarning: invalid value encountered in true_divide\n",
      "  (np.linalg.norm(vec_a) * np.linalg.norm(vec_b))\n",
      "/srv/home/dsaez/fastText_multilingual/fasttext.py:144: RuntimeWarning: invalid value encountered in double_scalars\n",
      "  (np.linalg.norm(vec_a) * np.linalg.norm(vec_b))\n"
     ]
    }
   ],
   "source": [
    "import glob,os\n",
    "import os\n",
    "from itertools import product\n",
    "from fastText_multilingual.fasttext import FastVector\n",
    "import pandas as pd\n",
    "\n",
    "output = []\n",
    "\n",
    "vectors = sorted(glob.glob('SectionAligmentData/wiki.*.vec'), key=os.path.getsize) #sorted by size to load the largest files just once\n",
    "lang2 = ''\n",
    "while vectors:\n",
    "    lang1 = vectors.pop()\n",
    "    if lang1 == lang2:\n",
    "        lang1_dictionary = lang2_dictionary\n",
    "    else:\n",
    "        %time lang1_dictionary = FastVector(vector_file=lang1)\n",
    "    lang1_code = lang1.split('.')[1]\n",
    "    lang1_dictionary.apply_transform('fastText_multilingual/alignment_matrices/%s.txt' % lang1_code)\n",
    "    #secsLang1 = pd.read_csv('SectionAligmentData/%s.tsv' % lang1_code,'\\t')['source_title'].unique()\n",
    "    for lang2 in vectors:\n",
    "        lang2_dictionary = FastVector(vector_file=lang2)\n",
    "        lang2_code = lang2.split('.')[1]\n",
    "        lang2_dictionary.apply_transform('fastText_multilingual/alignment_matrices/%s.txt' % lang2_code)\n",
    "        secsLang2 = pd.read_csv('SectionAligmentData/%s.tsv' % lang2_code,'\\t')['source_title'].unique()\n",
    "        try:\n",
    "            secPairs = pd.read_pickle('resultsMapping-CoOcurrenceCountPandas/mapping_%s_%s.p' % (lang1_code,lang2_code))\n",
    "        except:\n",
    "            secPairs = pd.read_pickle('resultsMapping-CoOcurrenceCountPandas/mapping_%s_%s.p' % (lang2_code,lang1_code))\n",
    "        del(secPairs['count']) # we dont use the co ocurrence count.\n",
    "        secPairs['Distance'] = secPairs.apply(lambda row: fasttextDistance(row[lang1_code],row[lang2_code],lang1_dictionary,lang2_dictionary),axis=1)\n",
    "        secPairs.to_pickle('FastTextDistances/distances_%s_%s.p' %  (lang1_code,lang2_code))\n",
    "        \n"
   ]
  },
  {
   "cell_type": "code",
   "execution_count": 3,
   "metadata": {},
   "outputs": [],
   "source": [
    "x = lang1_dictionary"
   ]
  },
  {
   "cell_type": "code",
   "execution_count": 7,
   "metadata": {},
   "outputs": [],
   "source": [
    "lang1_dictionary = '121'"
   ]
  },
  {
   "cell_type": "code",
   "execution_count": 8,
   "metadata": {},
   "outputs": [
    {
     "data": {
      "text/plain": [
       "<fastText_multilingual.fasttext.FastVector at 0x7fbaa197f860>"
      ]
     },
     "execution_count": 8,
     "metadata": {},
     "output_type": "execute_result"
    }
   ],
   "source": [
    "x"
   ]
  },
  {
   "cell_type": "code",
   "execution_count": 27,
   "metadata": {},
   "outputs": [
    {
     "name": "stderr",
     "output_type": "stream",
     "text": [
      "/srv/home/dsaez/fastText_multilingual/fasttext.py:144: RuntimeWarning: invalid value encountered in double_scalars\n",
      "  (np.linalg.norm(vec_a) * np.linalg.norm(vec_b))\n",
      "/srv/home/dsaez/fastText_multilingual/fasttext.py:144: RuntimeWarning: invalid value encountered in true_divide\n",
      "  (np.linalg.norm(vec_a) * np.linalg.norm(vec_b))\n"
     ]
    }
   ],
   "source": [
    "        secPairs['Distance'] = secPairs.apply(lambda row: fasttextDistance(row[lang1_code],row[lang2_code],lang1_dictionary,lang2_dictionary),axis=1)\n"
   ]
  },
  {
   "cell_type": "code",
   "execution_count": 25,
   "metadata": {},
   "outputs": [
    {
     "data": {
      "text/plain": [
       "ja                               歴史\n",
       "en    Noted people from Saiwai Ward\n",
       "Name: 0, dtype: object"
      ]
     },
     "execution_count": 25,
     "metadata": {},
     "output_type": "execute_result"
    }
   ],
   "source": [
    "secPairs.iloc[0] \n"
   ]
  },
  {
   "cell_type": "code",
   "execution_count": 5,
   "metadata": {},
   "outputs": [],
   "source": [
    "import pandas as pd\n",
    "secPairs = pd.read_pickle('FastTextDistances/distances_%s_%s.p' % ('ru','fr'))"
   ]
  },
  {
   "cell_type": "code",
   "execution_count": 7,
   "metadata": {},
   "outputs": [
    {
     "data": {
      "text/html": [
       "<div>\n",
       "<style scoped>\n",
       "    .dataframe tbody tr th:only-of-type {\n",
       "        vertical-align: middle;\n",
       "    }\n",
       "\n",
       "    .dataframe tbody tr th {\n",
       "        vertical-align: top;\n",
       "    }\n",
       "\n",
       "    .dataframe thead th {\n",
       "        text-align: right;\n",
       "    }\n",
       "</style>\n",
       "<table border=\"1\" class=\"dataframe\">\n",
       "  <thead>\n",
       "    <tr style=\"text-align: right;\">\n",
       "      <th></th>\n",
       "      <th>ru</th>\n",
       "      <th>fr</th>\n",
       "      <th>Distance</th>\n",
       "    </tr>\n",
       "  </thead>\n",
       "  <tbody>\n",
       "    <tr>\n",
       "      <th>82456</th>\n",
       "      <td>Награды</td>\n",
       "      <td>[[Image:Judo pictogram.svg|30px]] Judo</td>\n",
       "      <td>0.258869</td>\n",
       "    </tr>\n",
       "    <tr>\n",
       "      <th>1208370</th>\n",
       "      <td>Награды</td>\n",
       "      <td>Judo</td>\n",
       "      <td>0.258869</td>\n",
       "    </tr>\n",
       "    <tr>\n",
       "      <th>1605044</th>\n",
       "      <td>История</td>\n",
       "      <td>Écluse et ascenseur à poissons</td>\n",
       "      <td>0.258089</td>\n",
       "    </tr>\n",
       "    <tr>\n",
       "      <th>1952552</th>\n",
       "      <td>Текст</td>\n",
       "      <td>Paroles et musique</td>\n",
       "      <td>0.255266</td>\n",
       "    </tr>\n",
       "    <tr>\n",
       "      <th>965743</th>\n",
       "      <td>История</td>\n",
       "      <td>Liste des comtes de Salona</td>\n",
       "      <td>0.250032</td>\n",
       "    </tr>\n",
       "    <tr>\n",
       "      <th>814764</th>\n",
       "      <td>Текст</td>\n",
       "      <td>Musique</td>\n",
       "      <td>0.249535</td>\n",
       "    </tr>\n",
       "    <tr>\n",
       "      <th>1590760</th>\n",
       "      <td>Олимпийские виды спорта</td>\n",
       "      <td>Bilan</td>\n",
       "      <td>0.249433</td>\n",
       "    </tr>\n",
       "    <tr>\n",
       "      <th>59172</th>\n",
       "      <td>Комментарии</td>\n",
       "      <td>Massacre</td>\n",
       "      <td>0.247148</td>\n",
       "    </tr>\n",
       "    <tr>\n",
       "      <th>1840108</th>\n",
       "      <td>Комментарии</td>\n",
       "      <td>Nationalisme</td>\n",
       "      <td>0.246348</td>\n",
       "    </tr>\n",
       "    <tr>\n",
       "      <th>565521</th>\n",
       "      <td>Критика</td>\n",
       "      <td>Église catholique romaine</td>\n",
       "      <td>0.244014</td>\n",
       "    </tr>\n",
       "    <tr>\n",
       "      <th>312876</th>\n",
       "      <td>Примечания</td>\n",
       "      <td>Par chanson</td>\n",
       "      <td>0.242927</td>\n",
       "    </tr>\n",
       "    <tr>\n",
       "      <th>591842</th>\n",
       "      <td>География</td>\n",
       "      <td>Localités</td>\n",
       "      <td>0.242824</td>\n",
       "    </tr>\n",
       "    <tr>\n",
       "      <th>392651</th>\n",
       "      <td>Примечания к песням</td>\n",
       "      <td>Musique</td>\n",
       "      <td>0.242055</td>\n",
       "    </tr>\n",
       "    <tr>\n",
       "      <th>1086853</th>\n",
       "      <td>Комментарии</td>\n",
       "      <td>Le massacre</td>\n",
       "      <td>0.241858</td>\n",
       "    </tr>\n",
       "    <tr>\n",
       "      <th>300819</th>\n",
       "      <td>Комментарии</td>\n",
       "      <td>César de Dioclétien</td>\n",
       "      <td>0.241233</td>\n",
       "    </tr>\n",
       "    <tr>\n",
       "      <th>765936</th>\n",
       "      <td>История</td>\n",
       "      <td>Liste des comtes de Buchan</td>\n",
       "      <td>0.241050</td>\n",
       "    </tr>\n",
       "    <tr>\n",
       "      <th>1291438</th>\n",
       "      <td>Текст</td>\n",
       "      <td>Réemploi dans la musique sacrée</td>\n",
       "      <td>0.240903</td>\n",
       "    </tr>\n",
       "    <tr>\n",
       "      <th>1322869</th>\n",
       "      <td>География</td>\n",
       "      <td>Localité</td>\n",
       "      <td>0.240686</td>\n",
       "    </tr>\n",
       "    <tr>\n",
       "      <th>243256</th>\n",
       "      <td>История</td>\n",
       "      <td>Péage</td>\n",
       "      <td>0.239528</td>\n",
       "    </tr>\n",
       "    <tr>\n",
       "      <th>2114436</th>\n",
       "      <td>Офицер короля</td>\n",
       "      <td>Postérité</td>\n",
       "      <td>0.239456</td>\n",
       "    </tr>\n",
       "    <tr>\n",
       "      <th>2173506</th>\n",
       "      <td>История</td>\n",
       "      <td>Deuxième série Stralis II (2007-2012)</td>\n",
       "      <td>0.238302</td>\n",
       "    </tr>\n",
       "    <tr>\n",
       "      <th>1355302</th>\n",
       "      <td>Текст</td>\n",
       "      <td>Versets de la sourate et traduction</td>\n",
       "      <td>0.237973</td>\n",
       "    </tr>\n",
       "    <tr>\n",
       "      <th>803948</th>\n",
       "      <td>Области применения</td>\n",
       "      <td>Détournement humoristique</td>\n",
       "      <td>0.236841</td>\n",
       "    </tr>\n",
       "    <tr>\n",
       "      <th>2088702</th>\n",
       "      <td>Символика</td>\n",
       "      <td>Jaïnisme</td>\n",
       "      <td>0.236689</td>\n",
       "    </tr>\n",
       "    <tr>\n",
       "      <th>1302107</th>\n",
       "      <td>История</td>\n",
       "      <td>Liste des baronnets et vicomtes Portman</td>\n",
       "      <td>0.234890</td>\n",
       "    </tr>\n",
       "    <tr>\n",
       "      <th>1721926</th>\n",
       "      <td>История</td>\n",
       "      <td>Liste des comtes de Besalú</td>\n",
       "      <td>0.234175</td>\n",
       "    </tr>\n",
       "    <tr>\n",
       "      <th>1816127</th>\n",
       "      <td>История</td>\n",
       "      <td>Liste des comtes de Radnor</td>\n",
       "      <td>0.233505</td>\n",
       "    </tr>\n",
       "    <tr>\n",
       "      <th>367195</th>\n",
       "      <td>Альтернатива</td>\n",
       "      <td>Techniques</td>\n",
       "      <td>0.233337</td>\n",
       "    </tr>\n",
       "    <tr>\n",
       "      <th>504649</th>\n",
       "      <td>История</td>\n",
       "      <td>Liste des rois de Pagan</td>\n",
       "      <td>0.233239</td>\n",
       "    </tr>\n",
       "    <tr>\n",
       "      <th>2227833</th>\n",
       "      <td>Итоги</td>\n",
       "      <td>Personnalités</td>\n",
       "      <td>0.232661</td>\n",
       "    </tr>\n",
       "    <tr>\n",
       "      <th>...</th>\n",
       "      <td>...</td>\n",
       "      <td>...</td>\n",
       "      <td>...</td>\n",
       "    </tr>\n",
       "    <tr>\n",
       "      <th>2219478</th>\n",
       "      <td>[[Ката]]</td>\n",
       "      <td>''Kihon''</td>\n",
       "      <td>NaN</td>\n",
       "    </tr>\n",
       "    <tr>\n",
       "      <th>2219814</th>\n",
       "      <td>[[Бронзовый век]]</td>\n",
       "      <td>{{-s-|VI|e}}</td>\n",
       "      <td>NaN</td>\n",
       "    </tr>\n",
       "    <tr>\n",
       "      <th>2220080</th>\n",
       "      <td>[[Навоийская область]]</td>\n",
       "      <td>Note(s)</td>\n",
       "      <td>NaN</td>\n",
       "    </tr>\n",
       "    <tr>\n",
       "      <th>2220195</th>\n",
       "      <td>[[Формула-1]]</td>\n",
       "      <td>[[Escrime]]</td>\n",
       "      <td>NaN</td>\n",
       "    </tr>\n",
       "    <tr>\n",
       "      <th>2221262</th>\n",
       "      <td>{{ВолейболЖ|DOM}}</td>\n",
       "      <td>{{Italie VBF}}</td>\n",
       "      <td>NaN</td>\n",
       "    </tr>\n",
       "    <tr>\n",
       "      <th>2221510</th>\n",
       "      <td>[[Android]]</td>\n",
       "      <td>[[Microsoft Windows]]</td>\n",
       "      <td>NaN</td>\n",
       "    </tr>\n",
       "    <tr>\n",
       "      <th>2221764</th>\n",
       "      <td>[[Персональный компьютер|PC]]</td>\n",
       "      <td>[[Amstrad CPC]]</td>\n",
       "      <td>NaN</td>\n",
       "    </tr>\n",
       "    <tr>\n",
       "      <th>2221867</th>\n",
       "      <td>[[Сомерсет]]</td>\n",
       "      <td>[[Grand Londres]]</td>\n",
       "      <td>NaN</td>\n",
       "    </tr>\n",
       "    <tr>\n",
       "      <th>2222193</th>\n",
       "      <td>1961—1964</td>\n",
       "      <td>2000</td>\n",
       "      <td>NaN</td>\n",
       "    </tr>\n",
       "    <tr>\n",
       "      <th>2222514</th>\n",
       "      <td>[[Гутии]]</td>\n",
       "      <td>[[Uruk]]</td>\n",
       "      <td>NaN</td>\n",
       "    </tr>\n",
       "    <tr>\n",
       "      <th>2223285</th>\n",
       "      <td>[[Российская империя]]</td>\n",
       "      <td>[[Football américain]]</td>\n",
       "      <td>NaN</td>\n",
       "    </tr>\n",
       "    <tr>\n",
       "      <th>2224254</th>\n",
       "      <td>[[Game Boy]]</td>\n",
       "      <td>[[Super Nintendo]]</td>\n",
       "      <td>NaN</td>\n",
       "    </tr>\n",
       "    <tr>\n",
       "      <th>2224305</th>\n",
       "      <td>[[Гелдерланд]]</td>\n",
       "      <td>{{Hollande-Septentrionale}}</td>\n",
       "      <td>NaN</td>\n",
       "    </tr>\n",
       "    <tr>\n",
       "      <th>2224479</th>\n",
       "      <td>[[Северный Брабант]]</td>\n",
       "      <td>{{Brabant-Septentrional}}</td>\n",
       "      <td>NaN</td>\n",
       "    </tr>\n",
       "    <tr>\n",
       "      <th>2224495</th>\n",
       "      <td>TZ2</td>\n",
       "      <td>TZ2</td>\n",
       "      <td>NaN</td>\n",
       "    </tr>\n",
       "    <tr>\n",
       "      <th>2224969</th>\n",
       "      <td>[[Cullumanobombus]]</td>\n",
       "      <td>[[Mendacibombus|''Bombus'' (''Mendacibombus'')]]</td>\n",
       "      <td>NaN</td>\n",
       "    </tr>\n",
       "    <tr>\n",
       "      <th>2227138</th>\n",
       "      <td>[[Верхнее Мбому]]</td>\n",
       "      <td>[[Haut-Mbomou]]</td>\n",
       "      <td>NaN</td>\n",
       "    </tr>\n",
       "    <tr>\n",
       "      <th>2227192</th>\n",
       "      <td>[[Кардифф]]</td>\n",
       "      <td>[[Ceredigion]]</td>\n",
       "      <td>NaN</td>\n",
       "    </tr>\n",
       "    <tr>\n",
       "      <th>2227685</th>\n",
       "      <td>См.также</td>\n",
       "      <td>''[[Kebab|Kebap]]''</td>\n",
       "      <td>NaN</td>\n",
       "    </tr>\n",
       "    <tr>\n",
       "      <th>2229891</th>\n",
       "      <td>[[Российская империя]]</td>\n",
       "      <td>[[Jeux olympiques]]</td>\n",
       "      <td>NaN</td>\n",
       "    </tr>\n",
       "    <tr>\n",
       "      <th>2230234</th>\n",
       "      <td>[[Омбелла-Мпоко]]</td>\n",
       "      <td>[[Haut-Mbomou]]</td>\n",
       "      <td>NaN</td>\n",
       "    </tr>\n",
       "    <tr>\n",
       "      <th>2231785</th>\n",
       "      <td>[[Melanobombus]]</td>\n",
       "      <td>[[Sibiricobombus|''Bombus'' (''Sibiricobombus'...</td>\n",
       "      <td>NaN</td>\n",
       "    </tr>\n",
       "    <tr>\n",
       "      <th>2233609</th>\n",
       "      <td>[[Xbox]]</td>\n",
       "      <td>0-9</td>\n",
       "      <td>NaN</td>\n",
       "    </tr>\n",
       "    <tr>\n",
       "      <th>2233684</th>\n",
       "      <td>[[Санга-Мбаэре]]</td>\n",
       "      <td>[[Basse-Kotto]]</td>\n",
       "      <td>NaN</td>\n",
       "    </tr>\n",
       "    <tr>\n",
       "      <th>2233736</th>\n",
       "      <td>[[Строительство]]</td>\n",
       "      <td>L’emploi</td>\n",
       "      <td>NaN</td>\n",
       "    </tr>\n",
       "    <tr>\n",
       "      <th>2234184</th>\n",
       "      <td>Губернаторы-владельцы Ньюфаундленда, 1610—1728</td>\n",
       "      <td>Gouverneurs-commodores (1729-1825)</td>\n",
       "      <td>NaN</td>\n",
       "    </tr>\n",
       "    <tr>\n",
       "      <th>2234573</th>\n",
       "      <td>[[Регби]]</td>\n",
       "      <td>[[Football]]</td>\n",
       "      <td>NaN</td>\n",
       "    </tr>\n",
       "    <tr>\n",
       "      <th>2234992</th>\n",
       "      <td>1970-е</td>\n",
       "      <td>1960s</td>\n",
       "      <td>NaN</td>\n",
       "    </tr>\n",
       "    <tr>\n",
       "      <th>2235174</th>\n",
       "      <td>[[1266 год]]</td>\n",
       "      <td>[[Royaume d'Arménie]]</td>\n",
       "      <td>NaN</td>\n",
       "    </tr>\n",
       "    <tr>\n",
       "      <th>2235551</th>\n",
       "      <td>Дресс-код</td>\n",
       "      <td>L'''Osservatore Romano''</td>\n",
       "      <td>NaN</td>\n",
       "    </tr>\n",
       "  </tbody>\n",
       "</table>\n",
       "<p>2235641 rows × 3 columns</p>\n",
       "</div>"
      ],
      "text/plain": [
       "                                                     ru  \\\n",
       "82456                                           Награды   \n",
       "1208370                                         Награды   \n",
       "1605044                                         История   \n",
       "1952552                                           Текст   \n",
       "965743                                          История   \n",
       "814764                                            Текст   \n",
       "1590760                         Олимпийские виды спорта   \n",
       "59172                                       Комментарии   \n",
       "1840108                                     Комментарии   \n",
       "565521                                          Критика   \n",
       "312876                                       Примечания   \n",
       "591842                                        География   \n",
       "392651                              Примечания к песням   \n",
       "1086853                                     Комментарии   \n",
       "300819                                      Комментарии   \n",
       "765936                                          История   \n",
       "1291438                                           Текст   \n",
       "1322869                                       География   \n",
       "243256                                          История   \n",
       "2114436                                   Офицер короля   \n",
       "2173506                                         История   \n",
       "1355302                                           Текст   \n",
       "803948                               Области применения   \n",
       "2088702                                       Символика   \n",
       "1302107                                         История   \n",
       "1721926                                         История   \n",
       "1816127                                         История   \n",
       "367195                                     Альтернатива   \n",
       "504649                                          История   \n",
       "2227833                                           Итоги   \n",
       "...                                                 ...   \n",
       "2219478                                        [[Ката]]   \n",
       "2219814                               [[Бронзовый век]]   \n",
       "2220080                          [[Навоийская область]]   \n",
       "2220195                                   [[Формула-1]]   \n",
       "2221262                               {{ВолейболЖ|DOM}}   \n",
       "2221510                                     [[Android]]   \n",
       "2221764                   [[Персональный компьютер|PC]]   \n",
       "2221867                                    [[Сомерсет]]   \n",
       "2222193                                       1961—1964   \n",
       "2222514                                       [[Гутии]]   \n",
       "2223285                          [[Российская империя]]   \n",
       "2224254                                    [[Game Boy]]   \n",
       "2224305                                  [[Гелдерланд]]   \n",
       "2224479                            [[Северный Брабант]]   \n",
       "2224495                                             TZ2   \n",
       "2224969                             [[Cullumanobombus]]   \n",
       "2227138                               [[Верхнее Мбому]]   \n",
       "2227192                                     [[Кардифф]]   \n",
       "2227685                                        См.также   \n",
       "2229891                          [[Российская империя]]   \n",
       "2230234                               [[Омбелла-Мпоко]]   \n",
       "2231785                                [[Melanobombus]]   \n",
       "2233609                                        [[Xbox]]   \n",
       "2233684                                [[Санга-Мбаэре]]   \n",
       "2233736                               [[Строительство]]   \n",
       "2234184  Губернаторы-владельцы Ньюфаундленда, 1610—1728   \n",
       "2234573                                       [[Регби]]   \n",
       "2234992                                          1970-е   \n",
       "2235174                                    [[1266 год]]   \n",
       "2235551                                       Дресс-код   \n",
       "\n",
       "                                                        fr  Distance  \n",
       "82456               [[Image:Judo pictogram.svg|30px]] Judo  0.258869  \n",
       "1208370                                               Judo  0.258869  \n",
       "1605044                     Écluse et ascenseur à poissons  0.258089  \n",
       "1952552                                 Paroles et musique  0.255266  \n",
       "965743                          Liste des comtes de Salona  0.250032  \n",
       "814764                                             Musique  0.249535  \n",
       "1590760                                              Bilan  0.249433  \n",
       "59172                                             Massacre  0.247148  \n",
       "1840108                                       Nationalisme  0.246348  \n",
       "565521                           Église catholique romaine  0.244014  \n",
       "312876                                         Par chanson  0.242927  \n",
       "591842                                           Localités  0.242824  \n",
       "392651                                             Musique  0.242055  \n",
       "1086853                                        Le massacre  0.241858  \n",
       "300819                                 César de Dioclétien  0.241233  \n",
       "765936                          Liste des comtes de Buchan  0.241050  \n",
       "1291438                    Réemploi dans la musique sacrée  0.240903  \n",
       "1322869                                           Localité  0.240686  \n",
       "243256                                               Péage  0.239528  \n",
       "2114436                                          Postérité  0.239456  \n",
       "2173506              Deuxième série Stralis II (2007-2012)  0.238302  \n",
       "1355302                Versets de la sourate et traduction  0.237973  \n",
       "803948                           Détournement humoristique  0.236841  \n",
       "2088702                                           Jaïnisme  0.236689  \n",
       "1302107            Liste des baronnets et vicomtes Portman  0.234890  \n",
       "1721926                         Liste des comtes de Besalú  0.234175  \n",
       "1816127                         Liste des comtes de Radnor  0.233505  \n",
       "367195                                          Techniques  0.233337  \n",
       "504649                             Liste des rois de Pagan  0.233239  \n",
       "2227833                                      Personnalités  0.232661  \n",
       "...                                                    ...       ...  \n",
       "2219478                                          ''Kihon''       NaN  \n",
       "2219814                                       {{-s-|VI|e}}       NaN  \n",
       "2220080                                            Note(s)       NaN  \n",
       "2220195                                        [[Escrime]]       NaN  \n",
       "2221262                                     {{Italie VBF}}       NaN  \n",
       "2221510                              [[Microsoft Windows]]       NaN  \n",
       "2221764                                    [[Amstrad CPC]]       NaN  \n",
       "2221867                                  [[Grand Londres]]       NaN  \n",
       "2222193                                               2000       NaN  \n",
       "2222514                                           [[Uruk]]       NaN  \n",
       "2223285                             [[Football américain]]       NaN  \n",
       "2224254                                 [[Super Nintendo]]       NaN  \n",
       "2224305                        {{Hollande-Septentrionale}}       NaN  \n",
       "2224479                          {{Brabant-Septentrional}}       NaN  \n",
       "2224495                                                TZ2       NaN  \n",
       "2224969   [[Mendacibombus|''Bombus'' (''Mendacibombus'')]]       NaN  \n",
       "2227138                                    [[Haut-Mbomou]]       NaN  \n",
       "2227192                                     [[Ceredigion]]       NaN  \n",
       "2227685                                ''[[Kebab|Kebap]]''       NaN  \n",
       "2229891                                [[Jeux olympiques]]       NaN  \n",
       "2230234                                    [[Haut-Mbomou]]       NaN  \n",
       "2231785  [[Sibiricobombus|''Bombus'' (''Sibiricobombus'...       NaN  \n",
       "2233609                                                0-9       NaN  \n",
       "2233684                                    [[Basse-Kotto]]       NaN  \n",
       "2233736                                           L’emploi       NaN  \n",
       "2234184                 Gouverneurs-commodores (1729-1825)       NaN  \n",
       "2234573                                       [[Football]]       NaN  \n",
       "2234992                                              1960s       NaN  \n",
       "2235174                              [[Royaume d'Arménie]]       NaN  \n",
       "2235551                           L'''Osservatore Romano''       NaN  \n",
       "\n",
       "[2235641 rows x 3 columns]"
      ]
     },
     "execution_count": 7,
     "metadata": {},
     "output_type": "execute_result"
    }
   ],
   "source": [
    "secPairs.sort_values('Distance',ascending=False)"
   ]
  },
  {
   "cell_type": "code",
   "execution_count": null,
   "metadata": {},
   "outputs": [],
   "source": []
  }
 ],
 "metadata": {
  "kernelspec": {
   "display_name": "Python 3",
   "language": "python",
   "name": "python3"
  },
  "language_info": {
   "codemirror_mode": {
    "name": "ipython",
    "version": 3
   },
   "file_extension": ".py",
   "mimetype": "text/x-python",
   "name": "python",
   "nbconvert_exporter": "python",
   "pygments_lexer": "ipython3",
   "version": "3.5.3"
  }
 },
 "nbformat": 4,
 "nbformat_minor": 2
}
