{
 "cells": [
  {
   "cell_type": "code",
   "execution_count": 1,
   "metadata": {},
   "outputs": [],
   "source": [
    "import pandas.io.sql as psql\n",
    "import pymysql\n"
   ]
  },
  {
   "cell_type": "code",
   "execution_count": 34,
   "metadata": {},
   "outputs": [],
   "source": [
    "COMMENT HERE TO RUN, THIS CAN TAKE COUPLE OF HOURS \n",
    "\n",
    "connection = pymysql.connect(host='analytics-store.eqiad.wmnet', \n",
    "                             db='wikidatawiki',\n",
    "                             read_default_file='/etc/mysql/conf.d/research-client.cnf',\n",
    "                             cursorclass=pymysql.cursors.DictCursor)\n",
    "\n",
    "sql = \"SELECT ips_item_id,ips_site_id,ips_site_page FROM wb_items_per_site\"\n",
    "df = psql.read_sql_query(sql, connection)\n",
    "df['ips_site_id'] = df.ips_site_id.str.decode('utf-8')\n",
    "df['ips_site_page'] = df.ips_site_page.str.decode('utf-8')\n",
    "df.to_pickle('wikidataItems.p')\n",
    "df.to_csv('wikidataItems.csv')"
   ]
  },
  {
   "cell_type": "code",
   "execution_count": 35,
   "metadata": {},
   "outputs": [],
   "source": [
    "!hadoop fs -put wikidataItems.csv"
   ]
  },
  {
   "cell_type": "code",
   "execution_count": 2,
   "metadata": {},
   "outputs": [],
   "source": [
    "from pyspark.sql.types import StructType, StructField, LongType\n",
    "from pyspark.sql.types import DoubleType, IntegerType, StringType\n",
    "\n",
    "schema = StructType([\n",
    "    StructField(\"index\", IntegerType()),\n",
    "    StructField(\"Qitem\", LongType()),\n",
    "    StructField(\"wiki\", StringType()),\n",
    "    StructField(\"page\", StringType())\n",
    "])"
   ]
  },
  {
   "cell_type": "code",
   "execution_count": 3,
   "metadata": {},
   "outputs": [],
   "source": [
    "pdf = spark.read.csv('wikidataItems.csv',schema=schema,header=True).select('Qitem','wiki','page')"
   ]
  },
  {
   "cell_type": "code",
   "execution_count": null,
   "metadata": {},
   "outputs": [],
   "source": [
    "pdf.write.saveAsTable('diego.WikiData')"
   ]
  },
  {
   "cell_type": "code",
   "execution_count": 26,
   "metadata": {},
   "outputs": [
    {
     "name": "stdout",
     "output_type": "stream",
     "text": [
      "+-------+-------+--------------------+\n",
      "|  Qitem|   wiki|                page|\n",
      "+-------+-------+--------------------+\n",
      "|3596065| abwiki|            Џьгьарда|\n",
      "|3596033| abwiki|                Аацы|\n",
      "| 620894| abwiki|          Агәы-Бедиа|\n",
      "| 621901| abwiki|               Ахәри|\n",
      "| 621898| abwiki|             Аҽгәара|\n",
      "| 621890| abwiki|             Баслахә|\n",
      "|3596028| abwiki|           Блабырхәа|\n",
      "| 620880| abwiki|             Галхәыч|\n",
      "| 621896| abwiki|               Гәдаа|\n",
      "|3596049| abwiki|Казан аметрополит...|\n",
      "| 621889| abwiki|              Кындыҕ|\n",
      "| 620887| abwiki|              Махәыр|\n",
      "| 620878| abwiki|    Тҟәарчал (ақыҭа)|\n",
      "|3596038| abwiki|               Уатаҧ|\n",
      "| 620884| abwiki|            Чхәарҭал|\n",
      "|4151202| abwiki|               Ҕәада|\n",
      "| 620882| abwiki|            Ҕәымрышь|\n",
      "| 620890| abwiki|               Ҵарча|\n",
      "|3596018| abwiki|                Ҷлоу|\n",
      "|  47467|acewiki|     Gunong Perkison|\n",
      "+-------+-------+--------------------+\n",
      "only showing top 20 rows\n",
      "\n"
     ]
    }
   ],
   "source": [
    "pdf.show()"
   ]
  },
  {
   "cell_type": "code",
   "execution_count": 32,
   "metadata": {},
   "outputs": [],
   "source": [
    "pdfFilter = pdf.where(pdf.wiki.isin(['arwiki','enwiki','ruwiki','eswiki','jawiki','frwiki']))"
   ]
  },
  {
   "cell_type": "code",
   "execution_count": 33,
   "metadata": {},
   "outputs": [
    {
     "name": "stdout",
     "output_type": "stream",
     "text": [
      "+-------+------+--------------------+\n",
      "|  Qitem|  wiki|                page|\n",
      "+-------+------+--------------------+\n",
      "|4545892|arwiki|10000 شجرة للوادي...|\n",
      "|4632674|arwiki|               28-بت|\n",
      "| 333962|arwiki|                   آ|\n",
      "|2876523|arwiki|            آث وغليس|\n",
      "|4120101|arwiki|                  آج|\n",
      "|2390046|arwiki|        آرثور ج. ماي|\n",
      "|4793689|arwiki|               آرمور|\n",
      "|4120414|arwiki|      آشور بيت سركيس|\n",
      "|2401317|arwiki|                آشير|\n",
      "|2615540|arwiki|            آل نهيان|\n",
      "| 356868|arwiki|           آلة كظومة|\n",
      "|2850512|arwiki|           آنا غريكا|\n",
      "|4118564|arwiki|        آي آر سي إكس|\n",
      "|1669566|arwiki|           آية الرجم|\n",
      "|2657293|arwiki|   آيت توزين (قبيلة)|\n",
      "|2876451|arwiki|            آيت عياش|\n",
      "|3147588|arwiki|           آيس بي بي|\n",
      "|4119053|arwiki|        أبان بن تغلب|\n",
      "|2839581|arwiki|أبجدية صوتية دولي...|\n",
      "|2839568|arwiki| أبجدية وطنية تشادية|\n",
      "+-------+------+--------------------+\n",
      "only showing top 20 rows\n",
      "\n"
     ]
    }
   ],
   "source": [
    "pdfFilter.show()"
   ]
  },
  {
   "cell_type": "code",
   "execution_count": 34,
   "metadata": {},
   "outputs": [],
   "source": [
    "pdfFilter.write.saveAsTable('diego.WikiDataSixLangs')"
   ]
  },
  {
   "cell_type": "code",
   "execution_count": 1,
   "metadata": {},
   "outputs": [],
   "source": [
    "#Retun wikidata Six Langs to File\n",
    "sixLangs = sqlContext.sql('SELECT CONCAT(\"Q\",Qitem), replace(wiki,\"wiki\",\"\"), page FROM diego.WikiDataSixLangs')"
   ]
  },
  {
   "cell_type": "code",
   "execution_count": 4,
   "metadata": {},
   "outputs": [],
   "source": [
    "sixLangs.write.csv('wikidataSixLanguages.csv.gz',sep='\\t',compression='gzip')"
   ]
  },
  {
   "cell_type": "code",
   "execution_count": 6,
   "metadata": {},
   "outputs": [
    {
     "data": {
      "text/plain": [
       "16600427"
      ]
     },
     "execution_count": 6,
     "metadata": {},
     "output_type": "execute_result"
    }
   ],
   "source": [
    "sixLangs.count()"
   ]
  },
  {
   "cell_type": "code",
   "execution_count": null,
   "metadata": {},
   "outputs": [],
   "source": []
  }
 ],
 "metadata": {
  "kernelspec": {
   "display_name": "PySpark - YARN (Xlarge)",
   "language": "python",
   "name": "spark_yarn_pyspark_diegotest"
  },
  "language_info": {
   "codemirror_mode": {
    "name": "ipython",
    "version": 3
   },
   "file_extension": ".py",
   "mimetype": "text/x-python",
   "name": "python",
   "nbconvert_exporter": "python",
   "pygments_lexer": "ipython3",
   "version": "3.5.3"
  }
 },
 "nbformat": 4,
 "nbformat_minor": 2
}
