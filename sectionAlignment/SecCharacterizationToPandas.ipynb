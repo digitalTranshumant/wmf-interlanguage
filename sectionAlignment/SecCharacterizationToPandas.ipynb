{
 "cells": [
  {
   "cell_type": "code",
   "execution_count": 1,
   "metadata": {},
   "outputs": [
    {
     "name": "stdout",
     "output_type": "stream",
     "text": [
      "SectionsCharacterization/sections-articles_fa.json\n",
      "CPU times: user 6.26 s, sys: 500 ms, total: 6.76 s\n",
      "Wall time: 6.75 s\n",
      "SectionsCharacterization/sections-articles_es.json\n",
      "CPU times: user 24.2 s, sys: 1.29 s, total: 25.4 s\n",
      "Wall time: 25.4 s\n",
      "SectionsCharacterization/sections-articles_en.json\n",
      "CPU times: user 1min 56s, sys: 5.2 s, total: 2min 1s\n",
      "Wall time: 2min 1s\n",
      "SectionsCharacterization/sections-articles_ru.json\n",
      "CPU times: user 29.3 s, sys: 196 ms, total: 29.5 s\n",
      "Wall time: 29.5 s\n",
      "SectionsCharacterization/sections-articles_ja.json\n",
      "CPU times: user 28.2 s, sys: 244 ms, total: 28.4 s\n",
      "Wall time: 28.4 s\n",
      "SectionsCharacterization/sections-articles_fr.json\n",
      "CPU times: user 36.5 s, sys: 348 ms, total: 36.8 s\n",
      "Wall time: 36.8 s\n",
      "SectionsCharacterization/sections-articles_ar.json\n",
      "CPU times: user 12 s, sys: 120 ms, total: 12.1 s\n",
      "Wall time: 12.1 s\n"
     ]
    }
   ],
   "source": [
    "import glob\n",
    "import pandas as pd\n",
    "\n",
    "for data in glob.glob('SectionsCharacterization/*json'):\n",
    "    print(data)\n",
    "    %time df = pd.read_json(data,orient='index')\n",
    "    df.sort_values('TotalCount',ascending=False,inplace=True)\n",
    "    df['rank'] = df['TotalCount'].rank(ascending=False)\n",
    "    df.to_pickle(data[:-4]+'p')"
   ]
  },
  {
   "cell_type": "code",
   "execution_count": null,
   "metadata": {},
   "outputs": [],
   "source": []
  }
 ],
 "metadata": {
  "kernelspec": {
   "display_name": "Python 3",
   "language": "python",
   "name": "python3"
  },
  "language_info": {
   "codemirror_mode": {
    "name": "ipython",
    "version": 3
   },
   "file_extension": ".py",
   "mimetype": "text/x-python",
   "name": "python",
   "nbconvert_exporter": "python",
   "pygments_lexer": "ipython3",
   "version": "3.5.3"
  }
 },
 "nbformat": 4,
 "nbformat_minor": 2
}
