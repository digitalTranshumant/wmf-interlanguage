{
 "cells": [
  {
   "cell_type": "code",
   "execution_count": 1,
   "metadata": {},
   "outputs": [],
   "source": [
    "#Reading resultsMapping-CoOcurrenceCountPandas (created by stat1006:PairOfLangs-JustSections-FinalExperiments-CoOcurrenceCount-Pandas.py )\n",
    "#Converting freq to tfIdf"
   ]
  },
  {
   "cell_type": "code",
   "execution_count": 2,
   "metadata": {},
   "outputs": [],
   "source": [
    "import pandas,glob\n",
    "import numpy as np"
   ]
  },
  {
   "cell_type": "code",
   "execution_count": 3,
   "metadata": {},
   "outputs": [],
   "source": [
    "def tfIdf(tf,df,dl,N):\n",
    "    ''' TfIdf Normalized by doc lenght\n",
    "        tf: term frec\n",
    "        df: doc frec\n",
    "        dl: doc Lenght (number of words in the document)\n",
    "        N: number of documents'''\n",
    "    tfIDF = (tf/dl) * np.log(N/df) \n",
    "    return tfIDF\n",
    "\n",
    "def tfidfOnDf(pdf,langX,langY):\n",
    "    '''\n",
    "    Take langX as documents and LanY as words\n",
    "    pdf : pandas dataframe with count ,lang1,lang2    \n",
    "    '''\n",
    "    docLen = df[['count',langX]].groupby(langX).agg({'count': np.sum})['count']\n",
    "    docFrec =df[langX].value_counts()\n",
    "    docLenDict = docLen.to_dict() #using dict is 30% faster than query the pandas series\n",
    "    docFrecDict = docFrec.to_dict()\n",
    "    N = len(docFrec)   \n",
    "    pdf[langY+'_tfidf']  =pdf.apply(lambda row: tfIdf(row['count'],docFrecDict[row[langX]],docLenDict[row[langX]],N),axis=1)\n",
    "    return pdf\n",
    "    "
   ]
  },
  {
   "cell_type": "code",
   "execution_count": 6,
   "metadata": {},
   "outputs": [
    {
     "name": "stdout",
     "output_type": "stream",
     "text": [
      "resultsMapping-CoOcurrenceCountPandas/mapping_fr_en.p\n",
      "CPU times: user 3min 13s, sys: 1.31 s, total: 3min 15s\n",
      "Wall time: 3min 15s\n",
      "CPU times: user 3min 13s, sys: 832 ms, total: 3min 14s\n",
      "Wall time: 3min 14s\n",
      "resultsMapping-CoOcurrenceCountPandas/mapping_ar_en.p\n",
      "CPU times: user 1min 6s, sys: 328 ms, total: 1min 7s\n",
      "Wall time: 1min 7s\n",
      "CPU times: user 1min 3s, sys: 208 ms, total: 1min 3s\n",
      "Wall time: 1min 3s\n",
      "resultsMapping-CoOcurrenceCountPandas/mapping_fr_ja.p\n",
      "CPU times: user 1min 7s, sys: 272 ms, total: 1min 7s\n",
      "Wall time: 1min 7s\n",
      "CPU times: user 1min 10s, sys: 144 ms, total: 1min 10s\n",
      "Wall time: 1min 10s\n",
      "resultsMapping-CoOcurrenceCountPandas/mapping_ar_es.p\n",
      "CPU times: user 29.1 s, sys: 40 ms, total: 29.2 s\n",
      "Wall time: 29.2 s\n",
      "CPU times: user 29.7 s, sys: 24 ms, total: 29.8 s\n",
      "Wall time: 29.8 s\n",
      "resultsMapping-CoOcurrenceCountPandas/mapping_ru_en.p\n",
      "CPU times: user 2min 39s, sys: 1.38 s, total: 2min 40s\n",
      "Wall time: 2min 40s\n",
      "CPU times: user 2min 36s, sys: 504 ms, total: 2min 36s\n",
      "Wall time: 2min 36s\n",
      "resultsMapping-CoOcurrenceCountPandas/mapping_ru_fr.p\n",
      "CPU times: user 1min 28s, sys: 236 ms, total: 1min 28s\n",
      "Wall time: 1min 28s\n",
      "CPU times: user 1min 28s, sys: 116 ms, total: 1min 28s\n",
      "Wall time: 1min 28s\n",
      "resultsMapping-CoOcurrenceCountPandas/mapping_ja_es.p\n",
      "CPU times: user 57.2 s, sys: 68 ms, total: 57.2 s\n",
      "Wall time: 57.2 s\n",
      "CPU times: user 54.3 s, sys: 104 ms, total: 54.4 s\n",
      "Wall time: 54.4 s\n",
      "resultsMapping-CoOcurrenceCountPandas/mapping_fr_es.p\n",
      "CPU times: user 1min 23s, sys: 220 ms, total: 1min 23s\n",
      "Wall time: 1min 23s\n",
      "CPU times: user 1min 26s, sys: 1.54 s, total: 1min 28s\n",
      "Wall time: 1min 28s\n",
      "resultsMapping-CoOcurrenceCountPandas/mapping_fr_ar.p\n",
      "CPU times: user 35.3 s, sys: 36 ms, total: 35.3 s\n",
      "Wall time: 35.3 s\n",
      "CPU times: user 39.6 s, sys: 52 ms, total: 39.7 s\n",
      "Wall time: 39.7 s\n",
      "resultsMapping-CoOcurrenceCountPandas/mapping_ru_es.p\n",
      "CPU times: user 1min 9s, sys: 648 ms, total: 1min 10s\n",
      "Wall time: 1min 10s\n",
      "CPU times: user 1min 9s, sys: 172 ms, total: 1min 9s\n",
      "Wall time: 1min 9s\n",
      "resultsMapping-CoOcurrenceCountPandas/mapping_ru_ja.p\n",
      "CPU times: user 1min 8s, sys: 120 ms, total: 1min 8s\n",
      "Wall time: 1min 8s\n",
      "CPU times: user 1min, sys: 76 ms, total: 1min\n",
      "Wall time: 1min\n",
      "resultsMapping-CoOcurrenceCountPandas/mapping_en_es.p\n",
      "CPU times: user 2min 17s, sys: 556 ms, total: 2min 18s\n",
      "Wall time: 2min 18s\n",
      "CPU times: user 2min 20s, sys: 328 ms, total: 2min 21s\n",
      "Wall time: 2min 21s\n",
      "resultsMapping-CoOcurrenceCountPandas/mapping_ru_ar.p\n",
      "CPU times: user 31.9 s, sys: 20 ms, total: 31.9 s\n",
      "Wall time: 31.9 s\n",
      "CPU times: user 34.1 s, sys: 16 ms, total: 34.1 s\n",
      "Wall time: 34.1 s\n",
      "resultsMapping-CoOcurrenceCountPandas/mapping_ja_ar.p\n",
      "CPU times: user 28.2 s, sys: 52 ms, total: 28.2 s\n",
      "Wall time: 28.2 s\n",
      "CPU times: user 29.5 s, sys: 8 ms, total: 29.5 s\n",
      "Wall time: 29.5 s\n",
      "resultsMapping-CoOcurrenceCountPandas/mapping_ja_en.p\n",
      "CPU times: user 2min 9s, sys: 320 ms, total: 2min 10s\n",
      "Wall time: 2min 10s\n",
      "CPU times: user 2min 17s, sys: 448 ms, total: 2min 17s\n",
      "Wall time: 2min 17s\n",
      "resultsMapping-CoOcurrenceCountPandas/mapping_es_en.p\n",
      "CPU times: user 2min 24s, sys: 628 ms, total: 2min 25s\n",
      "Wall time: 2min 25s\n",
      "CPU times: user 2min 25s, sys: 300 ms, total: 2min 26s\n",
      "Wall time: 2min 26s\n"
     ]
    }
   ],
   "source": [
    "inputDir = 'resultsMapping-CoOcurrenceCountPandas/'\n",
    "for g in glob.glob(inputDir+'*'):\n",
    "    print(g)\n",
    "    df = pandas.read_pickle(g)\n",
    "    lang1,lang2 = df.columns[1], df.columns[2]\n",
    "    %time output =tfidfOnDf(df,lang1,lang2)\n",
    "    %time output =tfidfOnDf(df,lang2,lang1)\n",
    "    output.to_pickle('resultsMappingTfIdf/TfIDF_%s_%s.p' % (lang1,lang2))\n",
    "    # This second part it's not needed because the files in the inputDir are duplicated (en_es and es_en, have same info)\n",
    "    output.to_pickle('resultsMappingTfIdf/TfIDF_%s_%s.p' % (lang2,lang1))"
   ]
  },
  {
   "cell_type": "code",
   "execution_count": 7,
   "metadata": {},
   "outputs": [
    {
     "data": {
      "text/plain": [
       "count                                         247588\n",
       "es          ７Cs Compass Model en el ''co-marketing''\n",
       "en                                             遺跡・逸話\n",
       "en_tfidf                                     12.5837\n",
       "es_tfidf                                     12.8127\n",
       "dtype: object"
      ]
     },
     "execution_count": 7,
     "metadata": {},
     "output_type": "execute_result"
    }
   ],
   "source": [
    "output.max()"
   ]
  },
  {
   "cell_type": "code",
   "execution_count": null,
   "metadata": {},
   "outputs": [],
   "source": []
  }
 ],
 "metadata": {
  "kernelspec": {
   "display_name": "Python 3",
   "language": "python",
   "name": "python3"
  },
  "language_info": {
   "codemirror_mode": {
    "name": "ipython",
    "version": 3
   },
   "file_extension": ".py",
   "mimetype": "text/x-python",
   "name": "python",
   "nbconvert_exporter": "python",
   "pygments_lexer": "ipython3",
   "version": "3.5.3"
  }
 },
 "nbformat": 4,
 "nbformat_minor": 2
}
