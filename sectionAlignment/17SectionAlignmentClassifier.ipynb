{
 "cells": [
  {
   "cell_type": "markdown",
   "metadata": {},
   "source": [
    "## Load and Explore  Labels Data"
   ]
  },
  {
   "cell_type": "code",
   "execution_count": 1,
   "metadata": {},
   "outputs": [],
   "source": [
    "#Import labeled data downloaded from : http://gapfinder-tools.wmflabs.org/admin/sectionalignment/userinput/\n",
    "#A copy of can be downlodaded from: ADD GITHUB LINK HERE\n",
    "import pandas as pd\n",
    "\n",
    "labels = pd.read_csv('SectionTranslationLabels.tsv',sep='\\t')\n",
    "labels['destination_title'] = labels.destination_title.map(eval) #transform string to list"
   ]
  },
  {
   "cell_type": "code",
   "execution_count": 59,
   "metadata": {},
   "outputs": [
    {
     "name": "stdout",
     "output_type": "stream",
     "text": [
      "ar en 544\n",
      "ar es 87\n",
      "ar fr 276\n",
      "ar ja 11\n",
      "ar ru 27\n",
      "en ar 473\n",
      "en es 999\n",
      "en fr 999\n",
      "en ja 698\n",
      "en ru 947\n",
      "es ar 3\n",
      "es en 526\n",
      "es fr 500\n",
      "es ja 1\n",
      "es ru 19\n",
      "fr ar 42\n",
      "fr en 529\n",
      "fr es 142\n",
      "fr ja 76\n",
      "fr ru 52\n",
      "ja en 100\n",
      "ja es 10\n",
      "ja fr 77\n",
      "ru ar 3\n",
      "ru en 418\n",
      "ru es 18\n",
      "ru fr 332\n",
      "ru ja 37\n"
     ]
    }
   ],
   "source": [
    "total = 0\n",
    "for src,data in labels.groupby(labels.source_lang):\n",
    "    for dest,data2 in data.groupby('destination_language'):\n",
    "        print(src,dest,len(data2))\n",
    "        total+=len(data2)"
   ]
  },
  {
   "cell_type": "code",
   "execution_count": 3,
   "metadata": {},
   "outputs": [
    {
     "data": {
      "text/html": [
       "<div>\n",
       "<style scoped>\n",
       "    .dataframe tbody tr th:only-of-type {\n",
       "        vertical-align: middle;\n",
       "    }\n",
       "\n",
       "    .dataframe tbody tr th {\n",
       "        vertical-align: top;\n",
       "    }\n",
       "\n",
       "    .dataframe thead th {\n",
       "        text-align: right;\n",
       "    }\n",
       "</style>\n",
       "<table border=\"1\" class=\"dataframe\">\n",
       "  <thead>\n",
       "    <tr style=\"text-align: right;\">\n",
       "      <th></th>\n",
       "      <th>source_lang</th>\n",
       "      <th>source_title</th>\n",
       "      <th>destination_language</th>\n",
       "      <th>destination_title</th>\n",
       "      <th>user_session_key</th>\n",
       "    </tr>\n",
       "  </thead>\n",
       "  <tbody>\n",
       "    <tr>\n",
       "      <th>0</th>\n",
       "      <td>ru</td>\n",
       "      <td>Родились</td>\n",
       "      <td>ja</td>\n",
       "      <td>[出自]</td>\n",
       "      <td>1hl2ay9d01lek5piry4jjqvj377xwmh7</td>\n",
       "    </tr>\n",
       "    <tr>\n",
       "      <th>1</th>\n",
       "      <td>ru</td>\n",
       "      <td>Этимология</td>\n",
       "      <td>ja</td>\n",
       "      <td>[由来]</td>\n",
       "      <td>1hl2ay9d01lek5piry4jjqvj377xwmh7</td>\n",
       "    </tr>\n",
       "    <tr>\n",
       "      <th>2</th>\n",
       "      <td>ru</td>\n",
       "      <td>Комментарии</td>\n",
       "      <td>ja</td>\n",
       "      <td>[註釈]</td>\n",
       "      <td>1hl2ay9d01lek5piry4jjqvj377xwmh7</td>\n",
       "    </tr>\n",
       "    <tr>\n",
       "      <th>3</th>\n",
       "      <td>ru</td>\n",
       "      <td>Культура</td>\n",
       "      <td>ja</td>\n",
       "      <td>[文化]</td>\n",
       "      <td>1hl2ay9d01lek5piry4jjqvj377xwmh7</td>\n",
       "    </tr>\n",
       "    <tr>\n",
       "      <th>4</th>\n",
       "      <td>ru</td>\n",
       "      <td>Источник</td>\n",
       "      <td>ja</td>\n",
       "      <td>[出典]</td>\n",
       "      <td>1hl2ay9d01lek5piry4jjqvj377xwmh7</td>\n",
       "    </tr>\n",
       "    <tr>\n",
       "      <th>5</th>\n",
       "      <td>ru</td>\n",
       "      <td>Турнирная таблица</td>\n",
       "      <td>ja</td>\n",
       "      <td>[順位表]</td>\n",
       "      <td>1hl2ay9d01lek5piry4jjqvj377xwmh7</td>\n",
       "    </tr>\n",
       "    <tr>\n",
       "      <th>6</th>\n",
       "      <td>ru</td>\n",
       "      <td>Медалисты</td>\n",
       "      <td>ja</td>\n",
       "      <td>[受賞者, メダリスト]</td>\n",
       "      <td>1hl2ay9d01lek5piry4jjqvj377xwmh7</td>\n",
       "    </tr>\n",
       "    <tr>\n",
       "      <th>7</th>\n",
       "      <td>ru</td>\n",
       "      <td>Города-побратимы</td>\n",
       "      <td>ja</td>\n",
       "      <td>[姉妹都市]</td>\n",
       "      <td>1hl2ay9d01lek5piry4jjqvj377xwmh7</td>\n",
       "    </tr>\n",
       "    <tr>\n",
       "      <th>8</th>\n",
       "      <td>ru</td>\n",
       "      <td>Улицы</td>\n",
       "      <td>ja</td>\n",
       "      <td>[道路, 通り]</td>\n",
       "      <td>1hl2ay9d01lek5piry4jjqvj377xwmh7</td>\n",
       "    </tr>\n",
       "    <tr>\n",
       "      <th>9</th>\n",
       "      <td>ru</td>\n",
       "      <td>Расположение</td>\n",
       "      <td>ja</td>\n",
       "      <td>[位置, 場所]</td>\n",
       "      <td>1hl2ay9d01lek5piry4jjqvj377xwmh7</td>\n",
       "    </tr>\n",
       "    <tr>\n",
       "      <th>10</th>\n",
       "      <td>ru</td>\n",
       "      <td>Предыстория</td>\n",
       "      <td>ja</td>\n",
       "      <td>[先史時代]</td>\n",
       "      <td>1hl2ay9d01lek5piry4jjqvj377xwmh7</td>\n",
       "    </tr>\n",
       "    <tr>\n",
       "      <th>11</th>\n",
       "      <td>ru</td>\n",
       "      <td>Публикации</td>\n",
       "      <td>ja</td>\n",
       "      <td>[書籍]</td>\n",
       "      <td>1hl2ay9d01lek5piry4jjqvj377xwmh7</td>\n",
       "    </tr>\n",
       "    <tr>\n",
       "      <th>12</th>\n",
       "      <td>ru</td>\n",
       "      <td>Климат</td>\n",
       "      <td>ja</td>\n",
       "      <td>[気候]</td>\n",
       "      <td>1hl2ay9d01lek5piry4jjqvj377xwmh7</td>\n",
       "    </tr>\n",
       "    <tr>\n",
       "      <th>13</th>\n",
       "      <td>ru</td>\n",
       "      <td>Награды и номинации</td>\n",
       "      <td>ja</td>\n",
       "      <td>[受賞とノミネート]</td>\n",
       "      <td>1hl2ay9d01lek5piry4jjqvj377xwmh7</td>\n",
       "    </tr>\n",
       "    <tr>\n",
       "      <th>14</th>\n",
       "      <td>ru</td>\n",
       "      <td>Награды и премии</td>\n",
       "      <td>ja</td>\n",
       "      <td>[受賞歴]</td>\n",
       "      <td>1hl2ay9d01lek5piry4jjqvj377xwmh7</td>\n",
       "    </tr>\n",
       "    <tr>\n",
       "      <th>15</th>\n",
       "      <td>ru</td>\n",
       "      <td>Сочинения</td>\n",
       "      <td>ja</td>\n",
       "      <td>[作品, 作曲]</td>\n",
       "      <td>1hl2ay9d01lek5piry4jjqvj377xwmh7</td>\n",
       "    </tr>\n",
       "    <tr>\n",
       "      <th>16</th>\n",
       "      <td>ru</td>\n",
       "      <td>Инфраструктура</td>\n",
       "      <td>ja</td>\n",
       "      <td>[施設]</td>\n",
       "      <td>1hl2ay9d01lek5piry4jjqvj377xwmh7</td>\n",
       "    </tr>\n",
       "    <tr>\n",
       "      <th>17</th>\n",
       "      <td>ru</td>\n",
       "      <td>Клубная карьера</td>\n",
       "      <td>ja</td>\n",
       "      <td>[所属クラブ]</td>\n",
       "      <td>1hl2ay9d01lek5piry4jjqvj377xwmh7</td>\n",
       "    </tr>\n",
       "    <tr>\n",
       "      <th>18</th>\n",
       "      <td>ru</td>\n",
       "      <td>Состав</td>\n",
       "      <td>ja</td>\n",
       "      <td>[構成]</td>\n",
       "      <td>1hl2ay9d01lek5piry4jjqvj377xwmh7</td>\n",
       "    </tr>\n",
       "    <tr>\n",
       "      <th>19</th>\n",
       "      <td>ru</td>\n",
       "      <td>Дискография</td>\n",
       "      <td>ja</td>\n",
       "      <td>[ディスコグラフィ]</td>\n",
       "      <td>1hl2ay9d01lek5piry4jjqvj377xwmh7</td>\n",
       "    </tr>\n",
       "    <tr>\n",
       "      <th>20</th>\n",
       "      <td>ru</td>\n",
       "      <td>Интересные факты</td>\n",
       "      <td>ja</td>\n",
       "      <td>[逸話]</td>\n",
       "      <td>1hl2ay9d01lek5piry4jjqvj377xwmh7</td>\n",
       "    </tr>\n",
       "    <tr>\n",
       "      <th>21</th>\n",
       "      <td>ru</td>\n",
       "      <td>Фильмография</td>\n",
       "      <td>ja</td>\n",
       "      <td>[映像作品]</td>\n",
       "      <td>1hl2ay9d01lek5piry4jjqvj377xwmh7</td>\n",
       "    </tr>\n",
       "    <tr>\n",
       "      <th>22</th>\n",
       "      <td>ru</td>\n",
       "      <td>Демография</td>\n",
       "      <td>ja</td>\n",
       "      <td>[人口統計]</td>\n",
       "      <td>1hl2ay9d01lek5piry4jjqvj377xwmh7</td>\n",
       "    </tr>\n",
       "    <tr>\n",
       "      <th>23</th>\n",
       "      <td>ru</td>\n",
       "      <td>Семья</td>\n",
       "      <td>ja</td>\n",
       "      <td>[家族・親族]</td>\n",
       "      <td>1hl2ay9d01lek5piry4jjqvj377xwmh7</td>\n",
       "    </tr>\n",
       "    <tr>\n",
       "      <th>24</th>\n",
       "      <td>ru</td>\n",
       "      <td>В ролях</td>\n",
       "      <td>ja</td>\n",
       "      <td>[配役]</td>\n",
       "      <td>1hl2ay9d01lek5piry4jjqvj377xwmh7</td>\n",
       "    </tr>\n",
       "    <tr>\n",
       "      <th>25</th>\n",
       "      <td>ru</td>\n",
       "      <td>Карьера</td>\n",
       "      <td>ja</td>\n",
       "      <td>[職歴]</td>\n",
       "      <td>1hl2ay9d01lek5piry4jjqvj377xwmh7</td>\n",
       "    </tr>\n",
       "    <tr>\n",
       "      <th>26</th>\n",
       "      <td>ru</td>\n",
       "      <td>Достопримечательности</td>\n",
       "      <td>ja</td>\n",
       "      <td>[名所・旧跡]</td>\n",
       "      <td>1hl2ay9d01lek5piry4jjqvj377xwmh7</td>\n",
       "    </tr>\n",
       "    <tr>\n",
       "      <th>27</th>\n",
       "      <td>ru</td>\n",
       "      <td>Экономика</td>\n",
       "      <td>ja</td>\n",
       "      <td>[経済]</td>\n",
       "      <td>1hl2ay9d01lek5piry4jjqvj377xwmh7</td>\n",
       "    </tr>\n",
       "    <tr>\n",
       "      <th>28</th>\n",
       "      <td>ru</td>\n",
       "      <td>Сюжет</td>\n",
       "      <td>ja</td>\n",
       "      <td>[あらすじ]</td>\n",
       "      <td>1hl2ay9d01lek5piry4jjqvj377xwmh7</td>\n",
       "    </tr>\n",
       "    <tr>\n",
       "      <th>29</th>\n",
       "      <td>ru</td>\n",
       "      <td>Ссылки</td>\n",
       "      <td>ja</td>\n",
       "      <td>[参考文献]</td>\n",
       "      <td>1hl2ay9d01lek5piry4jjqvj377xwmh7</td>\n",
       "    </tr>\n",
       "    <tr>\n",
       "      <th>...</th>\n",
       "      <td>...</td>\n",
       "      <td>...</td>\n",
       "      <td>...</td>\n",
       "      <td>...</td>\n",
       "      <td>...</td>\n",
       "    </tr>\n",
       "    <tr>\n",
       "      <th>7916</th>\n",
       "      <td>ar</td>\n",
       "      <td>الموئل والانتشار</td>\n",
       "      <td>en</td>\n",
       "      <td>[References]</td>\n",
       "      <td>cvau35xx3nzj5scpw355zasxcbjet2eq</td>\n",
       "    </tr>\n",
       "    <tr>\n",
       "      <th>7917</th>\n",
       "      <td>ar</td>\n",
       "      <td>ملاحظات</td>\n",
       "      <td>en</td>\n",
       "      <td>[Notes]</td>\n",
       "      <td>NaN</td>\n",
       "    </tr>\n",
       "    <tr>\n",
       "      <th>7918</th>\n",
       "      <td>ar</td>\n",
       "      <td>اقرأ أيضا</td>\n",
       "      <td>en</td>\n",
       "      <td>[Further reading, Further reading, Further rea...</td>\n",
       "      <td>NaN</td>\n",
       "    </tr>\n",
       "    <tr>\n",
       "      <th>7919</th>\n",
       "      <td>ar</td>\n",
       "      <td>الأعمال</td>\n",
       "      <td>en</td>\n",
       "      <td>[Works]</td>\n",
       "      <td>NaN</td>\n",
       "    </tr>\n",
       "    <tr>\n",
       "      <th>7920</th>\n",
       "      <td>ar</td>\n",
       "      <td>إحصائيات</td>\n",
       "      <td>en</td>\n",
       "      <td>[Statistics]</td>\n",
       "      <td>NaN</td>\n",
       "    </tr>\n",
       "    <tr>\n",
       "      <th>7921</th>\n",
       "      <td>ar</td>\n",
       "      <td>جوائز</td>\n",
       "      <td>en</td>\n",
       "      <td>[Prizes]</td>\n",
       "      <td>NaN</td>\n",
       "    </tr>\n",
       "    <tr>\n",
       "      <th>7922</th>\n",
       "      <td>ar</td>\n",
       "      <td>أعماله</td>\n",
       "      <td>en</td>\n",
       "      <td>[Works]</td>\n",
       "      <td>NaN</td>\n",
       "    </tr>\n",
       "    <tr>\n",
       "      <th>7923</th>\n",
       "      <td>ar</td>\n",
       "      <td>مؤلفاته</td>\n",
       "      <td>en</td>\n",
       "      <td>[Bibliography]</td>\n",
       "      <td>NaN</td>\n",
       "    </tr>\n",
       "    <tr>\n",
       "      <th>7924</th>\n",
       "      <td>ar</td>\n",
       "      <td>تاريخ</td>\n",
       "      <td>en</td>\n",
       "      <td>[History]</td>\n",
       "      <td>NaN</td>\n",
       "    </tr>\n",
       "    <tr>\n",
       "      <th>7925</th>\n",
       "      <td>ar</td>\n",
       "      <td>القصة</td>\n",
       "      <td>en</td>\n",
       "      <td>[Story]</td>\n",
       "      <td>NaN</td>\n",
       "    </tr>\n",
       "    <tr>\n",
       "      <th>7926</th>\n",
       "      <td>ar</td>\n",
       "      <td>الميداليات</td>\n",
       "      <td>en</td>\n",
       "      <td>[Medals]</td>\n",
       "      <td>NaN</td>\n",
       "    </tr>\n",
       "    <tr>\n",
       "      <th>7927</th>\n",
       "      <td>ar</td>\n",
       "      <td>السكان</td>\n",
       "      <td>en</td>\n",
       "      <td>[Population]</td>\n",
       "      <td>NaN</td>\n",
       "    </tr>\n",
       "    <tr>\n",
       "      <th>7928</th>\n",
       "      <td>ar</td>\n",
       "      <td>وفيات</td>\n",
       "      <td>en</td>\n",
       "      <td>[Deaths]</td>\n",
       "      <td>NaN</td>\n",
       "    </tr>\n",
       "    <tr>\n",
       "      <th>7929</th>\n",
       "      <td>ar</td>\n",
       "      <td>حياته</td>\n",
       "      <td>en</td>\n",
       "      <td>[Life]</td>\n",
       "      <td>NaN</td>\n",
       "    </tr>\n",
       "    <tr>\n",
       "      <th>7930</th>\n",
       "      <td>ar</td>\n",
       "      <td>المسيرة الاحترافية</td>\n",
       "      <td>en</td>\n",
       "      <td>[Professional career]</td>\n",
       "      <td>NaN</td>\n",
       "    </tr>\n",
       "    <tr>\n",
       "      <th>7931</th>\n",
       "      <td>ar</td>\n",
       "      <td>وفاته</td>\n",
       "      <td>en</td>\n",
       "      <td>[Death]</td>\n",
       "      <td>NaN</td>\n",
       "    </tr>\n",
       "    <tr>\n",
       "      <th>7932</th>\n",
       "      <td>ar</td>\n",
       "      <td>روابط خارجية</td>\n",
       "      <td>en</td>\n",
       "      <td>[External links]</td>\n",
       "      <td>NaN</td>\n",
       "    </tr>\n",
       "    <tr>\n",
       "      <th>7933</th>\n",
       "      <td>ar</td>\n",
       "      <td>مواليد</td>\n",
       "      <td>en</td>\n",
       "      <td>[Births]</td>\n",
       "      <td>NaN</td>\n",
       "    </tr>\n",
       "    <tr>\n",
       "      <th>7934</th>\n",
       "      <td>ar</td>\n",
       "      <td>التعليم</td>\n",
       "      <td>en</td>\n",
       "      <td>[Education]</td>\n",
       "      <td>NaN</td>\n",
       "    </tr>\n",
       "    <tr>\n",
       "      <th>7935</th>\n",
       "      <td>ar</td>\n",
       "      <td>أحداث</td>\n",
       "      <td>en</td>\n",
       "      <td>[Events]</td>\n",
       "      <td>NaN</td>\n",
       "    </tr>\n",
       "    <tr>\n",
       "      <th>7936</th>\n",
       "      <td>ar</td>\n",
       "      <td>المصادر</td>\n",
       "      <td>en</td>\n",
       "      <td>[References]</td>\n",
       "      <td>NaN</td>\n",
       "    </tr>\n",
       "    <tr>\n",
       "      <th>7937</th>\n",
       "      <td>ar</td>\n",
       "      <td>مصادر</td>\n",
       "      <td>en</td>\n",
       "      <td>[References]</td>\n",
       "      <td>NaN</td>\n",
       "    </tr>\n",
       "    <tr>\n",
       "      <th>7938</th>\n",
       "      <td>ar</td>\n",
       "      <td>طالع أيضا</td>\n",
       "      <td>en</td>\n",
       "      <td>[Further reading, Further reading, Further rea...</td>\n",
       "      <td>NaN</td>\n",
       "    </tr>\n",
       "    <tr>\n",
       "      <th>7939</th>\n",
       "      <td>ar</td>\n",
       "      <td>التاريخ</td>\n",
       "      <td>en</td>\n",
       "      <td>[History]</td>\n",
       "      <td>NaN</td>\n",
       "    </tr>\n",
       "    <tr>\n",
       "      <th>7940</th>\n",
       "      <td>ar</td>\n",
       "      <td>أنظر أيضاً</td>\n",
       "      <td>en</td>\n",
       "      <td>[See also, See also, See also]</td>\n",
       "      <td>NaN</td>\n",
       "    </tr>\n",
       "    <tr>\n",
       "      <th>7941</th>\n",
       "      <td>ar</td>\n",
       "      <td>الموقع الجغرافي</td>\n",
       "      <td>en</td>\n",
       "      <td>[Location]</td>\n",
       "      <td>NaN</td>\n",
       "    </tr>\n",
       "    <tr>\n",
       "      <th>7942</th>\n",
       "      <td>ar</td>\n",
       "      <td>وصلات خارجية</td>\n",
       "      <td>en</td>\n",
       "      <td>[External links, External links]</td>\n",
       "      <td>NaN</td>\n",
       "    </tr>\n",
       "    <tr>\n",
       "      <th>7943</th>\n",
       "      <td>ar</td>\n",
       "      <td>المراجع</td>\n",
       "      <td>en</td>\n",
       "      <td>[References, References]</td>\n",
       "      <td>NaN</td>\n",
       "    </tr>\n",
       "    <tr>\n",
       "      <th>7944</th>\n",
       "      <td>ar</td>\n",
       "      <td>انظر أيضاً</td>\n",
       "      <td>en</td>\n",
       "      <td>[See also, See also, See also]</td>\n",
       "      <td>NaN</td>\n",
       "    </tr>\n",
       "    <tr>\n",
       "      <th>7945</th>\n",
       "      <td>ar</td>\n",
       "      <td>مراجع</td>\n",
       "      <td>en</td>\n",
       "      <td>[References]</td>\n",
       "      <td>NaN</td>\n",
       "    </tr>\n",
       "  </tbody>\n",
       "</table>\n",
       "<p>7946 rows × 5 columns</p>\n",
       "</div>"
      ],
      "text/plain": [
       "     source_lang           source_title destination_language  \\\n",
       "0             ru               Родились                   ja   \n",
       "1             ru             Этимология                   ja   \n",
       "2             ru            Комментарии                   ja   \n",
       "3             ru               Культура                   ja   \n",
       "4             ru               Источник                   ja   \n",
       "5             ru      Турнирная таблица                   ja   \n",
       "6             ru              Медалисты                   ja   \n",
       "7             ru       Города-побратимы                   ja   \n",
       "8             ru                  Улицы                   ja   \n",
       "9             ru           Расположение                   ja   \n",
       "10            ru            Предыстория                   ja   \n",
       "11            ru             Публикации                   ja   \n",
       "12            ru                 Климат                   ja   \n",
       "13            ru    Награды и номинации                   ja   \n",
       "14            ru       Награды и премии                   ja   \n",
       "15            ru              Сочинения                   ja   \n",
       "16            ru         Инфраструктура                   ja   \n",
       "17            ru        Клубная карьера                   ja   \n",
       "18            ru                 Состав                   ja   \n",
       "19            ru            Дискография                   ja   \n",
       "20            ru       Интересные факты                   ja   \n",
       "21            ru           Фильмография                   ja   \n",
       "22            ru             Демография                   ja   \n",
       "23            ru                  Семья                   ja   \n",
       "24            ru                В ролях                   ja   \n",
       "25            ru                Карьера                   ja   \n",
       "26            ru  Достопримечательности                   ja   \n",
       "27            ru              Экономика                   ja   \n",
       "28            ru                  Сюжет                   ja   \n",
       "29            ru                 Ссылки                   ja   \n",
       "...          ...                    ...                  ...   \n",
       "7916          ar       الموئل والانتشار                   en   \n",
       "7917          ar                ملاحظات                   en   \n",
       "7918          ar              اقرأ أيضا                   en   \n",
       "7919          ar                الأعمال                   en   \n",
       "7920          ar               إحصائيات                   en   \n",
       "7921          ar                  جوائز                   en   \n",
       "7922          ar                 أعماله                   en   \n",
       "7923          ar                مؤلفاته                   en   \n",
       "7924          ar                  تاريخ                   en   \n",
       "7925          ar                  القصة                   en   \n",
       "7926          ar             الميداليات                   en   \n",
       "7927          ar                 السكان                   en   \n",
       "7928          ar                  وفيات                   en   \n",
       "7929          ar                  حياته                   en   \n",
       "7930          ar     المسيرة الاحترافية                   en   \n",
       "7931          ar                  وفاته                   en   \n",
       "7932          ar           روابط خارجية                   en   \n",
       "7933          ar                 مواليد                   en   \n",
       "7934          ar                التعليم                   en   \n",
       "7935          ar                  أحداث                   en   \n",
       "7936          ar                المصادر                   en   \n",
       "7937          ar                  مصادر                   en   \n",
       "7938          ar              طالع أيضا                   en   \n",
       "7939          ar                التاريخ                   en   \n",
       "7940          ar             أنظر أيضاً                   en   \n",
       "7941          ar        الموقع الجغرافي                   en   \n",
       "7942          ar           وصلات خارجية                   en   \n",
       "7943          ar                المراجع                   en   \n",
       "7944          ar             انظر أيضاً                   en   \n",
       "7945          ar                  مراجع                   en   \n",
       "\n",
       "                                      destination_title  \\\n",
       "0                                                  [出自]   \n",
       "1                                                  [由来]   \n",
       "2                                                  [註釈]   \n",
       "3                                                  [文化]   \n",
       "4                                                  [出典]   \n",
       "5                                                 [順位表]   \n",
       "6                                          [受賞者, メダリスト]   \n",
       "7                                                [姉妹都市]   \n",
       "8                                              [道路, 通り]   \n",
       "9                                              [位置, 場所]   \n",
       "10                                               [先史時代]   \n",
       "11                                                 [書籍]   \n",
       "12                                                 [気候]   \n",
       "13                                           [受賞とノミネート]   \n",
       "14                                                [受賞歴]   \n",
       "15                                             [作品, 作曲]   \n",
       "16                                                 [施設]   \n",
       "17                                              [所属クラブ]   \n",
       "18                                                 [構成]   \n",
       "19                                           [ディスコグラフィ]   \n",
       "20                                                 [逸話]   \n",
       "21                                               [映像作品]   \n",
       "22                                               [人口統計]   \n",
       "23                                              [家族・親族]   \n",
       "24                                                 [配役]   \n",
       "25                                                 [職歴]   \n",
       "26                                              [名所・旧跡]   \n",
       "27                                                 [経済]   \n",
       "28                                               [あらすじ]   \n",
       "29                                               [参考文献]   \n",
       "...                                                 ...   \n",
       "7916                                       [References]   \n",
       "7917                                            [Notes]   \n",
       "7918  [Further reading, Further reading, Further rea...   \n",
       "7919                                            [Works]   \n",
       "7920                                       [Statistics]   \n",
       "7921                                           [Prizes]   \n",
       "7922                                            [Works]   \n",
       "7923                                     [Bibliography]   \n",
       "7924                                          [History]   \n",
       "7925                                            [Story]   \n",
       "7926                                           [Medals]   \n",
       "7927                                       [Population]   \n",
       "7928                                           [Deaths]   \n",
       "7929                                             [Life]   \n",
       "7930                              [Professional career]   \n",
       "7931                                            [Death]   \n",
       "7932                                   [External links]   \n",
       "7933                                           [Births]   \n",
       "7934                                        [Education]   \n",
       "7935                                           [Events]   \n",
       "7936                                       [References]   \n",
       "7937                                       [References]   \n",
       "7938  [Further reading, Further reading, Further rea...   \n",
       "7939                                          [History]   \n",
       "7940                     [See also, See also, See also]   \n",
       "7941                                         [Location]   \n",
       "7942                   [External links, External links]   \n",
       "7943                           [References, References]   \n",
       "7944                     [See also, See also, See also]   \n",
       "7945                                       [References]   \n",
       "\n",
       "                      user_session_key  \n",
       "0     1hl2ay9d01lek5piry4jjqvj377xwmh7  \n",
       "1     1hl2ay9d01lek5piry4jjqvj377xwmh7  \n",
       "2     1hl2ay9d01lek5piry4jjqvj377xwmh7  \n",
       "3     1hl2ay9d01lek5piry4jjqvj377xwmh7  \n",
       "4     1hl2ay9d01lek5piry4jjqvj377xwmh7  \n",
       "5     1hl2ay9d01lek5piry4jjqvj377xwmh7  \n",
       "6     1hl2ay9d01lek5piry4jjqvj377xwmh7  \n",
       "7     1hl2ay9d01lek5piry4jjqvj377xwmh7  \n",
       "8     1hl2ay9d01lek5piry4jjqvj377xwmh7  \n",
       "9     1hl2ay9d01lek5piry4jjqvj377xwmh7  \n",
       "10    1hl2ay9d01lek5piry4jjqvj377xwmh7  \n",
       "11    1hl2ay9d01lek5piry4jjqvj377xwmh7  \n",
       "12    1hl2ay9d01lek5piry4jjqvj377xwmh7  \n",
       "13    1hl2ay9d01lek5piry4jjqvj377xwmh7  \n",
       "14    1hl2ay9d01lek5piry4jjqvj377xwmh7  \n",
       "15    1hl2ay9d01lek5piry4jjqvj377xwmh7  \n",
       "16    1hl2ay9d01lek5piry4jjqvj377xwmh7  \n",
       "17    1hl2ay9d01lek5piry4jjqvj377xwmh7  \n",
       "18    1hl2ay9d01lek5piry4jjqvj377xwmh7  \n",
       "19    1hl2ay9d01lek5piry4jjqvj377xwmh7  \n",
       "20    1hl2ay9d01lek5piry4jjqvj377xwmh7  \n",
       "21    1hl2ay9d01lek5piry4jjqvj377xwmh7  \n",
       "22    1hl2ay9d01lek5piry4jjqvj377xwmh7  \n",
       "23    1hl2ay9d01lek5piry4jjqvj377xwmh7  \n",
       "24    1hl2ay9d01lek5piry4jjqvj377xwmh7  \n",
       "25    1hl2ay9d01lek5piry4jjqvj377xwmh7  \n",
       "26    1hl2ay9d01lek5piry4jjqvj377xwmh7  \n",
       "27    1hl2ay9d01lek5piry4jjqvj377xwmh7  \n",
       "28    1hl2ay9d01lek5piry4jjqvj377xwmh7  \n",
       "29    1hl2ay9d01lek5piry4jjqvj377xwmh7  \n",
       "...                                ...  \n",
       "7916  cvau35xx3nzj5scpw355zasxcbjet2eq  \n",
       "7917                               NaN  \n",
       "7918                               NaN  \n",
       "7919                               NaN  \n",
       "7920                               NaN  \n",
       "7921                               NaN  \n",
       "7922                               NaN  \n",
       "7923                               NaN  \n",
       "7924                               NaN  \n",
       "7925                               NaN  \n",
       "7926                               NaN  \n",
       "7927                               NaN  \n",
       "7928                               NaN  \n",
       "7929                               NaN  \n",
       "7930                               NaN  \n",
       "7931                               NaN  \n",
       "7932                               NaN  \n",
       "7933                               NaN  \n",
       "7934                               NaN  \n",
       "7935                               NaN  \n",
       "7936                               NaN  \n",
       "7937                               NaN  \n",
       "7938                               NaN  \n",
       "7939                               NaN  \n",
       "7940                               NaN  \n",
       "7941                               NaN  \n",
       "7942                               NaN  \n",
       "7943                               NaN  \n",
       "7944                               NaN  \n",
       "7945                               NaN  \n",
       "\n",
       "[7946 rows x 5 columns]"
      ]
     },
     "execution_count": 3,
     "metadata": {},
     "output_type": "execute_result"
    }
   ],
   "source": [
    "labels"
   ]
  },
  {
   "cell_type": "code",
   "execution_count": 4,
   "metadata": {},
   "outputs": [],
   "source": [
    "### Exploid multiple translatios\n",
    "df = labels.set_index(['source_lang', 'source_title','destination_language'])['destination_title'].apply(pd.Series).stack()\n",
    "df = df.reset_index()\n",
    "del(df['level_3'])\n",
    "df.rename(columns={0:'destination_title'},inplace=True)\n",
    "df.set_index('source_lang',inplace=True)\n",
    "labelsExploid = df.reset_index() "
   ]
  },
  {
   "cell_type": "code",
   "execution_count": 5,
   "metadata": {},
   "outputs": [
    {
     "name": "stdout",
     "output_type": "stream",
     "text": [
      "ar en 565\n",
      "ar es 87\n",
      "ar fr 285\n",
      "ar ja 21\n",
      "ar ru 29\n",
      "en ar 543\n",
      "en es 1062\n",
      "en fr 1210\n",
      "en ja 1169\n",
      "en ru 1178\n",
      "es ar 3\n",
      "es en 569\n",
      "es fr 522\n",
      "es ja 2\n",
      "es ru 19\n",
      "fr ar 43\n",
      "fr en 746\n",
      "fr es 155\n",
      "fr ja 162\n",
      "fr ru 64\n",
      "ja en 129\n",
      "ja es 12\n",
      "ja fr 105\n",
      "ru ar 3\n",
      "ru en 460\n",
      "ru es 19\n",
      "ru fr 346\n",
      "ru ja 41\n",
      "9549\n"
     ]
    }
   ],
   "source": [
    "total = 0\n",
    "for src,data in df.groupby(df.index):\n",
    "    for dest,data2 in data.groupby('destination_language'):\n",
    "        print(src,dest,len(data2))\n",
    "        total+=len(data2)\n",
    "print(total)"
   ]
  },
  {
   "cell_type": "markdown",
   "metadata": {},
   "source": [
    "## Classification "
   ]
  },
  {
   "cell_type": "code",
   "execution_count": 9,
   "metadata": {},
   "outputs": [],
   "source": [
    "from sklearn.metrics.pairwise import cosine_similarity\n",
    "import editdistance\n",
    "translations =pd.read_pickle('translations.p')\n",
    "\n",
    "def getCosineSim(A,B): #Avoiding cosine_similarty problems with Nan and Series shape\n",
    "    A = A.values.reshape(1,A.shape[0])\n",
    "    B = B.values.reshape(1,B.shape[0])\n",
    "\n",
    "    try:   return cosine_similarity(A,B)[0][0]\n",
    "    except: return 0 \n",
    "    \n",
    "def balanceDF(df,column,ratio,valToKeep):\n",
    "    '''\n",
    "    Receive dataframe with a Binary column and return a subset \n",
    "    balanced in that column acording to ratio\n",
    "    valToKeep value to keep\n",
    "    '''\n",
    "    minCol  = min(df[column].value_counts())\n",
    "    rowsToKeep = df[df[column] == valToKeep]\n",
    "    df = df.sample(minCol*ratio,random_state=5)\n",
    "    return pd.concat([df,rowsToKeep])\n",
    "\n",
    "def prepareDataNew(langFrom,langTo,AutomaticTranslation=True):\n",
    "    global labelsExploid\n",
    "    labelsPair = labelsExploid[(labelsExploid['source_lang'] == langFrom) & (labelsExploid['destination_language'] ==langTo )][['source_title','destination_title']]\n",
    "    labeledSec = labelsPair.source_title.unique()\n",
    "    try:\n",
    "        distances = pd.read_pickle('FastTextDistances/distances_%s_%s.p' % (langFrom,langTo))\n",
    "    except:\n",
    "        distances = pd.read_pickle('FastTextDistances/distances_%s_%s.p' % (langTo,langFrom))\n",
    "    try:\n",
    "        mydistances = pd.read_pickle('FastTextDistances-my_alingments/distances_%s_%s.p' % (langFrom,langTo))\n",
    "    except:\n",
    "        mydistances = pd.read_pickle('FastTextDistances-my_alingments/distances_%s_%s.p' % (langTo,langFrom))\n",
    "    try:\n",
    "        linkdistances = pd.read_pickle('linksSimilarities/%s_%s.p' % (langFrom,langTo))\n",
    "    except:\n",
    "        linkdistances = pd.read_pickle('linksSimilarities/%s_%s.p' % (langTo,langFrom))\n",
    "    try:\n",
    "        contentdistances = pd.read_pickle('fastTextContentSimilarities/%s_%s.p' % (langTo,langFrom))\n",
    "    except:\n",
    "        contentdistances = pd.read_pickle('fastTextContentSimilarities/%s_%s.p' % (langFrom,langTo))\n",
    "\n",
    "    ##langFrom is documents, LangTo is words,\n",
    "    coOcurrences = pd.read_pickle('resultsMappingTfIdf/TfIDF_%s_%s.p' % (langFrom,langTo))\n",
    "    #CLEANING NOISE, THIS SHOULD BE DONE BEFORE\n",
    "    coOcurrences =  coOcurrences[~coOcurrences[langFrom].str.contains('\\[|{|\"')]  #Cleaning sections with links\n",
    "    coOcurrences =  coOcurrences[~coOcurrences[langTo].str.contains('\\[|{|\"')]  #Cleaning sections with links\n",
    "\n",
    "    features = pd.merge(distances, coOcurrences,  how='inner', \n",
    "                        left_on=[langFrom,langTo], right_on = [langFrom,langTo])\n",
    "    features = features[features[langFrom].isin(labeledSec)]\n",
    "    features = pd.merge(features, mydistances,  how='inner', \n",
    "                        left_on=[langFrom,langTo], right_on = [langFrom,langTo],suffixes=['','_my']) \n",
    "    features = pd.merge(features, contentdistances,  how='inner', \n",
    "                        left_on=[langFrom,langTo], right_on = [langFrom,langTo])\n",
    "    features = pd.merge(features, linkdistances,  how='inner', \n",
    "                        left_on=[langFrom,langTo], right_on = [langFrom,langTo])\n",
    "    features = features[features[langFrom].isin(labeledSec)]\n",
    "    dataset = pd.merge(features, labelsPair[['source_title','destination_title']], how='left', left_on=[langFrom,langTo], right_on = ['source_title','destination_title'])#,'destination_title'])\n",
    "                                \n",
    "    dataset['isTranslation'] = dataset.destination_title.notna()\n",
    "    dataset.rename(columns={langTo+'_tfidf':'LangTo_tfidf',langFrom+'_tfidf':'LangFrom_tfidf',langFrom:'langFrom',langTo:'langTo'},inplace=True)\n",
    "    del(dataset['source_title'])\n",
    "    del(dataset['destination_title'])\n",
    "    secsFrom = pd.read_pickle('SectionsCharacterization/sections-articles_%s.p' % langFrom )\n",
    "    secsTo = pd.read_pickle('SectionsCharacterization/sections-articles_%s.p' % langTo )\n",
    "    secsFromJoined = pd.merge(dataset, secsFrom, how='left', left_on='langFrom', right_on = secsFrom.index)#,'destination_title'])\n",
    "    secsToJoined    = pd.merge(dataset, secsTo, how='left', left_on='langTo', right_on = secsTo.index,suffixes=('', '_langTo'))#,'destination_title'])\n",
    "    colsSec = secsFrom.columns\n",
    "    secDistSub  = secsFromJoined[colsSec] - secsToJoined[colsSec]\n",
    "    secDistMult  = secsFromJoined[colsSec] * secsToJoined[colsSec]\n",
    "    #Removing Cosine Similarity, take long time and it is not adding enough information\n",
    "\n",
    "    #secsJoined = secsFromJoined[colsSec].join(secsToJoined[colsSec],rsuffix='_r')\n",
    "    #dataset['DistCos'] = secsJoined.apply(lambda row: getCosineSim(row[cols],row[[c+'_r' for c in cols]]),axis=1)                                              \n",
    "    dataset = dataset.join(secDistSub).join(secDistMult,rsuffix='_mult')\n",
    "    dataset = dataset.join(secsFrom[['rank']],on='langFrom',rsuffix='_from')\n",
    "\n",
    "    dataset['editDistance'] = dataset.apply(lambda x:editdistance.eval(x['langFrom'],x['langTo']) / max(len(x['langFrom']),len(x['langTo'])) ,axis=1)\n",
    "    if AutomaticTranslation:\n",
    "        trans = translations[(translations['source_lang'] == langFrom) & (translations['destination_language'] == langTo)][['source_title','automatic_translation']]\n",
    "        dataset = pd.merge(dataset, trans, how='left', left_on='langFrom', right_on = 'source_title')#,'destination_title'])\n",
    "        dataset['isAutomaticTranslationFrom'] = dataset['langTo'] == dataset['automatic_translation']\n",
    "        del(dataset['source_title'])\n",
    "        del(dataset['automatic_translation'])\n",
    "        trans = translations[(translations['source_lang'] == langTo) & (translations['destination_language'] == langFrom)][['source_title','automatic_translation']]\n",
    "        dataset = pd.merge(dataset, trans, how='left', left_on='langTo', right_on = 'source_title')#,'destination_title'])\n",
    "        dataset['isAutomaticTranslationTo'] = dataset['langFrom'] == dataset['automatic_translation']\n",
    "        del(dataset['source_title'])\n",
    "        del(dataset['automatic_translation'])\n",
    "    #Scaling to one \n",
    "    dataset['count_normed']  = dataset['count'] / dataset['count'].max()\n",
    "    dataset['LangFrom_tfidf_normed']  = dataset['LangFrom_tfidf'] / dataset['LangFrom_tfidf'].max()\n",
    "    dataset['LangTo_tfidf_normed']  = dataset['LangTo_tfidf'] / dataset['LangTo_tfidf'].max()\n",
    "    #ranks (relative position, instead of raw number, per word)\n",
    "    dataset[\"rank_by_count\"] = dataset.groupby(\"langFrom\")[\"count\"].rank(\"dense\", ascending=False)\n",
    "    dataset[\"rank_by_LangFrom_tfidf\"] = dataset.groupby(\"langFrom\")[\"LangFrom_tfidf\"].rank(\"dense\", ascending=False)\n",
    "    dataset[\"rank_by_LangTo_tfidf\"] = dataset.groupby(\"langFrom\")[\"LangTo_tfidf\"].rank(\"dense\", ascending=False)\n",
    "\n",
    "    #polinomial  / weighted \n",
    "    dataset['Distance_myWeighted']  = dataset['count_normed'] *  dataset['Distance_my']\n",
    "    dataset['DistanceWeighted']  = dataset['count_normed'] *  dataset['Distance']\n",
    "    dataset['LangFrom_tfidfWeighted']  = dataset['count_normed'] *  dataset['LangFrom_tfidf']\n",
    "    dataset['LangTo_tfidfWeighted']  = dataset['count_normed'] *  dataset['LangTo_tfidf']\n",
    "    return dataset\n",
    "\n",
    "def prepareDataNewNoLabels(langFrom,langTo,AutomaticTranslation=True,withLabels=True):\n",
    "    if withLabels:\n",
    "        global labelsExploid\n",
    "        labelsPair = labelsExploid[(labelsExploid['source_lang'] == langFrom) & (labelsExploid['destination_language'] ==langTo )][['source_title','destination_title']]\n",
    "        labeledSec = labelsPair.source_title.unique()\n",
    "    try:\n",
    "        distances = pd.read_pickle('FastTextDistances/distances_%s_%s.p' % (langFrom,langTo))\n",
    "    except:\n",
    "        distances = pd.read_pickle('FastTextDistances/distances_%s_%s.p' % (langTo,langFrom))\n",
    "    try:\n",
    "        mydistances = pd.read_pickle('FastTextDistances-my_alingments/distances_%s_%s.p' % (langFrom,langTo))\n",
    "    except:\n",
    "        mydistances = pd.read_pickle('FastTextDistances-my_alingments//distances_%s_%s.p' % (langTo,langFrom))\n",
    "    try:\n",
    "        linkdistances = pd.read_pickle('linksSimilarities/%s_%s.p' % (langFrom,langTo))\n",
    "    except:\n",
    "        linkdistances = pd.read_pickle('linksSimilarities/%s_%s.p' % (langTo,langFrom))\n",
    "    try:\n",
    "        contentdistances = pd.read_pickle('fastTextContentSimilarities/%s_%s.p' % (langTo,langFrom))\n",
    "    except:\n",
    "        contentdistances = pd.read_pickle('fastTextContentSimilarities/%s_%s.p' % (langFrom,langTo))\n",
    "\n",
    "    ##langFrom is documents, LangTo is words,\n",
    "    coOcurrences = pd.read_pickle('resultsMappingTfIdf/TfIDF_%s_%s.p' % (langFrom,langTo))\n",
    "    #CLEANING NOISE, THIS SHOULD BE DONE BEFORE\n",
    "    coOcurrences =  coOcurrences[~coOcurrences[langFrom].str.contains('\\[|{|\"')]  #Cleaning sections with links\n",
    "    coOcurrences =  coOcurrences[~coOcurrences[langTo].str.contains('\\[|{|\"')]  #Cleaning sections with links\n",
    "\n",
    "    features = pd.merge(distances, coOcurrences,  how='inner', \n",
    "                        left_on=[langFrom,langTo], right_on = [langFrom,langTo])\n",
    "    if withLabels:\n",
    "        features = features[features[langFrom].isin(labeledSec)]\n",
    "    features = pd.merge(features, mydistances,  how='inner', \n",
    "                        left_on=[langFrom,langTo], right_on = [langFrom,langTo],suffixes=['','_my']) \n",
    "    features = pd.merge(features, contentdistances,  how='inner', \n",
    "                        left_on=[langFrom,langTo], right_on = [langFrom,langTo])\n",
    "    features = pd.merge(features, linkdistances,  how='inner', \n",
    "                        left_on=[langFrom,langTo], right_on = [langFrom,langTo])\n",
    "    if withLabels:\n",
    "        features = features[features[langFrom].isin(labeledSec)]\n",
    "        dataset = pd.merge(features, labelsPair[['source_title','destination_title']], how='left', left_on=[langFrom,langTo], right_on = ['source_title','destination_title'])#,'destination_title'])                               \n",
    "        dataset['isTranslation'] = dataset.destination_title.notna()\n",
    "        del(dataset['source_title'])\n",
    "        del(dataset['destination_title'])\n",
    "    else:\n",
    "        dataset = features\n",
    "        \n",
    "    dataset.rename(columns={langTo+'_tfidf':'LangTo_tfidf',langFrom+'_tfidf':'LangFrom_tfidf',langFrom:'langFrom',langTo:'langTo'},inplace=True)\n",
    "\n",
    "    secsFrom = pd.read_pickle('SectionsCharacterization/sections-articles_%s.p' % langFrom )\n",
    "    secsTo = pd.read_pickle('SectionsCharacterization/sections-articles_%s.p' % langTo )\n",
    "    secsFromJoined = pd.merge(dataset, secsFrom, how='left', left_on='langFrom', right_on = secsFrom.index)#,'destination_title'])\n",
    "    secsToJoined    = pd.merge(dataset, secsTo, how='left', left_on='langTo', right_on = secsTo.index,suffixes=('', '_langTo'))#,'destination_title'])\n",
    "    colsSec = secsFrom.columns\n",
    "    secDistSub  = secsFromJoined[colsSec] - secsToJoined[colsSec]\n",
    "    secDistMult  = secsFromJoined[colsSec] * secsToJoined[colsSec]\n",
    "    #Removing Cosine Similarity, take long time and it is not adding enough information\n",
    "\n",
    "    #secsJoined = secsFromJoined[colsSec].join(secsToJoined[colsSec],rsuffix='_r')\n",
    "    #dataset['DistCos'] = secsJoined.apply(lambda row: getCosineSim(row[cols],row[[c+'_r' for c in cols]]),axis=1)                                              \n",
    "    dataset = dataset.join(secDistSub).join(secDistMult,rsuffix='_mult')\n",
    "    dataset = dataset.join(secsFrom[['rank']],on='langFrom',rsuffix='_from')\n",
    "\n",
    "    dataset['editDistance'] = dataset.apply(lambda x:editdistance.eval(x['langFrom'],x['langTo']) / max(len(x['langFrom']),len(x['langTo'])) ,axis=1)\n",
    "    if AutomaticTranslation:\n",
    "        trans = translations[(translations['source_lang'] == langFrom) & (translations['destination_language'] == langTo)][['source_title','automatic_translation']]\n",
    "        dataset = pd.merge(dataset, trans, how='left', left_on='langFrom', right_on = 'source_title')#,'destination_title'])\n",
    "        dataset['isAutomaticTranslationFrom'] = dataset['langTo'] == dataset['automatic_translation']\n",
    "        del(dataset['source_title'])\n",
    "        del(dataset['automatic_translation'])\n",
    "        trans = translations[(translations['source_lang'] == langTo) & (translations['destination_language'] == langFrom)][['source_title','automatic_translation']]\n",
    "        dataset = pd.merge(dataset, trans, how='left', left_on='langTo', right_on = 'source_title')#,'destination_title'])\n",
    "        dataset['isAutomaticTranslationTo'] = dataset['langFrom'] == dataset['automatic_translation']\n",
    "        del(dataset['source_title'])\n",
    "        del(dataset['automatic_translation'])\n",
    "    #Scaling to one \n",
    "    dataset['count_normed']  = dataset['count'] / dataset['count'].max()\n",
    "    dataset['LangFrom_tfidf_normed']  = dataset['LangFrom_tfidf'] / dataset['LangFrom_tfidf'].max()\n",
    "    dataset['LangTo_tfidf_normed']  = dataset['LangTo_tfidf'] / dataset['LangTo_tfidf'].max()\n",
    "    #ranks (relative position, instead of raw number, per word)\n",
    "    dataset[\"rank_by_count\"] = dataset.groupby(\"langFrom\")[\"count\"].rank(\"dense\", ascending=False)\n",
    "    dataset[\"rank_by_LangFrom_tfidf\"] = dataset.groupby(\"langFrom\")[\"LangFrom_tfidf\"].rank(\"dense\", ascending=False)\n",
    "    dataset[\"rank_by_LangTo_tfidf\"] = dataset.groupby(\"langFrom\")[\"LangTo_tfidf\"].rank(\"dense\", ascending=False)\n",
    "\n",
    "    #polinomial  / weighted \n",
    "    dataset['Distance_myWeighted']  = dataset['count_normed'] *  dataset['Distance_my']\n",
    "    dataset['DistanceWeighted']  = dataset['count_normed'] *  dataset['Distance']\n",
    "    dataset['LangFrom_tfidfWeighted']  = dataset['count_normed'] *  dataset['LangFrom_tfidf']\n",
    "    dataset['LangTo_tfidfWeighted']  = dataset['count_normed'] *  dataset['LangTo_tfidf']\n",
    "    return dataset\n"
   ]
  },
  {
   "cell_type": "markdown",
   "metadata": {},
   "source": [
    "## Build datasets"
   ]
  },
  {
   "cell_type": "code",
   "execution_count": 10,
   "metadata": {},
   "outputs": [
    {
     "name": "stdout",
     "output_type": "stream",
     "text": [
      "('ru', 'ja')\n",
      "('ru', 'fr')\n",
      "('ru', 'ar')\n",
      "('ru', 'es')\n",
      "('ru', 'en')\n",
      "('ja', 'ru')\n",
      "Cannot set a frame with no defined index and a value that cannot be converted to a Series\n",
      "('ja', 'fr')\n",
      "('ja', 'ar')\n",
      "Cannot set a frame with no defined index and a value that cannot be converted to a Series\n",
      "('ja', 'es')\n",
      "('ja', 'en')\n",
      "('fr', 'ru')\n",
      "('fr', 'ja')\n",
      "('fr', 'ar')\n",
      "('fr', 'es')\n",
      "('fr', 'en')\n",
      "('ar', 'ru')\n",
      "('ar', 'ja')\n",
      "('ar', 'fr')\n",
      "('ar', 'es')\n",
      "('ar', 'en')\n",
      "('es', 'ru')\n",
      "('es', 'ja')\n",
      "('es', 'fr')\n",
      "('es', 'ar')\n",
      "('es', 'en')\n",
      "('en', 'ru')\n",
      "('en', 'ja')\n",
      "('en', 'fr')\n",
      "('en', 'ar')\n",
      "('en', 'es')\n"
     ]
    }
   ],
   "source": [
    "from itertools import permutations\n",
    "langs=['ru', 'ja', 'fr', 'ar','es', 'en']\n",
    "\n",
    "finalResults = []\n",
    "datasets = {}\n",
    "for pair in permutations(langs,2):\n",
    "        print(pair)\n",
    "        try: #for avoiding error in empty pairs (ja,ru)\n",
    "            tmpDF = prepareDataNew(pair[0],pair[1],AutomaticTranslation=True)\n",
    "            if tmpDF.shape[0] > 1: #to deal with empty pairs\n",
    "                datasets[pair[0]] = datasets.get(pair[0],{})\n",
    "                datasets[pair[0]][pair[1]] = balanceDF(tmpDF,'isTranslation',2,True)\n",
    "        except Exception as ex:\n",
    "            print(ex)"
   ]
  },
  {
   "cell_type": "markdown",
   "metadata": {},
   "source": [
    "### Get results without Automatic Translation"
   ]
  },
  {
   "cell_type": "code",
   "execution_count": 430,
   "metadata": {
    "scrolled": true
   },
   "outputs": [
    {
     "name": "stdout",
     "output_type": "stream",
     "text": [
      "ru\n"
     ]
    },
    {
     "name": "stderr",
     "output_type": "stream",
     "text": [
      "/home/dsaez/venv/lib/python3.5/site-packages/ipykernel_launcher.py:33: FutureWarning: Sorting because non-concatenation axis is not aligned. A future version\n",
      "of pandas will change to not sort by default.\n",
      "\n",
      "To accept the future behavior, pass 'sort=False'.\n",
      "\n",
      "To retain the current behavior and silence the warning, pass 'sort=True'.\n",
      "\n"
     ]
    },
    {
     "name": "stdout",
     "output_type": "stream",
     "text": [
      "[(0.11312217, 'Distance_my'), (0.07692308, 'links_jaccardMEAN'), (0.0693816, 'LangTo_tfidf_normed'), (0.05882353, 'editDistance'), (0.043740574, 'LangTo_tfidfWeighted'), (0.04223228, 'Distance'), (0.040723983, 'rank'), (0.039215688, 'pos_norm_avg'), (0.033182506, 'links_jaccardSUM'), (0.030165913, 'pos_avg'), (0.028657617, 'pos_norm_avg_mult'), (0.02413273, 'pos_inv_avg'), (0.022624435, 'TotalCount'), (0.02111614, 'rank_by_count'), (0.02111614, 'LangTo_tfidf'), (0.018099548, 'num_links_avg_mult'), (0.015082956, 'size_median'), (0.015082956, 'LangFrom_tfidf'), (0.013574661, 'pos_inv_avg_mult'), (0.013574661, 'pos_avg_mult'), (0.013574661, 'num_links_median_mult'), (0.013574661, 'fasttext_content_similarityMEDIAN'), (0.013574661, 'LangFrom_tfidf_normed'), (0.012066365, 'size_avg_mult'), (0.012066365, 'num_links_median'), (0.01055807, 'size_rel_median'), (0.01055807, 'rank_mult'), (0.009049774, 'size_median_mult'), (0.009049774, 'pos_norm_median_mult'), (0.009049774, 'links_jaccardMEDIAN'), (0.009049774, 'links_commonMEAN'), (0.007541478, 'size_rel_median_mult'), (0.007541478, 'num_links_avg'), (0.007541478, 'links_rel_median'), (0.007541478, 'links_rel_avg'), (0.007541478, 'links_commonSUM'), (0.007541478, 'link_dens_avg'), (0.007541478, 'count'), (0.007541478, 'LangFrom_tfidfWeighted'), (0.0060331826, 'size_rel_avg_mult'), (0.0060331826, 'size_rel_avg'), (0.0060331826, 'size_avg'), (0.0060331826, 'pos_inv_median'), (0.0060331826, 'links_rel_avg_mult'), (0.0060331826, 'link_dens_avg_mult'), (0.0060331826, 'fasttext_content_similarityMEAN'), (0.0060331826, 'count_normed'), (0.004524887, 'links_rel_median_mult'), (0.004524887, 'link_dens_median'), (0.004524887, 'Distance_myWeighted'), (0.0030165913, 'rank_from'), (0.0030165913, 'rank_by_LangFrom_tfidf'), (0.0030165913, 'link_dens_median_mult'), (0.0015082957, 'pos_norm_median'), (0.0015082957, 'pos_median'), (0.0015082957, 'pos_inv_median_mult'), (0.0015082957, 'links_commonMEDIAN'), (0.0, 'size_std_mult'), (0.0, 'size_std'), (0.0, 'size_rel_std_mult'), (0.0, 'size_rel_std'), (0.0, 'rank_by_LangTo_tfidf'), (0.0, 'pos_std_mult'), (0.0, 'pos_std'), (0.0, 'pos_norm_std_mult'), (0.0, 'pos_norm_std'), (0.0, 'pos_median_mult'), (0.0, 'pos_inv_std_mult'), (0.0, 'pos_inv_std'), (0.0, 'num_links_std_mult'), (0.0, 'num_links_std'), (0.0, 'links_rel_std_mult'), (0.0, 'links_rel_std'), (0.0, 'link_dens_std_mult'), (0.0, 'link_dens_std'), (0.0, 'TotalCount_mult'), (0.0, 'DistanceWeighted')]\n"
     ]
    },
    {
     "name": "stderr",
     "output_type": "stream",
     "text": [
      "/home/dsaez/venv/lib/python3.5/site-packages/ipykernel_launcher.py:56: SettingWithCopyWarning: \n",
      "A value is trying to be set on a copy of a slice from a DataFrame.\n",
      "Try using .loc[row_indexer,col_indexer] = value instead\n",
      "\n",
      "See the caveats in the documentation: http://pandas.pydata.org/pandas-docs/stable/indexing.html#indexing-view-versus-copy\n",
      "/home/dsaez/venv/lib/python3.5/site-packages/ipykernel_launcher.py:57: SettingWithCopyWarning: \n",
      "A value is trying to be set on a copy of a slice from a DataFrame.\n",
      "Try using .loc[row_indexer,col_indexer] = value instead\n",
      "\n",
      "See the caveats in the documentation: http://pandas.pydata.org/pandas-docs/stable/indexing.html#indexing-view-versus-copy\n",
      "/home/dsaez/venv/lib/python3.5/site-packages/ipykernel_launcher.py:77: UserWarning: Boolean Series key will be reindexed to match DataFrame index.\n",
      "/home/dsaez/venv/lib/python3.5/site-packages/ipykernel_launcher.py:78: UserWarning: Boolean Series key will be reindexed to match DataFrame index.\n"
     ]
    },
    {
     "name": "stdout",
     "output_type": "stream",
     "text": [
      "ru ja {'Baseline3 Acc@1': 0.12, 'Baseline2 Acc@1': 0.0, 'Baseline2 Acc@5': 0.06, 'Baseline2 Acc@3': 0.06, 'Acc@3': 0.48, 'Baseline3 Acc@5': 0.3, 'Acc@1': 0.24, 'Baseline3 Acc@3': 0.24, 'langFrom': 'ru', 'langTo': 'ja', 'Baseline': 0.3, 'Instances': 33, 'Acc@5': 0.67}\n"
     ]
    },
    {
     "name": "stderr",
     "output_type": "stream",
     "text": [
      "/home/dsaez/venv/lib/python3.5/site-packages/ipykernel_launcher.py:56: SettingWithCopyWarning: \n",
      "A value is trying to be set on a copy of a slice from a DataFrame.\n",
      "Try using .loc[row_indexer,col_indexer] = value instead\n",
      "\n",
      "See the caveats in the documentation: http://pandas.pydata.org/pandas-docs/stable/indexing.html#indexing-view-versus-copy\n",
      "/home/dsaez/venv/lib/python3.5/site-packages/ipykernel_launcher.py:57: SettingWithCopyWarning: \n",
      "A value is trying to be set on a copy of a slice from a DataFrame.\n",
      "Try using .loc[row_indexer,col_indexer] = value instead\n",
      "\n",
      "See the caveats in the documentation: http://pandas.pydata.org/pandas-docs/stable/indexing.html#indexing-view-versus-copy\n",
      "/home/dsaez/venv/lib/python3.5/site-packages/ipykernel_launcher.py:77: UserWarning: Boolean Series key will be reindexed to match DataFrame index.\n",
      "/home/dsaez/venv/lib/python3.5/site-packages/ipykernel_launcher.py:78: UserWarning: Boolean Series key will be reindexed to match DataFrame index.\n"
     ]
    },
    {
     "name": "stdout",
     "output_type": "stream",
     "text": [
      "ru fr {'Baseline3 Acc@1': 0.42, 'Baseline2 Acc@1': 0.02, 'Baseline2 Acc@5': 0.1, 'Baseline2 Acc@3': 0.07, 'Acc@3': 0.78, 'Baseline3 Acc@5': 0.73, 'Acc@1': 0.53, 'Baseline3 Acc@3': 0.63, 'langFrom': 'ru', 'langTo': 'fr', 'Baseline': 0.42, 'Instances': 207, 'Acc@5': 0.85}\n"
     ]
    },
    {
     "name": "stderr",
     "output_type": "stream",
     "text": [
      "/home/dsaez/venv/lib/python3.5/site-packages/ipykernel_launcher.py:56: SettingWithCopyWarning: \n",
      "A value is trying to be set on a copy of a slice from a DataFrame.\n",
      "Try using .loc[row_indexer,col_indexer] = value instead\n",
      "\n",
      "See the caveats in the documentation: http://pandas.pydata.org/pandas-docs/stable/indexing.html#indexing-view-versus-copy\n",
      "/home/dsaez/venv/lib/python3.5/site-packages/ipykernel_launcher.py:57: SettingWithCopyWarning: \n",
      "A value is trying to be set on a copy of a slice from a DataFrame.\n",
      "Try using .loc[row_indexer,col_indexer] = value instead\n",
      "\n",
      "See the caveats in the documentation: http://pandas.pydata.org/pandas-docs/stable/indexing.html#indexing-view-versus-copy\n",
      "/home/dsaez/venv/lib/python3.5/site-packages/ipykernel_launcher.py:77: UserWarning: Boolean Series key will be reindexed to match DataFrame index.\n",
      "/home/dsaez/venv/lib/python3.5/site-packages/ipykernel_launcher.py:78: UserWarning: Boolean Series key will be reindexed to match DataFrame index.\n"
     ]
    },
    {
     "name": "stdout",
     "output_type": "stream",
     "text": [
      "ru ar {'Baseline3 Acc@1': 0.0, 'Baseline2 Acc@1': 0.0, 'Baseline2 Acc@5': 0.0, 'Baseline2 Acc@3': 0.0, 'Acc@3': 1.0, 'Baseline3 Acc@5': 0.0, 'Acc@1': 0.0, 'Baseline3 Acc@3': 0.0, 'langFrom': 'ru', 'langTo': 'ar', 'Baseline': 0.5, 'Instances': 2, 'Acc@5': 1.0}\n"
     ]
    },
    {
     "name": "stderr",
     "output_type": "stream",
     "text": [
      "/home/dsaez/venv/lib/python3.5/site-packages/ipykernel_launcher.py:56: SettingWithCopyWarning: \n",
      "A value is trying to be set on a copy of a slice from a DataFrame.\n",
      "Try using .loc[row_indexer,col_indexer] = value instead\n",
      "\n",
      "See the caveats in the documentation: http://pandas.pydata.org/pandas-docs/stable/indexing.html#indexing-view-versus-copy\n",
      "/home/dsaez/venv/lib/python3.5/site-packages/ipykernel_launcher.py:57: SettingWithCopyWarning: \n",
      "A value is trying to be set on a copy of a slice from a DataFrame.\n",
      "Try using .loc[row_indexer,col_indexer] = value instead\n",
      "\n",
      "See the caveats in the documentation: http://pandas.pydata.org/pandas-docs/stable/indexing.html#indexing-view-versus-copy\n",
      "/home/dsaez/venv/lib/python3.5/site-packages/ipykernel_launcher.py:77: UserWarning: Boolean Series key will be reindexed to match DataFrame index.\n",
      "/home/dsaez/venv/lib/python3.5/site-packages/ipykernel_launcher.py:78: UserWarning: Boolean Series key will be reindexed to match DataFrame index.\n"
     ]
    },
    {
     "name": "stdout",
     "output_type": "stream",
     "text": [
      "ru es {'Baseline3 Acc@1': 0.47, 'Baseline2 Acc@1': 0.07, 'Baseline2 Acc@5': 0.07, 'Baseline2 Acc@3': 0.07, 'Acc@3': 1.0, 'Baseline3 Acc@5': 0.67, 'Acc@1': 0.67, 'Baseline3 Acc@3': 0.53, 'langFrom': 'ru', 'langTo': 'es', 'Baseline': 0.67, 'Instances': 15, 'Acc@5': 1.0}\n"
     ]
    },
    {
     "name": "stderr",
     "output_type": "stream",
     "text": [
      "/home/dsaez/venv/lib/python3.5/site-packages/ipykernel_launcher.py:56: SettingWithCopyWarning: \n",
      "A value is trying to be set on a copy of a slice from a DataFrame.\n",
      "Try using .loc[row_indexer,col_indexer] = value instead\n",
      "\n",
      "See the caveats in the documentation: http://pandas.pydata.org/pandas-docs/stable/indexing.html#indexing-view-versus-copy\n",
      "/home/dsaez/venv/lib/python3.5/site-packages/ipykernel_launcher.py:57: SettingWithCopyWarning: \n",
      "A value is trying to be set on a copy of a slice from a DataFrame.\n",
      "Try using .loc[row_indexer,col_indexer] = value instead\n",
      "\n",
      "See the caveats in the documentation: http://pandas.pydata.org/pandas-docs/stable/indexing.html#indexing-view-versus-copy\n",
      "/home/dsaez/venv/lib/python3.5/site-packages/ipykernel_launcher.py:77: UserWarning: Boolean Series key will be reindexed to match DataFrame index.\n",
      "/home/dsaez/venv/lib/python3.5/site-packages/ipykernel_launcher.py:78: UserWarning: Boolean Series key will be reindexed to match DataFrame index.\n"
     ]
    },
    {
     "name": "stdout",
     "output_type": "stream",
     "text": [
      "ru en {'Baseline3 Acc@1': 0.46, 'Baseline2 Acc@1': 0.54, 'Baseline2 Acc@5': 0.83, 'Baseline2 Acc@3': 0.75, 'Acc@3': 0.91, 'Baseline3 Acc@5': 0.77, 'Acc@1': 0.68, 'Baseline3 Acc@3': 0.67, 'langFrom': 'ru', 'langTo': 'en', 'Baseline': 0.58, 'Instances': 295, 'Acc@5': 0.94}\n",
      "ja\n"
     ]
    },
    {
     "name": "stderr",
     "output_type": "stream",
     "text": [
      "/home/dsaez/venv/lib/python3.5/site-packages/ipykernel_launcher.py:33: FutureWarning: Sorting because non-concatenation axis is not aligned. A future version\n",
      "of pandas will change to not sort by default.\n",
      "\n",
      "To accept the future behavior, pass 'sort=False'.\n",
      "\n",
      "To retain the current behavior and silence the warning, pass 'sort=True'.\n",
      "\n"
     ]
    },
    {
     "name": "stdout",
     "output_type": "stream",
     "text": [
      "[(0.14351852, 'Distance_my'), (0.074074075, 'links_jaccardMEAN'), (0.057098765, 'editDistance'), (0.054012347, 'LangTo_tfidf_normed'), (0.052469134, 'Distance'), (0.046296295, 'rank'), (0.041666668, 'LangTo_tfidfWeighted'), (0.040123455, 'rank_by_count'), (0.027777778, 'pos_avg'), (0.024691358, 'links_jaccardSUM'), (0.020061728, 'size_rel_avg'), (0.020061728, 'pos_norm_avg'), (0.020061728, 'num_links_median'), (0.018518519, 'links_rel_avg'), (0.018518519, 'LangTo_tfidf'), (0.016975308, 'size_rel_median'), (0.016975308, 'size_median_mult'), (0.016975308, 'pos_norm_avg_mult'), (0.015432099, 'pos_inv_avg_mult'), (0.015432099, 'num_links_avg'), (0.013888889, 'rank_from'), (0.013888889, 'pos_inv_avg'), (0.013888889, 'LangFrom_tfidf'), (0.012345679, 'size_avg_mult'), (0.012345679, 'links_jaccardMEDIAN'), (0.012345679, 'fasttext_content_similarityMEAN'), (0.010802469, 'size_avg'), (0.010802469, 'num_links_median_mult'), (0.009259259, 'num_links_avg_mult'), (0.009259259, 'fasttext_content_similarityMEDIAN'), (0.009259259, 'Distance_myWeighted'), (0.0077160494, 'pos_norm_median_mult'), (0.0077160494, 'pos_inv_median'), (0.0077160494, 'pos_avg_mult'), (0.0077160494, 'links_rel_median_mult'), (0.0077160494, 'links_rel_avg_mult'), (0.0077160494, 'links_commonMEAN'), (0.0077160494, 'link_dens_median'), (0.0077160494, 'link_dens_avg_mult'), (0.0077160494, 'count_normed'), (0.0077160494, 'count'), (0.0077160494, 'TotalCount'), (0.0077160494, 'LangFrom_tfidf_normed'), (0.0061728396, 'rank_mult'), (0.0046296297, 'size_median'), (0.0046296297, 'link_dens_avg'), (0.0030864198, 'pos_median'), (0.0030864198, 'pos_inv_median_mult'), (0.0030864198, 'links_rel_median'), (0.0030864198, 'TotalCount_mult'), (0.0030864198, 'DistanceWeighted'), (0.0015432099, 'rank_by_LangFrom_tfidf'), (0.0015432099, 'pos_norm_median'), (0.0015432099, 'pos_median_mult'), (0.0015432099, 'links_commonSUM'), (0.0015432099, 'link_dens_median_mult'), (0.0, 'size_std_mult'), (0.0, 'size_std'), (0.0, 'size_rel_std_mult'), (0.0, 'size_rel_std'), (0.0, 'size_rel_median_mult'), (0.0, 'size_rel_avg_mult'), (0.0, 'rank_by_LangTo_tfidf'), (0.0, 'pos_std_mult'), (0.0, 'pos_std'), (0.0, 'pos_norm_std_mult'), (0.0, 'pos_norm_std'), (0.0, 'pos_inv_std_mult'), (0.0, 'pos_inv_std'), (0.0, 'num_links_std_mult'), (0.0, 'num_links_std'), (0.0, 'links_rel_std_mult'), (0.0, 'links_rel_std'), (0.0, 'links_commonMEDIAN'), (0.0, 'link_dens_std_mult'), (0.0, 'link_dens_std'), (0.0, 'LangFrom_tfidfWeighted')]\n",
      "error Cannot set a frame with no defined index and a value that cannot be converted to a Series\n"
     ]
    },
    {
     "name": "stderr",
     "output_type": "stream",
     "text": [
      "/home/dsaez/venv/lib/python3.5/site-packages/ipykernel_launcher.py:56: SettingWithCopyWarning: \n",
      "A value is trying to be set on a copy of a slice from a DataFrame.\n",
      "Try using .loc[row_indexer,col_indexer] = value instead\n",
      "\n",
      "See the caveats in the documentation: http://pandas.pydata.org/pandas-docs/stable/indexing.html#indexing-view-versus-copy\n",
      "/home/dsaez/venv/lib/python3.5/site-packages/ipykernel_launcher.py:57: SettingWithCopyWarning: \n",
      "A value is trying to be set on a copy of a slice from a DataFrame.\n",
      "Try using .loc[row_indexer,col_indexer] = value instead\n",
      "\n",
      "See the caveats in the documentation: http://pandas.pydata.org/pandas-docs/stable/indexing.html#indexing-view-versus-copy\n",
      "/home/dsaez/venv/lib/python3.5/site-packages/ipykernel_launcher.py:77: UserWarning: Boolean Series key will be reindexed to match DataFrame index.\n",
      "/home/dsaez/venv/lib/python3.5/site-packages/ipykernel_launcher.py:78: UserWarning: Boolean Series key will be reindexed to match DataFrame index.\n"
     ]
    },
    {
     "name": "stdout",
     "output_type": "stream",
     "text": [
      "ja fr {'Baseline3 Acc@1': 0.0, 'Baseline2 Acc@1': 0.0, 'Baseline2 Acc@5': 0.02, 'Baseline2 Acc@3': 0.0, 'Acc@3': 0.51, 'Baseline3 Acc@5': 0.02, 'Acc@1': 0.28, 'Baseline3 Acc@3': 0.0, 'langFrom': 'ja', 'langTo': 'fr', 'Baseline': 0.34, 'Instances': 47, 'Acc@5': 0.64}\n",
      "error Cannot set a frame with no defined index and a value that cannot be converted to a Series\n"
     ]
    },
    {
     "name": "stderr",
     "output_type": "stream",
     "text": [
      "/home/dsaez/venv/lib/python3.5/site-packages/ipykernel_launcher.py:56: SettingWithCopyWarning: \n",
      "A value is trying to be set on a copy of a slice from a DataFrame.\n",
      "Try using .loc[row_indexer,col_indexer] = value instead\n",
      "\n",
      "See the caveats in the documentation: http://pandas.pydata.org/pandas-docs/stable/indexing.html#indexing-view-versus-copy\n",
      "/home/dsaez/venv/lib/python3.5/site-packages/ipykernel_launcher.py:57: SettingWithCopyWarning: \n",
      "A value is trying to be set on a copy of a slice from a DataFrame.\n",
      "Try using .loc[row_indexer,col_indexer] = value instead\n",
      "\n",
      "See the caveats in the documentation: http://pandas.pydata.org/pandas-docs/stable/indexing.html#indexing-view-versus-copy\n",
      "/home/dsaez/venv/lib/python3.5/site-packages/ipykernel_launcher.py:77: UserWarning: Boolean Series key will be reindexed to match DataFrame index.\n",
      "/home/dsaez/venv/lib/python3.5/site-packages/ipykernel_launcher.py:78: UserWarning: Boolean Series key will be reindexed to match DataFrame index.\n"
     ]
    },
    {
     "name": "stdout",
     "output_type": "stream",
     "text": [
      "ja es {'Baseline3 Acc@1': 0.0, 'Baseline2 Acc@1': 0.0, 'Baseline2 Acc@5': 0.0, 'Baseline2 Acc@3': 0.0, 'Acc@3': 0.78, 'Baseline3 Acc@5': 0.0, 'Acc@1': 0.33, 'Baseline3 Acc@3': 0.0, 'langFrom': 'ja', 'langTo': 'es', 'Baseline': 0.56, 'Instances': 9, 'Acc@5': 0.78}\n"
     ]
    },
    {
     "name": "stderr",
     "output_type": "stream",
     "text": [
      "/home/dsaez/venv/lib/python3.5/site-packages/ipykernel_launcher.py:56: SettingWithCopyWarning: \n",
      "A value is trying to be set on a copy of a slice from a DataFrame.\n",
      "Try using .loc[row_indexer,col_indexer] = value instead\n",
      "\n",
      "See the caveats in the documentation: http://pandas.pydata.org/pandas-docs/stable/indexing.html#indexing-view-versus-copy\n",
      "/home/dsaez/venv/lib/python3.5/site-packages/ipykernel_launcher.py:57: SettingWithCopyWarning: \n",
      "A value is trying to be set on a copy of a slice from a DataFrame.\n",
      "Try using .loc[row_indexer,col_indexer] = value instead\n",
      "\n",
      "See the caveats in the documentation: http://pandas.pydata.org/pandas-docs/stable/indexing.html#indexing-view-versus-copy\n",
      "/home/dsaez/venv/lib/python3.5/site-packages/ipykernel_launcher.py:77: UserWarning: Boolean Series key will be reindexed to match DataFrame index.\n",
      "/home/dsaez/venv/lib/python3.5/site-packages/ipykernel_launcher.py:78: UserWarning: Boolean Series key will be reindexed to match DataFrame index.\n"
     ]
    },
    {
     "name": "stdout",
     "output_type": "stream",
     "text": [
      "ja en {'Baseline3 Acc@1': 0.0, 'Baseline2 Acc@1': 0.0, 'Baseline2 Acc@5': 0.01, 'Baseline2 Acc@3': 0.0, 'Acc@3': 0.68, 'Baseline3 Acc@5': 0.01, 'Acc@1': 0.47, 'Baseline3 Acc@3': 0.0, 'langFrom': 'ja', 'langTo': 'en', 'Baseline': 0.21, 'Instances': 68, 'Acc@5': 0.72}\n",
      "fr\n"
     ]
    },
    {
     "name": "stderr",
     "output_type": "stream",
     "text": [
      "/home/dsaez/venv/lib/python3.5/site-packages/ipykernel_launcher.py:33: FutureWarning: Sorting because non-concatenation axis is not aligned. A future version\n",
      "of pandas will change to not sort by default.\n",
      "\n",
      "To accept the future behavior, pass 'sort=False'.\n",
      "\n",
      "To retain the current behavior and silence the warning, pass 'sort=True'.\n",
      "\n"
     ]
    },
    {
     "name": "stdout",
     "output_type": "stream",
     "text": [
      "[(0.11445783, 'Distance'), (0.09186747, 'links_jaccardMEAN'), (0.08283132, 'LangTo_tfidf_normed'), (0.045180723, 'rank'), (0.0436747, 'links_jaccardSUM'), (0.04066265, 'LangTo_tfidfWeighted'), (0.039156627, 'Distance_my'), (0.03313253, 'editDistance'), (0.028614458, 'pos_norm_avg'), (0.024096385, 'rank_by_count'), (0.024096385, 'LangFrom_tfidf'), (0.022590362, 'size_median'), (0.022590362, 'pos_inv_avg_mult'), (0.018072288, 'pos_inv_avg'), (0.015060241, 'LangFrom_tfidfWeighted'), (0.013554217, 'rank_from'), (0.013554217, 'num_links_median_mult'), (0.013554217, 'num_links_median'), (0.013554217, 'num_links_avg_mult'), (0.013554217, 'num_links_avg'), (0.013554217, 'TotalCount'), (0.012048192, 'size_median_mult'), (0.012048192, 'count_normed'), (0.010542168, 'size_rel_avg_mult'), (0.010542168, 'size_rel_avg'), (0.010542168, 'rank_by_LangFrom_tfidf'), (0.010542168, 'pos_norm_avg_mult'), (0.010542168, 'links_rel_median_mult'), (0.010542168, 'links_rel_avg'), (0.010542168, 'links_jaccardMEDIAN'), (0.010542168, 'links_commonMEAN'), (0.010542168, 'fasttext_content_similarityMEDIAN'), (0.010542168, 'fasttext_content_similarityMEAN'), (0.010542168, 'Distance_myWeighted'), (0.009036144, 'size_avg'), (0.009036144, 'count'), (0.009036144, 'LangFrom_tfidf_normed'), (0.0075301207, 'pos_norm_median_mult'), (0.0075301207, 'pos_avg_mult'), (0.0075301207, 'pos_avg'), (0.0075301207, 'links_rel_median'), (0.0075301207, 'link_dens_avg'), (0.0075301207, 'LangTo_tfidf'), (0.0075301207, 'DistanceWeighted'), (0.006024096, 'pos_inv_median_mult'), (0.006024096, 'links_rel_avg_mult'), (0.004518072, 'size_rel_median'), (0.004518072, 'size_avg_mult'), (0.004518072, 'pos_inv_median'), (0.004518072, 'link_dens_median_mult'), (0.004518072, 'link_dens_median'), (0.004518072, 'TotalCount_mult'), (0.003012048, 'rank_mult'), (0.003012048, 'pos_median_mult'), (0.003012048, 'links_commonMEDIAN'), (0.003012048, 'link_dens_avg_mult'), (0.001506024, 'links_commonSUM'), (0.0, 'size_std_mult'), (0.0, 'size_std'), (0.0, 'size_rel_std_mult'), (0.0, 'size_rel_std'), (0.0, 'size_rel_median_mult'), (0.0, 'rank_by_LangTo_tfidf'), (0.0, 'pos_std_mult'), (0.0, 'pos_std'), (0.0, 'pos_norm_std_mult'), (0.0, 'pos_norm_std'), (0.0, 'pos_norm_median'), (0.0, 'pos_median'), (0.0, 'pos_inv_std_mult'), (0.0, 'pos_inv_std'), (0.0, 'num_links_std_mult'), (0.0, 'num_links_std'), (0.0, 'links_rel_std_mult'), (0.0, 'links_rel_std'), (0.0, 'link_dens_std_mult'), (0.0, 'link_dens_std')]\n"
     ]
    },
    {
     "name": "stderr",
     "output_type": "stream",
     "text": [
      "/home/dsaez/venv/lib/python3.5/site-packages/ipykernel_launcher.py:56: SettingWithCopyWarning: \n",
      "A value is trying to be set on a copy of a slice from a DataFrame.\n",
      "Try using .loc[row_indexer,col_indexer] = value instead\n",
      "\n",
      "See the caveats in the documentation: http://pandas.pydata.org/pandas-docs/stable/indexing.html#indexing-view-versus-copy\n",
      "/home/dsaez/venv/lib/python3.5/site-packages/ipykernel_launcher.py:57: SettingWithCopyWarning: \n",
      "A value is trying to be set on a copy of a slice from a DataFrame.\n",
      "Try using .loc[row_indexer,col_indexer] = value instead\n",
      "\n",
      "See the caveats in the documentation: http://pandas.pydata.org/pandas-docs/stable/indexing.html#indexing-view-versus-copy\n",
      "/home/dsaez/venv/lib/python3.5/site-packages/ipykernel_launcher.py:77: UserWarning: Boolean Series key will be reindexed to match DataFrame index.\n",
      "/home/dsaez/venv/lib/python3.5/site-packages/ipykernel_launcher.py:78: UserWarning: Boolean Series key will be reindexed to match DataFrame index.\n"
     ]
    },
    {
     "name": "stdout",
     "output_type": "stream",
     "text": [
      "fr ru {'Baseline3 Acc@1': 0.4, 'Baseline2 Acc@1': 0.0, 'Baseline2 Acc@5': 0.0, 'Baseline2 Acc@3': 0.0, 'Acc@3': 0.84, 'Baseline3 Acc@5': 0.74, 'Acc@1': 0.63, 'Baseline3 Acc@3': 0.65, 'langFrom': 'fr', 'langTo': 'ru', 'Baseline': 0.12, 'Instances': 43, 'Acc@5': 0.88}\n"
     ]
    },
    {
     "name": "stderr",
     "output_type": "stream",
     "text": [
      "/home/dsaez/venv/lib/python3.5/site-packages/ipykernel_launcher.py:56: SettingWithCopyWarning: \n",
      "A value is trying to be set on a copy of a slice from a DataFrame.\n",
      "Try using .loc[row_indexer,col_indexer] = value instead\n",
      "\n",
      "See the caveats in the documentation: http://pandas.pydata.org/pandas-docs/stable/indexing.html#indexing-view-versus-copy\n",
      "/home/dsaez/venv/lib/python3.5/site-packages/ipykernel_launcher.py:57: SettingWithCopyWarning: \n",
      "A value is trying to be set on a copy of a slice from a DataFrame.\n",
      "Try using .loc[row_indexer,col_indexer] = value instead\n",
      "\n",
      "See the caveats in the documentation: http://pandas.pydata.org/pandas-docs/stable/indexing.html#indexing-view-versus-copy\n",
      "/home/dsaez/venv/lib/python3.5/site-packages/ipykernel_launcher.py:77: UserWarning: Boolean Series key will be reindexed to match DataFrame index.\n",
      "/home/dsaez/venv/lib/python3.5/site-packages/ipykernel_launcher.py:78: UserWarning: Boolean Series key will be reindexed to match DataFrame index.\n"
     ]
    },
    {
     "name": "stdout",
     "output_type": "stream",
     "text": [
      "fr ja {'Baseline3 Acc@1': 0.13, 'Baseline2 Acc@1': 0.0, 'Baseline2 Acc@5': 0.02, 'Baseline2 Acc@3': 0.02, 'Acc@3': 0.63, 'Baseline3 Acc@5': 0.43, 'Acc@1': 0.38, 'Baseline3 Acc@3': 0.33, 'langFrom': 'fr', 'langTo': 'ja', 'Baseline': 0.32, 'Instances': 60, 'Acc@5': 0.78}\n"
     ]
    },
    {
     "name": "stderr",
     "output_type": "stream",
     "text": [
      "/home/dsaez/venv/lib/python3.5/site-packages/ipykernel_launcher.py:56: SettingWithCopyWarning: \n",
      "A value is trying to be set on a copy of a slice from a DataFrame.\n",
      "Try using .loc[row_indexer,col_indexer] = value instead\n",
      "\n",
      "See the caveats in the documentation: http://pandas.pydata.org/pandas-docs/stable/indexing.html#indexing-view-versus-copy\n",
      "/home/dsaez/venv/lib/python3.5/site-packages/ipykernel_launcher.py:57: SettingWithCopyWarning: \n",
      "A value is trying to be set on a copy of a slice from a DataFrame.\n",
      "Try using .loc[row_indexer,col_indexer] = value instead\n",
      "\n",
      "See the caveats in the documentation: http://pandas.pydata.org/pandas-docs/stable/indexing.html#indexing-view-versus-copy\n",
      "/home/dsaez/venv/lib/python3.5/site-packages/ipykernel_launcher.py:77: UserWarning: Boolean Series key will be reindexed to match DataFrame index.\n",
      "/home/dsaez/venv/lib/python3.5/site-packages/ipykernel_launcher.py:78: UserWarning: Boolean Series key will be reindexed to match DataFrame index.\n"
     ]
    },
    {
     "name": "stdout",
     "output_type": "stream",
     "text": [
      "fr ar {'Baseline3 Acc@1': 0.3, 'Baseline2 Acc@1': 0.03, 'Baseline2 Acc@5': 0.07, 'Baseline2 Acc@3': 0.03, 'Acc@3': 0.73, 'Baseline3 Acc@5': 0.6, 'Acc@1': 0.37, 'Baseline3 Acc@3': 0.5, 'langFrom': 'fr', 'langTo': 'ar', 'Baseline': 0.17, 'Instances': 30, 'Acc@5': 0.8}\n"
     ]
    },
    {
     "name": "stderr",
     "output_type": "stream",
     "text": [
      "/home/dsaez/venv/lib/python3.5/site-packages/ipykernel_launcher.py:56: SettingWithCopyWarning: \n",
      "A value is trying to be set on a copy of a slice from a DataFrame.\n",
      "Try using .loc[row_indexer,col_indexer] = value instead\n",
      "\n",
      "See the caveats in the documentation: http://pandas.pydata.org/pandas-docs/stable/indexing.html#indexing-view-versus-copy\n",
      "/home/dsaez/venv/lib/python3.5/site-packages/ipykernel_launcher.py:57: SettingWithCopyWarning: \n",
      "A value is trying to be set on a copy of a slice from a DataFrame.\n",
      "Try using .loc[row_indexer,col_indexer] = value instead\n",
      "\n",
      "See the caveats in the documentation: http://pandas.pydata.org/pandas-docs/stable/indexing.html#indexing-view-versus-copy\n",
      "/home/dsaez/venv/lib/python3.5/site-packages/ipykernel_launcher.py:77: UserWarning: Boolean Series key will be reindexed to match DataFrame index.\n",
      "/home/dsaez/venv/lib/python3.5/site-packages/ipykernel_launcher.py:78: UserWarning: Boolean Series key will be reindexed to match DataFrame index.\n"
     ]
    },
    {
     "name": "stdout",
     "output_type": "stream",
     "text": [
      "fr es {'Baseline3 Acc@1': 0.67, 'Baseline2 Acc@1': 0.0, 'Baseline2 Acc@5': 0.03, 'Baseline2 Acc@3': 0.02, 'Acc@3': 0.93, 'Baseline3 Acc@5': 0.95, 'Acc@1': 0.69, 'Baseline3 Acc@3': 0.88, 'langFrom': 'fr', 'langTo': 'es', 'Baseline': 0.18, 'Instances': 100, 'Acc@5': 0.95}\n"
     ]
    },
    {
     "name": "stderr",
     "output_type": "stream",
     "text": [
      "/home/dsaez/venv/lib/python3.5/site-packages/ipykernel_launcher.py:56: SettingWithCopyWarning: \n",
      "A value is trying to be set on a copy of a slice from a DataFrame.\n",
      "Try using .loc[row_indexer,col_indexer] = value instead\n",
      "\n",
      "See the caveats in the documentation: http://pandas.pydata.org/pandas-docs/stable/indexing.html#indexing-view-versus-copy\n",
      "/home/dsaez/venv/lib/python3.5/site-packages/ipykernel_launcher.py:57: SettingWithCopyWarning: \n",
      "A value is trying to be set on a copy of a slice from a DataFrame.\n",
      "Try using .loc[row_indexer,col_indexer] = value instead\n",
      "\n",
      "See the caveats in the documentation: http://pandas.pydata.org/pandas-docs/stable/indexing.html#indexing-view-versus-copy\n",
      "/home/dsaez/venv/lib/python3.5/site-packages/ipykernel_launcher.py:77: UserWarning: Boolean Series key will be reindexed to match DataFrame index.\n",
      "/home/dsaez/venv/lib/python3.5/site-packages/ipykernel_launcher.py:78: UserWarning: Boolean Series key will be reindexed to match DataFrame index.\n"
     ]
    },
    {
     "name": "stdout",
     "output_type": "stream",
     "text": [
      "fr en {'Baseline3 Acc@1': 0.69, 'Baseline2 Acc@1': 0.67, 'Baseline2 Acc@5': 0.89, 'Baseline2 Acc@3': 0.84, 'Acc@3': 0.94, 'Baseline3 Acc@5': 0.88, 'Acc@1': 0.77, 'Baseline3 Acc@3': 0.84, 'langFrom': 'fr', 'langTo': 'en', 'Baseline': 0.58, 'Instances': 342, 'Acc@5': 0.97}\n",
      "ar\n"
     ]
    },
    {
     "name": "stderr",
     "output_type": "stream",
     "text": [
      "/home/dsaez/venv/lib/python3.5/site-packages/ipykernel_launcher.py:33: FutureWarning: Sorting because non-concatenation axis is not aligned. A future version\n",
      "of pandas will change to not sort by default.\n",
      "\n",
      "To accept the future behavior, pass 'sort=False'.\n",
      "\n",
      "To retain the current behavior and silence the warning, pass 'sort=True'.\n",
      "\n"
     ]
    },
    {
     "name": "stdout",
     "output_type": "stream",
     "text": [
      "[(0.14392804, 'Distance_my'), (0.06896552, 'links_jaccardMEAN'), (0.059970014, 'LangTo_tfidfWeighted'), (0.047976013, 'editDistance'), (0.046476763, 'LangTo_tfidf_normed'), (0.04347826, 'rank'), (0.03898051, 'links_jaccardSUM'), (0.03898051, 'Distance'), (0.032983508, 'pos_avg'), (0.025487257, 'num_links_median_mult'), (0.023988007, 'LangTo_tfidf'), (0.022488756, 'DistanceWeighted'), (0.020989506, 'links_jaccardMEDIAN'), (0.017991005, 'size_median_mult'), (0.017991005, 'pos_norm_median_mult'), (0.017991005, 'pos_norm_avg_mult'), (0.017991005, 'LangFrom_tfidfWeighted'), (0.016491754, 'rank_by_count'), (0.014992503, 'pos_norm_avg'), (0.014992503, 'count'), (0.014992503, 'LangFrom_tfidf_normed'), (0.014992503, 'LangFrom_tfidf'), (0.013493253, 'size_median'), (0.013493253, 'pos_avg_mult'), (0.013493253, 'num_links_avg'), (0.011994003, 'size_rel_median'), (0.011994003, 'size_avg_mult'), (0.011994003, 'links_rel_median'), (0.011994003, 'link_dens_avg_mult'), (0.011994003, 'fasttext_content_similarityMEAN'), (0.010494753, 'size_rel_avg'), (0.010494753, 'num_links_median'), (0.010494753, 'fasttext_content_similarityMEDIAN'), (0.010494753, 'Distance_myWeighted'), (0.008995502, 'rank_by_LangFrom_tfidf'), (0.008995502, 'pos_inv_median'), (0.008995502, 'num_links_avg_mult'), (0.0074962517, 'link_dens_median_mult'), (0.0059970017, 'pos_median'), (0.0059970017, 'pos_inv_avg_mult'), (0.0059970017, 'pos_inv_avg'), (0.004497751, 'size_avg'), (0.004497751, 'rank_from'), (0.004497751, 'links_rel_avg'), (0.004497751, 'link_dens_avg'), (0.004497751, 'TotalCount_mult'), (0.0029985008, 'rank_mult'), (0.0029985008, 'links_commonSUM'), (0.0014992504, 'size_rel_median_mult'), (0.0014992504, 'size_rel_avg_mult'), (0.0014992504, 'pos_norm_median'), (0.0014992504, 'pos_median_mult'), (0.0014992504, 'pos_inv_median_mult'), (0.0014992504, 'links_rel_avg_mult'), (0.0014992504, 'links_commonMEAN'), (0.0014992504, 'count_normed'), (0.0014992504, 'TotalCount'), (0.0, 'size_std_mult'), (0.0, 'size_std'), (0.0, 'size_rel_std_mult'), (0.0, 'size_rel_std'), (0.0, 'rank_by_LangTo_tfidf'), (0.0, 'pos_std_mult'), (0.0, 'pos_std'), (0.0, 'pos_norm_std_mult'), (0.0, 'pos_norm_std'), (0.0, 'pos_inv_std_mult'), (0.0, 'pos_inv_std'), (0.0, 'num_links_std_mult'), (0.0, 'num_links_std'), (0.0, 'links_rel_std_mult'), (0.0, 'links_rel_std'), (0.0, 'links_rel_median_mult'), (0.0, 'links_commonMEDIAN'), (0.0, 'link_dens_std_mult'), (0.0, 'link_dens_std'), (0.0, 'link_dens_median')]\n"
     ]
    },
    {
     "name": "stderr",
     "output_type": "stream",
     "text": [
      "/home/dsaez/venv/lib/python3.5/site-packages/ipykernel_launcher.py:56: SettingWithCopyWarning: \n",
      "A value is trying to be set on a copy of a slice from a DataFrame.\n",
      "Try using .loc[row_indexer,col_indexer] = value instead\n",
      "\n",
      "See the caveats in the documentation: http://pandas.pydata.org/pandas-docs/stable/indexing.html#indexing-view-versus-copy\n",
      "/home/dsaez/venv/lib/python3.5/site-packages/ipykernel_launcher.py:57: SettingWithCopyWarning: \n",
      "A value is trying to be set on a copy of a slice from a DataFrame.\n",
      "Try using .loc[row_indexer,col_indexer] = value instead\n",
      "\n",
      "See the caveats in the documentation: http://pandas.pydata.org/pandas-docs/stable/indexing.html#indexing-view-versus-copy\n",
      "/home/dsaez/venv/lib/python3.5/site-packages/ipykernel_launcher.py:77: UserWarning: Boolean Series key will be reindexed to match DataFrame index.\n",
      "/home/dsaez/venv/lib/python3.5/site-packages/ipykernel_launcher.py:78: UserWarning: Boolean Series key will be reindexed to match DataFrame index.\n"
     ]
    },
    {
     "name": "stdout",
     "output_type": "stream",
     "text": [
      "ar ru {'Baseline3 Acc@1': 0.39, 'Baseline2 Acc@1': 0.04, 'Baseline2 Acc@5': 0.09, 'Baseline2 Acc@3': 0.09, 'Acc@3': 0.96, 'Baseline3 Acc@5': 0.87, 'Acc@1': 0.78, 'Baseline3 Acc@3': 0.7, 'langFrom': 'ar', 'langTo': 'ru', 'Baseline': 0.09, 'Instances': 23, 'Acc@5': 1.0}\n"
     ]
    },
    {
     "name": "stderr",
     "output_type": "stream",
     "text": [
      "/home/dsaez/venv/lib/python3.5/site-packages/ipykernel_launcher.py:56: SettingWithCopyWarning: \n",
      "A value is trying to be set on a copy of a slice from a DataFrame.\n",
      "Try using .loc[row_indexer,col_indexer] = value instead\n",
      "\n",
      "See the caveats in the documentation: http://pandas.pydata.org/pandas-docs/stable/indexing.html#indexing-view-versus-copy\n",
      "/home/dsaez/venv/lib/python3.5/site-packages/ipykernel_launcher.py:57: SettingWithCopyWarning: \n",
      "A value is trying to be set on a copy of a slice from a DataFrame.\n",
      "Try using .loc[row_indexer,col_indexer] = value instead\n",
      "\n",
      "See the caveats in the documentation: http://pandas.pydata.org/pandas-docs/stable/indexing.html#indexing-view-versus-copy\n",
      "/home/dsaez/venv/lib/python3.5/site-packages/ipykernel_launcher.py:77: UserWarning: Boolean Series key will be reindexed to match DataFrame index.\n",
      "/home/dsaez/venv/lib/python3.5/site-packages/ipykernel_launcher.py:78: UserWarning: Boolean Series key will be reindexed to match DataFrame index.\n"
     ]
    },
    {
     "name": "stdout",
     "output_type": "stream",
     "text": [
      "ar ja {'Baseline3 Acc@1': 0.3, 'Baseline2 Acc@1': 0.0, 'Baseline2 Acc@5': 0.0, 'Baseline2 Acc@3': 0.0, 'Acc@3': 0.6, 'Baseline3 Acc@5': 0.6, 'Acc@1': 0.2, 'Baseline3 Acc@3': 0.3, 'langFrom': 'ar', 'langTo': 'ja', 'Baseline': 0.3, 'Instances': 10, 'Acc@5': 0.9}\n"
     ]
    },
    {
     "name": "stderr",
     "output_type": "stream",
     "text": [
      "/home/dsaez/venv/lib/python3.5/site-packages/ipykernel_launcher.py:56: SettingWithCopyWarning: \n",
      "A value is trying to be set on a copy of a slice from a DataFrame.\n",
      "Try using .loc[row_indexer,col_indexer] = value instead\n",
      "\n",
      "See the caveats in the documentation: http://pandas.pydata.org/pandas-docs/stable/indexing.html#indexing-view-versus-copy\n",
      "/home/dsaez/venv/lib/python3.5/site-packages/ipykernel_launcher.py:57: SettingWithCopyWarning: \n",
      "A value is trying to be set on a copy of a slice from a DataFrame.\n",
      "Try using .loc[row_indexer,col_indexer] = value instead\n",
      "\n",
      "See the caveats in the documentation: http://pandas.pydata.org/pandas-docs/stable/indexing.html#indexing-view-versus-copy\n",
      "/home/dsaez/venv/lib/python3.5/site-packages/ipykernel_launcher.py:77: UserWarning: Boolean Series key will be reindexed to match DataFrame index.\n",
      "/home/dsaez/venv/lib/python3.5/site-packages/ipykernel_launcher.py:78: UserWarning: Boolean Series key will be reindexed to match DataFrame index.\n"
     ]
    },
    {
     "name": "stdout",
     "output_type": "stream",
     "text": [
      "ar fr {'Baseline3 Acc@1': 0.58, 'Baseline2 Acc@1': 0.07, 'Baseline2 Acc@5': 0.18, 'Baseline2 Acc@3': 0.12, 'Acc@3': 0.86, 'Baseline3 Acc@5': 0.8, 'Acc@1': 0.57, 'Baseline3 Acc@3': 0.76, 'langFrom': 'ar', 'langTo': 'fr', 'Baseline': 0.45, 'Instances': 136, 'Acc@5': 0.9}\n"
     ]
    },
    {
     "name": "stderr",
     "output_type": "stream",
     "text": [
      "/home/dsaez/venv/lib/python3.5/site-packages/ipykernel_launcher.py:56: SettingWithCopyWarning: \n",
      "A value is trying to be set on a copy of a slice from a DataFrame.\n",
      "Try using .loc[row_indexer,col_indexer] = value instead\n",
      "\n",
      "See the caveats in the documentation: http://pandas.pydata.org/pandas-docs/stable/indexing.html#indexing-view-versus-copy\n",
      "/home/dsaez/venv/lib/python3.5/site-packages/ipykernel_launcher.py:57: SettingWithCopyWarning: \n",
      "A value is trying to be set on a copy of a slice from a DataFrame.\n",
      "Try using .loc[row_indexer,col_indexer] = value instead\n",
      "\n",
      "See the caveats in the documentation: http://pandas.pydata.org/pandas-docs/stable/indexing.html#indexing-view-versus-copy\n",
      "/home/dsaez/venv/lib/python3.5/site-packages/ipykernel_launcher.py:77: UserWarning: Boolean Series key will be reindexed to match DataFrame index.\n",
      "/home/dsaez/venv/lib/python3.5/site-packages/ipykernel_launcher.py:78: UserWarning: Boolean Series key will be reindexed to match DataFrame index.\n"
     ]
    },
    {
     "name": "stdout",
     "output_type": "stream",
     "text": [
      "ar es {'Baseline3 Acc@1': 0.51, 'Baseline2 Acc@1': 0.0, 'Baseline2 Acc@5': 0.12, 'Baseline2 Acc@3': 0.07, 'Acc@3': 0.88, 'Baseline3 Acc@5': 0.85, 'Acc@1': 0.63, 'Baseline3 Acc@3': 0.73, 'langFrom': 'ar', 'langTo': 'es', 'Baseline': 0.58, 'Instances': 59, 'Acc@5': 0.95}\n"
     ]
    },
    {
     "name": "stderr",
     "output_type": "stream",
     "text": [
      "/home/dsaez/venv/lib/python3.5/site-packages/ipykernel_launcher.py:56: SettingWithCopyWarning: \n",
      "A value is trying to be set on a copy of a slice from a DataFrame.\n",
      "Try using .loc[row_indexer,col_indexer] = value instead\n",
      "\n",
      "See the caveats in the documentation: http://pandas.pydata.org/pandas-docs/stable/indexing.html#indexing-view-versus-copy\n",
      "/home/dsaez/venv/lib/python3.5/site-packages/ipykernel_launcher.py:57: SettingWithCopyWarning: \n",
      "A value is trying to be set on a copy of a slice from a DataFrame.\n",
      "Try using .loc[row_indexer,col_indexer] = value instead\n",
      "\n",
      "See the caveats in the documentation: http://pandas.pydata.org/pandas-docs/stable/indexing.html#indexing-view-versus-copy\n",
      "/home/dsaez/venv/lib/python3.5/site-packages/ipykernel_launcher.py:77: UserWarning: Boolean Series key will be reindexed to match DataFrame index.\n",
      "/home/dsaez/venv/lib/python3.5/site-packages/ipykernel_launcher.py:78: UserWarning: Boolean Series key will be reindexed to match DataFrame index.\n"
     ]
    },
    {
     "name": "stdout",
     "output_type": "stream",
     "text": [
      "ar en {'Baseline3 Acc@1': 0.51, 'Baseline2 Acc@1': 0.6, 'Baseline2 Acc@5': 0.93, 'Baseline2 Acc@3': 0.86, 'Acc@3': 0.95, 'Baseline3 Acc@5': 0.85, 'Acc@1': 0.73, 'Baseline3 Acc@3': 0.78, 'langFrom': 'ar', 'langTo': 'en', 'Baseline': 0.35, 'Instances': 382, 'Acc@5': 0.97}\n",
      "es\n"
     ]
    },
    {
     "name": "stderr",
     "output_type": "stream",
     "text": [
      "/home/dsaez/venv/lib/python3.5/site-packages/ipykernel_launcher.py:33: FutureWarning: Sorting because non-concatenation axis is not aligned. A future version\n",
      "of pandas will change to not sort by default.\n",
      "\n",
      "To accept the future behavior, pass 'sort=False'.\n",
      "\n",
      "To retain the current behavior and silence the warning, pass 'sort=True'.\n",
      "\n"
     ]
    },
    {
     "name": "stdout",
     "output_type": "stream",
     "text": [
      "[(0.13153961, 'Distance_my'), (0.064275034, 'links_jaccardMEAN'), (0.06278027, 'LangTo_tfidf_normed'), (0.059790734, 'rank'), (0.058295965, 'Distance'), (0.046337817, 'pos_avg'), (0.046337817, 'links_jaccardSUM'), (0.044843048, 'LangTo_tfidfWeighted'), (0.028400598, 'pos_norm_avg_mult'), (0.022421524, 'rank_by_count'), (0.022421524, 'editDistance'), (0.020926757, 'pos_inv_avg'), (0.020926757, 'LangTo_tfidf'), (0.019431988, 'pos_norm_avg'), (0.016442452, 'size_rel_avg'), (0.016442452, 'TotalCount'), (0.014947684, 'size_median'), (0.014947684, 'pos_inv_median'), (0.014947684, 'pos_inv_avg_mult'), (0.014947684, 'pos_avg_mult'), (0.014947684, 'LangFrom_tfidfWeighted'), (0.013452915, 'size_rel_median'), (0.013452915, 'num_links_median_mult'), (0.013452915, 'link_dens_median'), (0.0119581465, 'num_links_avg'), (0.0119581465, 'fasttext_content_similarityMEAN'), (0.010463378, 'num_links_avg_mult'), (0.010463378, 'links_jaccardMEDIAN'), (0.010463378, 'LangFrom_tfidf'), (0.010463378, 'DistanceWeighted'), (0.00896861, 'size_median_mult'), (0.00896861, 'fasttext_content_similarityMEDIAN'), (0.00896861, 'count_normed'), (0.007473842, 'links_rel_median_mult'), (0.007473842, 'link_dens_avg_mult'), (0.0059790732, 'size_avg'), (0.0059790732, 'pos_median'), (0.0059790732, 'num_links_median'), (0.0059790732, 'links_rel_median'), (0.0059790732, 'count'), (0.0059790732, 'TotalCount_mult'), (0.004484305, 'size_avg_mult'), (0.004484305, 'rank_mult'), (0.004484305, 'rank_by_LangFrom_tfidf'), (0.004484305, 'pos_norm_median_mult'), (0.004484305, 'links_rel_avg_mult'), (0.004484305, 'links_rel_avg'), (0.004484305, 'links_commonSUM'), (0.004484305, 'links_commonMEAN'), (0.004484305, 'link_dens_avg'), (0.004484305, 'LangFrom_tfidf_normed'), (0.004484305, 'Distance_myWeighted'), (0.0029895366, 'size_rel_avg_mult'), (0.0029895366, 'pos_median_mult'), (0.0014947683, 'rank_from'), (0.0014947683, 'pos_inv_median_mult'), (0.0014947683, 'links_commonMEDIAN'), (0.0, 'size_std_mult'), (0.0, 'size_std'), (0.0, 'size_rel_std_mult'), (0.0, 'size_rel_std'), (0.0, 'size_rel_median_mult'), (0.0, 'rank_by_LangTo_tfidf'), (0.0, 'pos_std_mult'), (0.0, 'pos_std'), (0.0, 'pos_norm_std_mult'), (0.0, 'pos_norm_std'), (0.0, 'pos_norm_median'), (0.0, 'pos_inv_std_mult'), (0.0, 'pos_inv_std'), (0.0, 'num_links_std_mult'), (0.0, 'num_links_std'), (0.0, 'links_rel_std_mult'), (0.0, 'links_rel_std'), (0.0, 'link_dens_std_mult'), (0.0, 'link_dens_std'), (0.0, 'link_dens_median_mult')]\n"
     ]
    },
    {
     "name": "stderr",
     "output_type": "stream",
     "text": [
      "/home/dsaez/venv/lib/python3.5/site-packages/ipykernel_launcher.py:56: SettingWithCopyWarning: \n",
      "A value is trying to be set on a copy of a slice from a DataFrame.\n",
      "Try using .loc[row_indexer,col_indexer] = value instead\n",
      "\n",
      "See the caveats in the documentation: http://pandas.pydata.org/pandas-docs/stable/indexing.html#indexing-view-versus-copy\n",
      "/home/dsaez/venv/lib/python3.5/site-packages/ipykernel_launcher.py:57: SettingWithCopyWarning: \n",
      "A value is trying to be set on a copy of a slice from a DataFrame.\n",
      "Try using .loc[row_indexer,col_indexer] = value instead\n",
      "\n",
      "See the caveats in the documentation: http://pandas.pydata.org/pandas-docs/stable/indexing.html#indexing-view-versus-copy\n",
      "/home/dsaez/venv/lib/python3.5/site-packages/ipykernel_launcher.py:77: UserWarning: Boolean Series key will be reindexed to match DataFrame index.\n",
      "/home/dsaez/venv/lib/python3.5/site-packages/ipykernel_launcher.py:78: UserWarning: Boolean Series key will be reindexed to match DataFrame index.\n"
     ]
    },
    {
     "name": "stdout",
     "output_type": "stream",
     "text": [
      "es ru {'Baseline3 Acc@1': 0.44, 'Baseline2 Acc@1': 0.0, 'Baseline2 Acc@5': 0.0, 'Baseline2 Acc@3': 0.0, 'Acc@3': 0.81, 'Baseline3 Acc@5': 0.75, 'Acc@1': 0.69, 'Baseline3 Acc@3': 0.62, 'langFrom': 'es', 'langTo': 'ru', 'Baseline': 0.19, 'Instances': 16, 'Acc@5': 0.88}\n"
     ]
    },
    {
     "name": "stderr",
     "output_type": "stream",
     "text": [
      "/home/dsaez/venv/lib/python3.5/site-packages/ipykernel_launcher.py:56: SettingWithCopyWarning: \n",
      "A value is trying to be set on a copy of a slice from a DataFrame.\n",
      "Try using .loc[row_indexer,col_indexer] = value instead\n",
      "\n",
      "See the caveats in the documentation: http://pandas.pydata.org/pandas-docs/stable/indexing.html#indexing-view-versus-copy\n",
      "/home/dsaez/venv/lib/python3.5/site-packages/ipykernel_launcher.py:57: SettingWithCopyWarning: \n",
      "A value is trying to be set on a copy of a slice from a DataFrame.\n",
      "Try using .loc[row_indexer,col_indexer] = value instead\n",
      "\n",
      "See the caveats in the documentation: http://pandas.pydata.org/pandas-docs/stable/indexing.html#indexing-view-versus-copy\n"
     ]
    },
    {
     "name": "stdout",
     "output_type": "stream",
     "text": [
      "es ja {'Baseline3 Acc@1': 0.0, 'Baseline2 Acc@1': 0.0, 'Baseline2 Acc@5': 0.0, 'Baseline2 Acc@3': 0.0, 'Acc@3': 1.0, 'Baseline3 Acc@5': 0.0, 'Acc@1': 1.0, 'Baseline3 Acc@3': 0.0, 'langFrom': 'es', 'langTo': 'ja', 'Baseline': 0.0, 'Instances': 1, 'Acc@5': 1.0}\n"
     ]
    },
    {
     "name": "stderr",
     "output_type": "stream",
     "text": [
      "/home/dsaez/venv/lib/python3.5/site-packages/ipykernel_launcher.py:56: SettingWithCopyWarning: \n",
      "A value is trying to be set on a copy of a slice from a DataFrame.\n",
      "Try using .loc[row_indexer,col_indexer] = value instead\n",
      "\n",
      "See the caveats in the documentation: http://pandas.pydata.org/pandas-docs/stable/indexing.html#indexing-view-versus-copy\n",
      "/home/dsaez/venv/lib/python3.5/site-packages/ipykernel_launcher.py:57: SettingWithCopyWarning: \n",
      "A value is trying to be set on a copy of a slice from a DataFrame.\n",
      "Try using .loc[row_indexer,col_indexer] = value instead\n",
      "\n",
      "See the caveats in the documentation: http://pandas.pydata.org/pandas-docs/stable/indexing.html#indexing-view-versus-copy\n",
      "/home/dsaez/venv/lib/python3.5/site-packages/ipykernel_launcher.py:77: UserWarning: Boolean Series key will be reindexed to match DataFrame index.\n",
      "/home/dsaez/venv/lib/python3.5/site-packages/ipykernel_launcher.py:78: UserWarning: Boolean Series key will be reindexed to match DataFrame index.\n"
     ]
    },
    {
     "name": "stdout",
     "output_type": "stream",
     "text": [
      "es fr {'Baseline3 Acc@1': 0.78, 'Baseline2 Acc@1': 0.0, 'Baseline2 Acc@5': 0.06, 'Baseline2 Acc@3': 0.04, 'Acc@3': 0.97, 'Baseline3 Acc@5': 0.95, 'Acc@1': 0.8, 'Baseline3 Acc@3': 0.91, 'langFrom': 'es', 'langTo': 'fr', 'Baseline': 0.59, 'Instances': 335, 'Acc@5': 0.98}\n"
     ]
    },
    {
     "name": "stderr",
     "output_type": "stream",
     "text": [
      "/home/dsaez/venv/lib/python3.5/site-packages/ipykernel_launcher.py:56: SettingWithCopyWarning: \n",
      "A value is trying to be set on a copy of a slice from a DataFrame.\n",
      "Try using .loc[row_indexer,col_indexer] = value instead\n",
      "\n",
      "See the caveats in the documentation: http://pandas.pydata.org/pandas-docs/stable/indexing.html#indexing-view-versus-copy\n",
      "/home/dsaez/venv/lib/python3.5/site-packages/ipykernel_launcher.py:57: SettingWithCopyWarning: \n",
      "A value is trying to be set on a copy of a slice from a DataFrame.\n",
      "Try using .loc[row_indexer,col_indexer] = value instead\n",
      "\n",
      "See the caveats in the documentation: http://pandas.pydata.org/pandas-docs/stable/indexing.html#indexing-view-versus-copy\n",
      "/home/dsaez/venv/lib/python3.5/site-packages/ipykernel_launcher.py:77: UserWarning: Boolean Series key will be reindexed to match DataFrame index.\n",
      "/home/dsaez/venv/lib/python3.5/site-packages/ipykernel_launcher.py:78: UserWarning: Boolean Series key will be reindexed to match DataFrame index.\n"
     ]
    },
    {
     "name": "stdout",
     "output_type": "stream",
     "text": [
      "es ar {'Baseline3 Acc@1': 0.5, 'Baseline2 Acc@1': 0.0, 'Baseline2 Acc@5': 0.0, 'Baseline2 Acc@3': 0.0, 'Acc@3': 1.0, 'Baseline3 Acc@5': 1.0, 'Acc@1': 0.0, 'Baseline3 Acc@3': 1.0, 'langFrom': 'es', 'langTo': 'ar', 'Baseline': 0.0, 'Instances': 2, 'Acc@5': 1.0}\n"
     ]
    },
    {
     "name": "stderr",
     "output_type": "stream",
     "text": [
      "/home/dsaez/venv/lib/python3.5/site-packages/ipykernel_launcher.py:56: SettingWithCopyWarning: \n",
      "A value is trying to be set on a copy of a slice from a DataFrame.\n",
      "Try using .loc[row_indexer,col_indexer] = value instead\n",
      "\n",
      "See the caveats in the documentation: http://pandas.pydata.org/pandas-docs/stable/indexing.html#indexing-view-versus-copy\n",
      "/home/dsaez/venv/lib/python3.5/site-packages/ipykernel_launcher.py:57: SettingWithCopyWarning: \n",
      "A value is trying to be set on a copy of a slice from a DataFrame.\n",
      "Try using .loc[row_indexer,col_indexer] = value instead\n",
      "\n",
      "See the caveats in the documentation: http://pandas.pydata.org/pandas-docs/stable/indexing.html#indexing-view-versus-copy\n",
      "/home/dsaez/venv/lib/python3.5/site-packages/ipykernel_launcher.py:77: UserWarning: Boolean Series key will be reindexed to match DataFrame index.\n",
      "/home/dsaez/venv/lib/python3.5/site-packages/ipykernel_launcher.py:78: UserWarning: Boolean Series key will be reindexed to match DataFrame index.\n"
     ]
    },
    {
     "name": "stdout",
     "output_type": "stream",
     "text": [
      "es en {'Baseline3 Acc@1': 0.69, 'Baseline2 Acc@1': 0.73, 'Baseline2 Acc@5': 0.92, 'Baseline2 Acc@3': 0.86, 'Acc@3': 0.93, 'Baseline3 Acc@5': 0.91, 'Acc@1': 0.77, 'Baseline3 Acc@3': 0.84, 'langFrom': 'es', 'langTo': 'en', 'Baseline': 0.71, 'Instances': 359, 'Acc@5': 0.97}\n",
      "en\n"
     ]
    },
    {
     "name": "stderr",
     "output_type": "stream",
     "text": [
      "/home/dsaez/venv/lib/python3.5/site-packages/ipykernel_launcher.py:33: FutureWarning: Sorting because non-concatenation axis is not aligned. A future version\n",
      "of pandas will change to not sort by default.\n",
      "\n",
      "To accept the future behavior, pass 'sort=False'.\n",
      "\n",
      "To retain the current behavior and silence the warning, pass 'sort=True'.\n",
      "\n"
     ]
    },
    {
     "name": "stdout",
     "output_type": "stream",
     "text": [
      "[(0.14845024, 'Distance_my'), (0.05872757, 'links_jaccardMEAN'), (0.055464927, 'links_jaccardSUM'), (0.045677, 'editDistance'), (0.045677, 'LangTo_tfidfWeighted'), (0.040783033, 'pos_avg'), (0.03752039, 'rank'), (0.03588907, 'pos_norm_avg_mult'), (0.034257747, 'LangTo_tfidf'), (0.029363785, 'size_median'), (0.029363785, 'LangTo_tfidf_normed'), (0.027732464, 'pos_norm_avg'), (0.0228385, 'rank_by_count'), (0.021207178, 'pos_norm_median_mult'), (0.021207178, 'LangFrom_tfidfWeighted'), (0.019575857, 'LangFrom_tfidf'), (0.017944535, 'pos_inv_avg_mult'), (0.016313214, 'pos_inv_avg'), (0.016313214, 'pos_avg_mult'), (0.016313214, 'links_jaccardMEDIAN'), (0.016313214, 'fasttext_content_similarityMEAN'), (0.013050571, 'size_rel_median'), (0.013050571, 'rank_by_LangFrom_tfidf'), (0.013050571, 'LangFrom_tfidf_normed'), (0.01141925, 'size_rel_avg'), (0.01141925, 'pos_inv_median'), (0.01141925, 'link_dens_median_mult'), (0.01141925, 'link_dens_avg_mult'), (0.01141925, 'link_dens_avg'), (0.009787928, 'num_links_avg_mult'), (0.009787928, 'count'), (0.008156607, 'links_rel_avg'), (0.008156607, 'links_commonMEAN'), (0.008156607, 'TotalCount'), (0.008156607, 'Distance_myWeighted'), (0.0065252855, 'size_avg'), (0.0065252855, 'pos_median'), (0.0065252855, 'num_links_median'), (0.0065252855, 'num_links_avg'), (0.0065252855, 'links_rel_median'), (0.0065252855, 'Distance'), (0.004893964, 'size_rel_avg_mult'), (0.004893964, 'size_median_mult'), (0.004893964, 'size_avg_mult'), (0.004893964, 'links_commonSUM'), (0.004893964, 'link_dens_median'), (0.004893964, 'TotalCount_mult'), (0.0032626428, 'size_rel_median_mult'), (0.0032626428, 'rank_from'), (0.0032626428, 'pos_norm_median'), (0.0032626428, 'pos_median_mult'), (0.0032626428, 'links_rel_median_mult'), (0.0032626428, 'links_commonMEDIAN'), (0.0016313214, 'rank_mult'), (0.0016313214, 'pos_inv_median_mult'), (0.0016313214, 'num_links_median_mult'), (0.0016313214, 'links_rel_avg_mult'), (0.0, 'size_std_mult'), (0.0, 'size_std'), (0.0, 'size_rel_std_mult'), (0.0, 'size_rel_std'), (0.0, 'rank_by_LangTo_tfidf'), (0.0, 'pos_std_mult'), (0.0, 'pos_std'), (0.0, 'pos_norm_std_mult'), (0.0, 'pos_norm_std'), (0.0, 'pos_inv_std_mult'), (0.0, 'pos_inv_std'), (0.0, 'num_links_std_mult'), (0.0, 'num_links_std'), (0.0, 'links_rel_std_mult'), (0.0, 'links_rel_std'), (0.0, 'link_dens_std_mult'), (0.0, 'link_dens_std'), (0.0, 'fasttext_content_similarityMEDIAN'), (0.0, 'count_normed'), (0.0, 'DistanceWeighted')]\n"
     ]
    },
    {
     "name": "stderr",
     "output_type": "stream",
     "text": [
      "/home/dsaez/venv/lib/python3.5/site-packages/ipykernel_launcher.py:56: SettingWithCopyWarning: \n",
      "A value is trying to be set on a copy of a slice from a DataFrame.\n",
      "Try using .loc[row_indexer,col_indexer] = value instead\n",
      "\n",
      "See the caveats in the documentation: http://pandas.pydata.org/pandas-docs/stable/indexing.html#indexing-view-versus-copy\n",
      "/home/dsaez/venv/lib/python3.5/site-packages/ipykernel_launcher.py:57: SettingWithCopyWarning: \n",
      "A value is trying to be set on a copy of a slice from a DataFrame.\n",
      "Try using .loc[row_indexer,col_indexer] = value instead\n",
      "\n",
      "See the caveats in the documentation: http://pandas.pydata.org/pandas-docs/stable/indexing.html#indexing-view-versus-copy\n",
      "/home/dsaez/venv/lib/python3.5/site-packages/ipykernel_launcher.py:77: UserWarning: Boolean Series key will be reindexed to match DataFrame index.\n",
      "/home/dsaez/venv/lib/python3.5/site-packages/ipykernel_launcher.py:78: UserWarning: Boolean Series key will be reindexed to match DataFrame index.\n"
     ]
    },
    {
     "name": "stdout",
     "output_type": "stream",
     "text": [
      "en ru {'Baseline3 Acc@1': 0.5, 'Baseline2 Acc@1': 0.56, 'Baseline2 Acc@5': 0.87, 'Baseline2 Acc@3': 0.8, 'Acc@3': 0.91, 'Baseline3 Acc@5': 0.84, 'Acc@1': 0.7, 'Baseline3 Acc@3': 0.76, 'langFrom': 'en', 'langTo': 'ru', 'Baseline': 0.38, 'Instances': 643, 'Acc@5': 0.95}\n"
     ]
    },
    {
     "name": "stderr",
     "output_type": "stream",
     "text": [
      "/home/dsaez/venv/lib/python3.5/site-packages/ipykernel_launcher.py:56: SettingWithCopyWarning: \n",
      "A value is trying to be set on a copy of a slice from a DataFrame.\n",
      "Try using .loc[row_indexer,col_indexer] = value instead\n",
      "\n",
      "See the caveats in the documentation: http://pandas.pydata.org/pandas-docs/stable/indexing.html#indexing-view-versus-copy\n",
      "/home/dsaez/venv/lib/python3.5/site-packages/ipykernel_launcher.py:57: SettingWithCopyWarning: \n",
      "A value is trying to be set on a copy of a slice from a DataFrame.\n",
      "Try using .loc[row_indexer,col_indexer] = value instead\n",
      "\n",
      "See the caveats in the documentation: http://pandas.pydata.org/pandas-docs/stable/indexing.html#indexing-view-versus-copy\n",
      "/home/dsaez/venv/lib/python3.5/site-packages/ipykernel_launcher.py:77: UserWarning: Boolean Series key will be reindexed to match DataFrame index.\n",
      "/home/dsaez/venv/lib/python3.5/site-packages/ipykernel_launcher.py:78: UserWarning: Boolean Series key will be reindexed to match DataFrame index.\n"
     ]
    },
    {
     "name": "stdout",
     "output_type": "stream",
     "text": [
      "en ja {'Baseline3 Acc@1': 0.3, 'Baseline2 Acc@1': 0.33, 'Baseline2 Acc@5': 0.61, 'Baseline2 Acc@3': 0.51, 'Acc@3': 0.75, 'Baseline3 Acc@5': 0.57, 'Acc@1': 0.52, 'Baseline3 Acc@3': 0.48, 'langFrom': 'en', 'langTo': 'ja', 'Baseline': 0.55, 'Instances': 380, 'Acc@5': 0.82}\n"
     ]
    },
    {
     "name": "stderr",
     "output_type": "stream",
     "text": [
      "/home/dsaez/venv/lib/python3.5/site-packages/ipykernel_launcher.py:56: SettingWithCopyWarning: \n",
      "A value is trying to be set on a copy of a slice from a DataFrame.\n",
      "Try using .loc[row_indexer,col_indexer] = value instead\n",
      "\n",
      "See the caveats in the documentation: http://pandas.pydata.org/pandas-docs/stable/indexing.html#indexing-view-versus-copy\n",
      "/home/dsaez/venv/lib/python3.5/site-packages/ipykernel_launcher.py:57: SettingWithCopyWarning: \n",
      "A value is trying to be set on a copy of a slice from a DataFrame.\n",
      "Try using .loc[row_indexer,col_indexer] = value instead\n",
      "\n",
      "See the caveats in the documentation: http://pandas.pydata.org/pandas-docs/stable/indexing.html#indexing-view-versus-copy\n",
      "/home/dsaez/venv/lib/python3.5/site-packages/ipykernel_launcher.py:77: UserWarning: Boolean Series key will be reindexed to match DataFrame index.\n",
      "/home/dsaez/venv/lib/python3.5/site-packages/ipykernel_launcher.py:78: UserWarning: Boolean Series key will be reindexed to match DataFrame index.\n"
     ]
    },
    {
     "name": "stdout",
     "output_type": "stream",
     "text": [
      "en fr {'Baseline3 Acc@1': 0.64, 'Baseline2 Acc@1': 0.65, 'Baseline2 Acc@5': 0.89, 'Baseline2 Acc@3': 0.85, 'Acc@3': 0.94, 'Baseline3 Acc@5': 0.88, 'Acc@1': 0.76, 'Baseline3 Acc@3': 0.83, 'langFrom': 'en', 'langTo': 'fr', 'Baseline': 0.6, 'Instances': 668, 'Acc@5': 0.97}\n"
     ]
    },
    {
     "name": "stderr",
     "output_type": "stream",
     "text": [
      "/home/dsaez/venv/lib/python3.5/site-packages/ipykernel_launcher.py:56: SettingWithCopyWarning: \n",
      "A value is trying to be set on a copy of a slice from a DataFrame.\n",
      "Try using .loc[row_indexer,col_indexer] = value instead\n",
      "\n",
      "See the caveats in the documentation: http://pandas.pydata.org/pandas-docs/stable/indexing.html#indexing-view-versus-copy\n",
      "/home/dsaez/venv/lib/python3.5/site-packages/ipykernel_launcher.py:57: SettingWithCopyWarning: \n",
      "A value is trying to be set on a copy of a slice from a DataFrame.\n",
      "Try using .loc[row_indexer,col_indexer] = value instead\n",
      "\n",
      "See the caveats in the documentation: http://pandas.pydata.org/pandas-docs/stable/indexing.html#indexing-view-versus-copy\n",
      "/home/dsaez/venv/lib/python3.5/site-packages/ipykernel_launcher.py:77: UserWarning: Boolean Series key will be reindexed to match DataFrame index.\n",
      "/home/dsaez/venv/lib/python3.5/site-packages/ipykernel_launcher.py:78: UserWarning: Boolean Series key will be reindexed to match DataFrame index.\n"
     ]
    },
    {
     "name": "stdout",
     "output_type": "stream",
     "text": [
      "en ar {'Baseline3 Acc@1': 0.38, 'Baseline2 Acc@1': 0.44, 'Baseline2 Acc@5': 0.8, 'Baseline2 Acc@3': 0.72, 'Acc@3': 0.78, 'Baseline3 Acc@5': 0.72, 'Acc@1': 0.53, 'Baseline3 Acc@3': 0.63, 'langFrom': 'en', 'langTo': 'ar', 'Baseline': 0.38, 'Instances': 213, 'Acc@5': 0.87}\n"
     ]
    },
    {
     "name": "stderr",
     "output_type": "stream",
     "text": [
      "/home/dsaez/venv/lib/python3.5/site-packages/ipykernel_launcher.py:56: SettingWithCopyWarning: \n",
      "A value is trying to be set on a copy of a slice from a DataFrame.\n",
      "Try using .loc[row_indexer,col_indexer] = value instead\n",
      "\n",
      "See the caveats in the documentation: http://pandas.pydata.org/pandas-docs/stable/indexing.html#indexing-view-versus-copy\n",
      "/home/dsaez/venv/lib/python3.5/site-packages/ipykernel_launcher.py:57: SettingWithCopyWarning: \n",
      "A value is trying to be set on a copy of a slice from a DataFrame.\n",
      "Try using .loc[row_indexer,col_indexer] = value instead\n",
      "\n",
      "See the caveats in the documentation: http://pandas.pydata.org/pandas-docs/stable/indexing.html#indexing-view-versus-copy\n",
      "/home/dsaez/venv/lib/python3.5/site-packages/ipykernel_launcher.py:77: UserWarning: Boolean Series key will be reindexed to match DataFrame index.\n",
      "/home/dsaez/venv/lib/python3.5/site-packages/ipykernel_launcher.py:78: UserWarning: Boolean Series key will be reindexed to match DataFrame index.\n"
     ]
    },
    {
     "name": "stdout",
     "output_type": "stream",
     "text": [
      "en es {'Baseline3 Acc@1': 0.71, 'Baseline2 Acc@1': 0.74, 'Baseline2 Acc@5': 0.94, 'Baseline2 Acc@3': 0.9, 'Acc@3': 0.95, 'Baseline3 Acc@5': 0.93, 'Acc@1': 0.8, 'Baseline3 Acc@3': 0.89, 'langFrom': 'en', 'langTo': 'es', 'Baseline': 0.83, 'Instances': 568, 'Acc@5': 0.98}\n"
     ]
    }
   ],
   "source": [
    "from xgboost import XGBClassifier\n",
    "from sklearn.model_selection import train_test_split\n",
    "from sklearn.metrics import accuracy_score\n",
    "from sklearn.metrics import confusion_matrix\n",
    "from itertools import permutations\n",
    "evaluate = False ### SET THIS TRUE TO EVAL RESULTS, SET NO IF YOU JUST WANT TO CREATE PREDICTIONS WITHOUT EVALUATION\n",
    "noLabels = False\n",
    "K = 5\n",
    "generateRecs = True # Generate XLS with rec examples\n",
    "numbOfCandidates = 3 # This is the number of candidates in XLS\n",
    "#features = ['LangTo_tfidf','LangFrom_tfidf','Distance','Distance_my',\n",
    "#            'count','pos_norm_avg','pos_inv_avg','pos_norm_median',\n",
    "#            'pos_avg_mult','size_median_mult','num_links_avg',\n",
    "#           'links_jaccardMEAN', 'links_jaccardMEDIAN',\n",
    "#           'links_jaccardSUM', 'links_commonMEAN', 'links_commonMEDIAN',\n",
    "#           'links_commonSUM','editDistance','count_normed',\n",
    "#            'Distance_myWeighted','DistanceWeighted','LangFrom_tfidfWeighted','LangTo_tfidfWeighted','rank']\n",
    "            #'isAutomaticTranslationTo','isAutomaticTranslationFrom']\n",
    "features = datasets['en']['es'].columns #could be any pair, all have the same columns\n",
    "features = features.drop(['isTranslation','langFrom','langTo','isAutomaticTranslationTo','isAutomaticTranslationFrom'])\n",
    "\n",
    "\n",
    "featuresRank = []\n",
    "finalResults = []\n",
    "accuracyPos = {}\n",
    "for lang in langs:\n",
    "    print(lang)\n",
    "    tmpDF = []\n",
    "    toPSL = [] # create Dataframe per language with predictions\n",
    "    for lang1,data in datasets.items():\n",
    "        if lang1 != lang:\n",
    "            for lang2,dataset in data.items():\n",
    "                if lang2 != lang:\n",
    "                    tmpDF.append(dataset)    \n",
    "    TrainData = pd.concat(tmpDF)\n",
    "    X_train = TrainData[features]\n",
    "    Y_train = TrainData['isTranslation']\n",
    "    Model = XGBClassifier()\n",
    "    Model.fit(X_train, Y_train)\n",
    "    print(sorted(zip(Model.feature_importances_,X_train.columns),reverse=True))\n",
    "    featuresRank.append(sorted(zip(Model.feature_importances_,X_train.columns),reverse=True))\n",
    "    accuracyPos[lang] = {}\n",
    "    for lang1,lang2 in permutations(langs,2):\n",
    "        if lang1 == lang:\n",
    "            try:\n",
    "                if noLabels: #used to create predictions without looking to the labels\n",
    "                    print(lang1,lang2)\n",
    "                    TestDataNoLabels = prepareDataNewNoLabels(lang1,lang2,withLabels=False) \n",
    "                    TestDataNoLabels   = TestDataNoLabels[TestDataNoLabels['count'] > 5] # PRE-FILTER, CANDIDATES NEWS TO COOCURR AT LEAST FIVE (Arbitrary), THIS FOR REMOVING TYPOS AND NOISE\n",
    "                    X_testNoLabels  = TestDataNoLabels[features]\n",
    "                    y_probNoLabels  = Model.predict_proba(X_testNoLabels)\n",
    "                    TestDataNoLabels['prob'] = [pred[1] for pred in y_probNoLabels]\n",
    "                    #TestDataNoLabels = prepareDataNewNoLabels(lang1,lang2,withLabels=False) \n",
    "                    #TestDataNoLabels   = TestDataNoLabels[TestDataNoLabels['count'] > 5] # PRE-FILTER, CANDIDATES NEWS TO COOCURR AT LEAST FIVE (Arbitrary), THIS FOR REMOVING TYPOS AND NOISE\n",
    "                    #X_testNoLabels  = TestDataNoLabels[features]\n",
    "                    #y_probNoLabels  = Model.predict_proba(X_testNoLabels)\n",
    "                    #TestDataNoLabels['prob'] = [pred[1] for pred in y_probNoLabels]\n",
    "                    TestDataNoLabels[\"rankProb\"] = TestDataNoLabels.groupby(\"langFrom\")[\"prob\"].rank(\"dense\", ascending=False)\n",
    "                    candidates = TestDataNoLabels[TestDataNoLabels.rankProb <= 5][['langFrom','langTo','prob','count','rankProb']]\n",
    "                    candidates.rename(columns={'langFrom':'secFrom','rankProb':'rank'},inplace=True)\n",
    "                    candidates.sort_values(['secFrom','rank'],inplace=True)\n",
    "                    candidates.to_csv('predictionsNoLabels/%s_to_%s.TSV' % (lang1,lang2),sep='\\t')\n",
    "                else: #predicting just with labels\n",
    "                \n",
    "                    recSheet = []           \n",
    "                    TestData = prepareDataNew(lang1,lang2) # I need to create again the dataset, because the stored ones, are balanaced\n",
    "                    TestData  = TestData[TestData['count'] > 1] # PRE-FILTER, CANDIDATES NEWS TO COOCURR AT LEAST TWO (Arbitrary), THIS FOR REMOVING TYPOS AND NOISE\n",
    "                    X_test = TestData[features]\n",
    "                    test = TestData['isTranslation']\n",
    "                    y_prob= Model.predict_proba(X_test)\n",
    "                    TestData['prob'] = [pred[1] for pred in y_prob]\n",
    "                    ## CREATE PSL OUTPUT\n",
    "                    toPSLtmp = TestData[['langFrom','langTo','prob', 'Distance_my', 'links_jaccardMEAN',\n",
    "           'rank', 'LangTo_tfidf_normed','LangTo_tfidfWeighted', 'editDistance','isTranslation']]\n",
    "                    toPSLtmp['langFrom'] = lang1 +'_' + toPSLtmp['langFrom'] \n",
    "                    toPSLtmp['langTo'] = lang2 +'_' + toPSLtmp['langTo']                           \n",
    "                    toPSL.append(toPSLtmp)      \n",
    "\n",
    "                    if evaluate: ### SET THIS TRUE TO EVAL RESULTS, SET NO IF YOU JUST WANT TO CREATE PREDICTIONS WITHOUT EVALUATIO\n",
    "                        output = []\n",
    "                        automaticTranslation = []\n",
    "                        #init accuracy dict\n",
    "                        accjustEmbeddings = {}\n",
    "                        accjustEmbeddingsMy = {}\n",
    "                        accuracy = {}\n",
    "                        accuracyPos[lang1][lang2] = {}          \n",
    "                        for i in range(1,K+1,2):\n",
    "                            accuracy[i] = []\n",
    "                            accjustEmbeddings[i] = []\n",
    "                            accjustEmbeddingsMy[i] = []\n",
    "                            accuracyPos[lang1][lang2][i] = []\n",
    "                        #This can be made much faster by doing this:\n",
    "                        #TestData[\"rankProb\"] = TestData.groupby(\"langFrom\")[\"prob\"].rank(\"dense\", ascending=False)\n",
    "                        #candidates = TestDataNoLabels[TestDataNoLabels.rankProb <= 5][['langFrom','langTo','prob','count','rankProb']]\n",
    "                        #...\n",
    "                        #And follow the noLabels examples above\n",
    "                        for secFrom,data in TestData.groupby('langFrom'):\n",
    "\n",
    "                             if data['isTranslation'].any():\n",
    "                                rank = data[TestData['isTranslation']]['rank_from'].iloc[0]\n",
    "                                if data[TestData['isTranslation']]['isAutomaticTranslationFrom'].any() : #check if label is automatic translation\n",
    "                                    automaticTranslation.append(1)\n",
    "                                else:\n",
    "                                    automaticTranslation.append(0)\n",
    "\n",
    "                                for i in range(1,K+1,2):\n",
    "                                    #evaluation my approach\n",
    "                                    evaluation = data.sort_values('prob',ascending=False).iloc[0:i]['isTranslation'].any()\n",
    "\n",
    "                                    if evaluation:\n",
    "                                        accuracy[i].append(1)\n",
    "                                        accuracyPos[lang1][lang2][i].append((rank,1))\n",
    "\n",
    "                                    else:\n",
    "                                        accuracy[i].append(0)\n",
    "                                        accuracyPos[lang1][lang2][i].append((rank,0))\n",
    "                                    #evaluating just embeedings\n",
    "\n",
    "                                    evaluationjustEmbeddings = data.sort_values('Distance',ascending=False).iloc[0:i]['isTranslation'].any()\n",
    "                                    evaluationjustEmbeddingsMy = data.sort_values('Distance_my',ascending=False).iloc[0:i]['isTranslation'].any()\n",
    "\n",
    "                                    if evaluationjustEmbeddings:\n",
    "                                        accjustEmbeddings[i].append(1)\n",
    "                                    else:\n",
    "                                        accjustEmbeddings[i].append(0)\n",
    "\n",
    "                                    if evaluationjustEmbeddingsMy:\n",
    "                                        accjustEmbeddingsMy[i].append(1)\n",
    "                                    else:\n",
    "                                        accjustEmbeddingsMy[i].append(0)    \n",
    "\n",
    "                                    if generateRecs == True:\n",
    "                                            if numbOfCandidates == i:\n",
    "                                                candidates = data.sort_values('prob',ascending=False)[['langTo','prob','isTranslation','rank_from']]#.iloc[0:50]\n",
    "                                                candidates['secFrom'] =secFrom\n",
    "                                                recSheet.append(candidates)\n",
    "\n",
    "                        numOfInstances= len(automaticTranslation)\n",
    "\n",
    "                        if  numOfInstances> 0: #Here I'm just counting the number of sections with labels\n",
    "                            acc = {'langFrom':lang1,'langTo':lang2,'Instances':numOfInstances}\n",
    "                            acc['Baseline'] = round(sum(automaticTranslation)/len(automaticTranslation),2)\n",
    "                            for i in range(1,K+1,2):\n",
    "                                try:\n",
    "                                    acc['Acc@%s' % i] = round(sum(accuracy[i])/len(accuracy[i]),2)\n",
    "                                    acc['Baseline2 Acc@%s' % i] = round(sum(accjustEmbeddings[i])/len(accjustEmbeddings[i]),2)\n",
    "                                    acc['Baseline3 Acc@%s' % i] = round(sum(accjustEmbeddingsMy[i])/len(accjustEmbeddingsMy[i]),2)\n",
    "\n",
    "                                except:\n",
    "                                    acc['Acc@%s' %i] = 0\n",
    "\n",
    "                            print(lang1,lang2,acc)\n",
    "                            finalResults.append(acc)\n",
    "                            recSheet = pd.concat(recSheet)\n",
    "                            recSheet.set_index('secFrom',inplace=True)\n",
    "                            recSheet.sort_values(['rank_from','prob'],ascending=[True,False],inplace=True)\n",
    "                            del(recSheet['rank_from'])\n",
    "                            recSheet.to_csv('recSheetsTSVforMartin/%s_to_%s.csv' % (lang1,lang2),sep='\\t')\n",
    "\n",
    "\n",
    "            except Exception as ex:\n",
    "                print('error',ex) #empty pairs\n",
    "\n",
    "\n",
    "    toPSL = pd.concat(toPSL)\n",
    "    toPSL = toPSL.rename(columns={'Distance_my':'Embeddings_similarity', 'links_jaccardMEAN':'Link_similarity',\n",
    "       'rank':'rank_by_frequency', 'LangTo_tfidf_normed':'Coocurrence_TfIDF1','LangTo_tfidfWeighted':'Coocurrence_TfIDF2'})\n",
    "    toPSL.to_csv('toPSL/%s.tsv' % lang,sep='\\t',index=False)\n",
    "\n",
    "    \n",
    "#pd.DataFrame(finalResults).sort_values('langFrom').to_csv('predictorOutputWithoutAutomaticTranslationV2.csv')\n"
   ]
  },
  {
   "cell_type": "markdown",
   "metadata": {},
   "source": [
    "## Plot results"
   ]
  },
  {
   "cell_type": "code",
   "execution_count": 296,
   "metadata": {
    "scrolled": true
   },
   "outputs": [
    {
     "name": "stderr",
     "output_type": "stream",
     "text": [
      "/usr/lib/python3/dist-packages/matplotlib/figure.py:402: UserWarning: matplotlib is currently using a non-GUI backend, so cannot show the figure\n",
      "  \"matplotlib is currently using a non-GUI backend, \"\n"
     ]
    },
    {
     "data": {
      "image/png": "[encoded data removed]",
      "text/plain": [
       "<matplotlib.figure.Figure at 0x7f8754e59390>"
      ]
     },
     "metadata": {},
     "output_type": "display_data"
    }
   ],
   "source": [
    "#convert results in matrix\n",
    "import seaborn as sns\n",
    "%matplotlib inline\n",
    "import matplotlib.pyplot as plt\n",
    "matrix = pd.DataFrame(finalResults)\n",
    "matrix = matrix[matrix.Instances > 10]\n",
    "fig, ax =plt.subplots(1,3,figsize=(19,6))\n",
    "\n",
    "pl1 = sns.heatmap(matrix.pivot(index='langFrom',columns='langTo',values='Acc@1'),vmin=0.2, vmax=1 , cmap=\"Blues\",cbar=False,annot=True, ax=ax[0])\n",
    "pl1.set_title('Precision@1')\n",
    "pl2 = sns.heatmap(matrix.pivot(index='langFrom',columns='langTo', values='Acc@3'),vmin=0.2, vmax=1, cmap=\"Blues\",cbar=False,annot=True, ax=ax[1])\n",
    "pl2.set_title('Precision@3')\n",
    "pl3 =sns.heatmap(matrix.pivot(index='langFrom',columns='langTo', values='Acc@5'),vmin=0.2, vmax=1, cmap=\"Blues\",cbar=False,annot=True,ax=ax[2])\n",
    "pl3.set_title('Precision@5')\n",
    "fig.savefig('WikiAlignmentsPrecision.png',bbox_inches='tight')\n",
    "\n",
    "fig.show()\n"
   ]
  },
  {
   "cell_type": "code",
   "execution_count": 294,
   "metadata": {
    "scrolled": true
   },
   "outputs": [
    {
     "name": "stderr",
     "output_type": "stream",
     "text": [
      "/usr/lib/python3/dist-packages/matplotlib/figure.py:402: UserWarning: matplotlib is currently using a non-GUI backend, so cannot show the figure\n",
      "  \"matplotlib is currently using a non-GUI backend, \"\n"
     ]
    },
    {
     "data": {
      "image/png": "[encoded data removed]",
      "text/plain": [
       "<matplotlib.figure.Figure at 0x7f875a7ee668>"
      ]
     },
     "metadata": {},
     "output_type": "display_data"
    }
   ],
   "source": [
    "fig, ax =plt.subplots(1,3,figsize=(19,6))\n",
    "pl1 = sns.heatmap(matrix.pivot(index='langFrom',columns='langTo',values='Baseline2 Acc@1').sort_values('langFrom'),vmin=0.2, vmax=1 , cmap=\"Blues\",cbar=False,annot=True, ax=ax[0])\n",
    "pl1.set_title('Embeddings  Precision@1')\n",
    "pl2 = sns.heatmap(matrix.pivot(index='langFrom',columns='langTo', values='Baseline2 Acc@3'),vmin=0.2, vmax=1, cmap=\"Blues\",cbar=False,annot=True, ax=ax[1])\n",
    "pl2.set_title('Embeddings Precision@3')\n",
    "pl3 =sns.heatmap(matrix.pivot(index='langFrom',columns='langTo', values='Baseline2 Acc@5'),vmin=0.2, vmax=1, cmap=\"Blues\",cbar=False,annot=True,ax=ax[2])\n",
    "pl3.set_title('Embeddings Precision@5')\n",
    "fig.savefig('EmbeddingsPrecision.png')\n",
    "\n",
    "fig.show()"
   ]
  },
  {
   "cell_type": "code",
   "execution_count": 295,
   "metadata": {},
   "outputs": [],
   "source": [
    "?fig.savefig"
   ]
  },
  {
   "cell_type": "code",
   "execution_count": 302,
   "metadata": {},
   "outputs": [
    {
     "name": "stdout",
     "output_type": "stream",
     "text": [
      "\\begin{tabular}{lllllll}\n",
      "\\toprule\n",
      "langTo &   ar &   en &   es &   fr &   ja &   ru \\\\\n",
      "langFrom &      &      &      &      &      &      \\\\\n",
      "\\midrule\n",
      "ar       &    - &  382 &   59 &  136 &    - &   23 \\\\\n",
      "en       &  213 &    - &  568 &  668 &  380 &  643 \\\\\n",
      "es       &    - &  359 &    - &  335 &    - &   16 \\\\\n",
      "fr       &   30 &  342 &  100 &    - &   60 &   43 \\\\\n",
      "ja       &    - &   68 &    - &   47 &    - &    - \\\\\n",
      "ru       &    - &  295 &   15 &  207 &   33 &    - \\\\\n",
      "\\bottomrule\n",
      "\\end{tabular}\n",
      "\n"
     ]
    }
   ],
   "source": [
    "print(matrix.pivot(index='langFrom',columns='langTo',values='Instances').fillna('-').to_latex())"
   ]
  },
  {
   "cell_type": "code",
   "execution_count": 260,
   "metadata": {},
   "outputs": [
    {
     "name": "stderr",
     "output_type": "stream",
     "text": [
      "/usr/lib/python3/dist-packages/matplotlib/figure.py:402: UserWarning: matplotlib is currently using a non-GUI backend, so cannot show the figure\n",
      "  \"matplotlib is currently using a non-GUI backend, \"\n"
     ]
    },
    {
     "data": {
      "image/png": "[encoded data removed]",
      "text/plain": [
       "<matplotlib.figure.Figure at 0x7f874ed5f4e0>"
      ]
     },
     "metadata": {},
     "output_type": "display_data"
    }
   ],
   "source": [
    "fig, ax =plt.subplots(1,3,figsize=(19,6))\n",
    "pl1 = sns.heatmap(matrix.pivot(index='langFrom',columns='langTo',values='Baseline3 Acc@1'),vmin=0.2, vmax=1 , cmap=\"Blues\",cbar=False,annot=True, ax=ax[0])\n",
    "pl1.set_title('Wikidata Embeddings Precision@1')\n",
    "pl2 = sns.heatmap(matrix.pivot(index='langFrom',columns='langTo', values='Baseline3 Acc@3'),vmin=0.2, vmax=1, cmap=\"Blues\",cbar=False,annot=True, ax=ax[1])\n",
    "pl2.set_title('Wikidata Embeddings Precision@3')\n",
    "pl3 =sns.heatmap(matrix.pivot(index='langFrom',columns='langTo', values='Baseline3 Acc@5'),vmin=0.2, vmax=1, cmap=\"Blues\",cbar=False,annot=True,ax=ax[2])\n",
    "pl3.set_title('Wikidata Embeddings Precision@5')\n",
    "fig.savefig('WikidataEmbeddingsPrecision.png')\n",
    "fig.show()"
   ]
  },
  {
   "cell_type": "code",
   "execution_count": 423,
   "metadata": {},
   "outputs": [
    {
     "name": "stdout",
     "output_type": "stream",
     "text": [
      "\\begin{tabular}{lr}\n",
      "\\toprule\n",
      "{} &      0 \\\\\n",
      "\\midrule\n",
      "Distance\\_my          &  0.120 \\\\\n",
      "links\\_jaccardMEAN    &  0.072 \\\\\n",
      "LangTo\\_tfidf\\_normed  &  0.057 \\\\\n",
      "Distance             &  0.052 \\\\\n",
      "LangTo\\_tfidfWeighted &  0.046 \\\\\n",
      "rank                 &  0.045 \\\\\n",
      "editDistance         &  0.044 \\\\\n",
      "links\\_jaccardSUM     &  0.040 \\\\\n",
      "pos\\_avg              &  0.031 \\\\\n",
      "pos\\_norm\\_avg         &  0.025 \\\\\n",
      "rank\\_by\\_count        &  0.025 \\\\\n",
      "pos\\_norm\\_avg\\_mult    &  0.023 \\\\\n",
      "LangTo\\_tfidf         &  0.021 \\\\\n",
      "size\\_median          &  0.017 \\\\\n",
      "pos\\_inv\\_avg          &  0.017 \\\\\n",
      "\\bottomrule\n",
      "\\end{tabular}\n",
      "\n"
     ]
    }
   ],
   "source": [
    "t = [dict([ reversed(y) for y in x]) for x in featuresRank]\n",
    "featuresRankDF = pd.DataFrame(t)\n",
    "f = featuresRankDF.agg('mean')\n",
    "\n",
    "print(pd.DataFrame(f.sort_values(ascending=False)[0:15]).round(decimals=3).to_latex())"
   ]
  },
  {
   "cell_type": "markdown",
   "metadata": {},
   "source": [
    "## Get results including GoogleTranslate as Feature"
   ]
  },
  {
   "cell_type": "code",
   "execution_count": null,
   "metadata": {
    "scrolled": true
   },
   "outputs": [
    {
     "name": "stdout",
     "output_type": "stream",
     "text": [
      "ru\n"
     ]
    },
    {
     "name": "stderr",
     "output_type": "stream",
     "text": [
      "/home/dsaez/venv/lib/python3.5/site-packages/ipykernel_launcher.py:30: FutureWarning: Sorting because non-concatenation axis is not aligned. A future version\n",
      "of pandas will change to not sort by default.\n",
      "\n",
      "To accept the future behavior, pass 'sort=False'.\n",
      "\n",
      "To retain the current behavior and silence the warning, pass 'sort=True'.\n",
      "\n"
     ]
    },
    {
     "name": "stdout",
     "output_type": "stream",
     "text": [
      "[(0.091883615, 'Distance_my'), (0.06891271, 'isAutomaticTranslationFrom'), (0.067381315, 'links_jaccardMEAN'), (0.058192957, 'rank'), (0.0474732, 'editDistance'), (0.0474732, 'LangTo_tfidf_normed'), (0.041347627, 'LangTo_tfidfWeighted'), (0.036753446, 'Distance'), (0.030627871, 'pos_norm_avg_mult'), (0.029096479, 'pos_avg'), (0.02603369, 'pos_norm_avg'), (0.02603369, 'LangTo_tfidf'), (0.022970904, 'rank_by_count'), (0.022970904, 'links_jaccardSUM'), (0.02143951, 'TotalCount'), (0.019908117, 'pos_avg_mult'), (0.019908117, 'LangFrom_tfidf'), (0.0153139355, 'size_rel_median'), (0.0153139355, 'pos_inv_avg'), (0.0153139355, 'num_links_median_mult'), (0.0153139355, 'links_commonMEDIAN'), (0.0153139355, 'fasttext_content_similarityMEAN'), (0.013782542, 'fasttext_content_similarityMEDIAN'), (0.012251149, 'num_links_median'), (0.012251149, 'link_dens_median_mult'), (0.010719755, 'size_median'), (0.010719755, 'num_links_avg_mult'), (0.010719755, 'links_commonMEAN'), (0.0091883615, 'size_avg'), (0.0091883615, 'pos_norm_median_mult'), (0.0091883615, 'links_jaccardMEDIAN'), (0.0091883615, 'Distance_myWeighted'), (0.0076569677, 'size_rel_avg_mult'), (0.0076569677, 'rank_from'), (0.0076569677, 'pos_inv_avg_mult'), (0.0076569677, 'links_rel_median'), (0.0076569677, 'links_rel_avg_mult'), (0.0076569677, 'link_dens_avg'), (0.0076569677, 'count_normed'), (0.0076569677, 'count'), (0.0076569677, 'LangFrom_tfidf_normed'), (0.0061255745, 'size_rel_median_mult'), (0.0061255745, 'rank_mult'), (0.0061255745, 'rank_by_LangFrom_tfidf'), (0.0061255745, 'links_commonSUM'), (0.0061255745, 'link_dens_median'), (0.0045941807, 'size_median_mult'), (0.0045941807, 'size_avg_mult'), (0.0045941807, 'pos_inv_median'), (0.0045941807, 'links_rel_avg'), (0.0045941807, 'isAutomaticTranslationTo'), (0.0030627872, 'num_links_avg'), (0.0030627872, 'links_rel_median_mult'), (0.0030627872, 'link_dens_avg_mult'), (0.0030627872, 'LangFrom_tfidfWeighted'), (0.0015313936, 'pos_median'), (0.0015313936, 'pos_inv_median_mult'), (0.0, 'size_std_mult'), (0.0, 'size_std'), (0.0, 'size_rel_std_mult'), (0.0, 'size_rel_std'), (0.0, 'size_rel_avg'), (0.0, 'rank_by_LangTo_tfidf'), (0.0, 'pos_std_mult'), (0.0, 'pos_std'), (0.0, 'pos_norm_std_mult'), (0.0, 'pos_norm_std'), (0.0, 'pos_norm_median'), (0.0, 'pos_median_mult'), (0.0, 'pos_inv_std_mult'), (0.0, 'pos_inv_std'), (0.0, 'num_links_std_mult'), (0.0, 'num_links_std'), (0.0, 'links_rel_std_mult'), (0.0, 'links_rel_std'), (0.0, 'link_dens_std_mult'), (0.0, 'link_dens_std'), (0.0, 'TotalCount_mult'), (0.0, 'DistanceWeighted')]\n"
     ]
    },
    {
     "name": "stderr",
     "output_type": "stream",
     "text": [
      "/home/dsaez/venv/lib/python3.5/site-packages/ipykernel_launcher.py:67: UserWarning: Boolean Series key will be reindexed to match DataFrame index.\n",
      "/home/dsaez/venv/lib/python3.5/site-packages/ipykernel_launcher.py:68: UserWarning: Boolean Series key will be reindexed to match DataFrame index.\n"
     ]
    },
    {
     "name": "stdout",
     "output_type": "stream",
     "text": [
      "ru ja {'Baseline3 Acc@1': 0.12, 'Baseline2 Acc@1': 0.0, 'Baseline2 Acc@5': 0.06, 'Baseline2 Acc@3': 0.06, 'Acc@3': 0.55, 'Baseline3 Acc@5': 0.3, 'Acc@1': 0.33, 'Baseline3 Acc@3': 0.24, 'langFrom': 'ru', 'langTo': 'ja', 'Baseline': 0.3, 'Instances': 33, 'Acc@5': 0.61}\n"
     ]
    },
    {
     "name": "stderr",
     "output_type": "stream",
     "text": [
      "/home/dsaez/venv/lib/python3.5/site-packages/ipykernel_launcher.py:67: UserWarning: Boolean Series key will be reindexed to match DataFrame index.\n",
      "/home/dsaez/venv/lib/python3.5/site-packages/ipykernel_launcher.py:68: UserWarning: Boolean Series key will be reindexed to match DataFrame index.\n"
     ]
    },
    {
     "name": "stdout",
     "output_type": "stream",
     "text": [
      "ru fr {'Baseline3 Acc@1': 0.42, 'Baseline2 Acc@1': 0.02, 'Baseline2 Acc@5': 0.1, 'Baseline2 Acc@3': 0.07, 'Acc@3': 0.83, 'Baseline3 Acc@5': 0.73, 'Acc@1': 0.62, 'Baseline3 Acc@3': 0.63, 'langFrom': 'ru', 'langTo': 'fr', 'Baseline': 0.42, 'Instances': 207, 'Acc@5': 0.9}\n"
     ]
    },
    {
     "name": "stderr",
     "output_type": "stream",
     "text": [
      "/home/dsaez/venv/lib/python3.5/site-packages/ipykernel_launcher.py:67: UserWarning: Boolean Series key will be reindexed to match DataFrame index.\n",
      "/home/dsaez/venv/lib/python3.5/site-packages/ipykernel_launcher.py:68: UserWarning: Boolean Series key will be reindexed to match DataFrame index.\n"
     ]
    },
    {
     "name": "stdout",
     "output_type": "stream",
     "text": [
      "ru ar {'Baseline3 Acc@1': 0.0, 'Baseline2 Acc@1': 0.0, 'Baseline2 Acc@5': 0.0, 'Baseline2 Acc@3': 0.0, 'Acc@3': 1.0, 'Baseline3 Acc@5': 0.0, 'Acc@1': 0.5, 'Baseline3 Acc@3': 0.0, 'langFrom': 'ru', 'langTo': 'ar', 'Baseline': 0.5, 'Instances': 2, 'Acc@5': 1.0}\n"
     ]
    },
    {
     "name": "stderr",
     "output_type": "stream",
     "text": [
      "/home/dsaez/venv/lib/python3.5/site-packages/ipykernel_launcher.py:67: UserWarning: Boolean Series key will be reindexed to match DataFrame index.\n",
      "/home/dsaez/venv/lib/python3.5/site-packages/ipykernel_launcher.py:68: UserWarning: Boolean Series key will be reindexed to match DataFrame index.\n"
     ]
    },
    {
     "name": "stdout",
     "output_type": "stream",
     "text": [
      "ru es {'Baseline3 Acc@1': 0.47, 'Baseline2 Acc@1': 0.07, 'Baseline2 Acc@5': 0.07, 'Baseline2 Acc@3': 0.07, 'Acc@3': 0.87, 'Baseline3 Acc@5': 0.67, 'Acc@1': 0.87, 'Baseline3 Acc@3': 0.53, 'langFrom': 'ru', 'langTo': 'es', 'Baseline': 0.67, 'Instances': 15, 'Acc@5': 1.0}\n"
     ]
    },
    {
     "name": "stderr",
     "output_type": "stream",
     "text": [
      "/home/dsaez/venv/lib/python3.5/site-packages/ipykernel_launcher.py:67: UserWarning: Boolean Series key will be reindexed to match DataFrame index.\n",
      "/home/dsaez/venv/lib/python3.5/site-packages/ipykernel_launcher.py:68: UserWarning: Boolean Series key will be reindexed to match DataFrame index.\n"
     ]
    },
    {
     "name": "stdout",
     "output_type": "stream",
     "text": [
      "ru en {'Baseline3 Acc@1': 0.46, 'Baseline2 Acc@1': 0.54, 'Baseline2 Acc@5': 0.83, 'Baseline2 Acc@3': 0.75, 'Acc@3': 0.92, 'Baseline3 Acc@5': 0.77, 'Acc@1': 0.77, 'Baseline3 Acc@3': 0.67, 'langFrom': 'ru', 'langTo': 'en', 'Baseline': 0.58, 'Instances': 295, 'Acc@5': 0.96}\n",
      "ja\n"
     ]
    },
    {
     "name": "stderr",
     "output_type": "stream",
     "text": [
      "/home/dsaez/venv/lib/python3.5/site-packages/ipykernel_launcher.py:30: FutureWarning: Sorting because non-concatenation axis is not aligned. A future version\n",
      "of pandas will change to not sort by default.\n",
      "\n",
      "To accept the future behavior, pass 'sort=False'.\n",
      "\n",
      "To retain the current behavior and silence the warning, pass 'sort=True'.\n",
      "\n"
     ]
    },
    {
     "name": "stdout",
     "output_type": "stream",
     "text": [
      "[(0.13500784, 'Distance_my'), (0.07378336, 'links_jaccardMEAN'), (0.06907378, 'isAutomaticTranslationFrom'), (0.054945055, 'rank'), (0.054945055, 'LangTo_tfidf_normed'), (0.043956045, 'LangTo_tfidfWeighted'), (0.042386185, 'Distance'), (0.039246466, 'editDistance'), (0.03453689, 'rank_by_count'), (0.029827315, 'link_dens_avg'), (0.028257458, 'pos_avg'), (0.02354788, 'links_jaccardSUM'), (0.020408163, 'size_median_mult'), (0.020408163, 'num_links_median_mult'), (0.018838305, 'LangTo_tfidf'), (0.017268445, 'num_links_median'), (0.015698588, 'pos_norm_avg_mult'), (0.015698588, 'pos_norm_avg'), (0.014128729, 'size_rel_median'), (0.014128729, 'pos_inv_avg'), (0.014128729, 'LangFrom_tfidf_normed'), (0.014128729, 'LangFrom_tfidf'), (0.01255887, 'links_rel_avg'), (0.01255887, 'fasttext_content_similarityMEDIAN'), (0.01255887, 'count'), (0.010989011, 'pos_norm_median_mult'), (0.0094191525, 'size_median'), (0.0094191525, 'size_avg'), (0.007849294, 'size_rel_avg'), (0.007849294, 'rank_mult'), (0.007849294, 'pos_inv_median'), (0.007849294, 'pos_inv_avg_mult'), (0.007849294, 'num_links_avg_mult'), (0.007849294, 'num_links_avg'), (0.007849294, 'Distance_myWeighted'), (0.006279435, 'pos_avg_mult'), (0.006279435, 'links_commonMEAN'), (0.006279435, 'link_dens_avg_mult'), (0.006279435, 'isAutomaticTranslationTo'), (0.006279435, 'fasttext_content_similarityMEAN'), (0.0047095763, 'size_rel_median_mult'), (0.0047095763, 'size_rel_avg_mult'), (0.0047095763, 'links_rel_avg_mult'), (0.0047095763, 'links_jaccardMEDIAN'), (0.0047095763, 'links_commonMEDIAN'), (0.0047095763, 'link_dens_median'), (0.0047095763, 'TotalCount_mult'), (0.0031397175, 'pos_median'), (0.0031397175, 'links_rel_median_mult'), (0.0031397175, 'links_commonSUM'), (0.0015698588, 'size_avg_mult'), (0.0015698588, 'pos_norm_median'), (0.0015698588, 'pos_inv_median_mult'), (0.0015698588, 'link_dens_median_mult'), (0.0015698588, 'LangFrom_tfidfWeighted'), (0.0015698588, 'DistanceWeighted'), (0.0, 'size_std_mult'), (0.0, 'size_std'), (0.0, 'size_rel_std_mult'), (0.0, 'size_rel_std'), (0.0, 'rank_from'), (0.0, 'rank_by_LangTo_tfidf'), (0.0, 'rank_by_LangFrom_tfidf'), (0.0, 'pos_std_mult'), (0.0, 'pos_std'), (0.0, 'pos_norm_std_mult'), (0.0, 'pos_norm_std'), (0.0, 'pos_median_mult'), (0.0, 'pos_inv_std_mult'), (0.0, 'pos_inv_std'), (0.0, 'num_links_std_mult'), (0.0, 'num_links_std'), (0.0, 'links_rel_std_mult'), (0.0, 'links_rel_std'), (0.0, 'links_rel_median'), (0.0, 'link_dens_std_mult'), (0.0, 'link_dens_std'), (0.0, 'count_normed'), (0.0, 'TotalCount')]\n",
      "error Cannot set a frame with no defined index and a value that cannot be converted to a Series\n"
     ]
    },
    {
     "name": "stderr",
     "output_type": "stream",
     "text": [
      "/home/dsaez/venv/lib/python3.5/site-packages/ipykernel_launcher.py:67: UserWarning: Boolean Series key will be reindexed to match DataFrame index.\n",
      "/home/dsaez/venv/lib/python3.5/site-packages/ipykernel_launcher.py:68: UserWarning: Boolean Series key will be reindexed to match DataFrame index.\n"
     ]
    },
    {
     "name": "stdout",
     "output_type": "stream",
     "text": [
      "ja fr {'Baseline3 Acc@1': 0.0, 'Baseline2 Acc@1': 0.0, 'Baseline2 Acc@5': 0.02, 'Baseline2 Acc@3': 0.0, 'Acc@3': 0.6, 'Baseline3 Acc@5': 0.02, 'Acc@1': 0.45, 'Baseline3 Acc@3': 0.0, 'langFrom': 'ja', 'langTo': 'fr', 'Baseline': 0.34, 'Instances': 47, 'Acc@5': 0.66}\n",
      "error Cannot set a frame with no defined index and a value that cannot be converted to a Series\n"
     ]
    },
    {
     "name": "stderr",
     "output_type": "stream",
     "text": [
      "/home/dsaez/venv/lib/python3.5/site-packages/ipykernel_launcher.py:67: UserWarning: Boolean Series key will be reindexed to match DataFrame index.\n",
      "/home/dsaez/venv/lib/python3.5/site-packages/ipykernel_launcher.py:68: UserWarning: Boolean Series key will be reindexed to match DataFrame index.\n"
     ]
    },
    {
     "name": "stdout",
     "output_type": "stream",
     "text": [
      "ja es {'Baseline3 Acc@1': 0.0, 'Baseline2 Acc@1': 0.0, 'Baseline2 Acc@5': 0.0, 'Baseline2 Acc@3': 0.0, 'Acc@3': 0.89, 'Baseline3 Acc@5': 0.0, 'Acc@1': 0.56, 'Baseline3 Acc@3': 0.0, 'langFrom': 'ja', 'langTo': 'es', 'Baseline': 0.56, 'Instances': 9, 'Acc@5': 0.89}\n"
     ]
    },
    {
     "name": "stderr",
     "output_type": "stream",
     "text": [
      "/home/dsaez/venv/lib/python3.5/site-packages/ipykernel_launcher.py:67: UserWarning: Boolean Series key will be reindexed to match DataFrame index.\n",
      "/home/dsaez/venv/lib/python3.5/site-packages/ipykernel_launcher.py:68: UserWarning: Boolean Series key will be reindexed to match DataFrame index.\n"
     ]
    },
    {
     "name": "stdout",
     "output_type": "stream",
     "text": [
      "ja en {'Baseline3 Acc@1': 0.0, 'Baseline2 Acc@1': 0.0, 'Baseline2 Acc@5': 0.01, 'Baseline2 Acc@3': 0.0, 'Acc@3': 0.74, 'Baseline3 Acc@5': 0.01, 'Acc@1': 0.59, 'Baseline3 Acc@3': 0.0, 'langFrom': 'ja', 'langTo': 'en', 'Baseline': 0.21, 'Instances': 68, 'Acc@5': 0.78}\n",
      "fr\n"
     ]
    },
    {
     "name": "stderr",
     "output_type": "stream",
     "text": [
      "/home/dsaez/venv/lib/python3.5/site-packages/ipykernel_launcher.py:30: FutureWarning: Sorting because non-concatenation axis is not aligned. A future version\n",
      "of pandas will change to not sort by default.\n",
      "\n",
      "To accept the future behavior, pass 'sort=False'.\n",
      "\n",
      "To retain the current behavior and silence the warning, pass 'sort=True'.\n",
      "\n"
     ]
    },
    {
     "name": "stdout",
     "output_type": "stream",
     "text": [
      "[(0.09737249, 'Distance'), (0.08037094, 'links_jaccardMEAN'), (0.08037094, 'LangTo_tfidf_normed'), (0.061823804, 'isAutomaticTranslationFrom'), (0.05564142, 'rank'), (0.04018547, 'Distance_my'), (0.038639877, 'LangTo_tfidfWeighted'), (0.03709428, 'links_jaccardSUM'), (0.030911902, 'pos_norm_avg'), (0.030911902, 'editDistance'), (0.02472952, 'rank_by_count'), (0.023183925, 'num_links_median_mult'), (0.02163833, 'size_median'), (0.01854714, 'pos_inv_avg'), (0.01854714, 'num_links_median'), (0.017001545, 'pos_inv_avg_mult'), (0.017001545, 'fasttext_content_similarityMEAN'), (0.015455951, 'LangFrom_tfidf'), (0.013910355, 'pos_norm_avg_mult'), (0.013910355, 'links_rel_median_mult'), (0.013910355, 'TotalCount'), (0.013910355, 'LangFrom_tfidfWeighted'), (0.01236476, 'num_links_avg_mult'), (0.01236476, 'links_jaccardMEDIAN'), (0.01236476, 'count_normed'), (0.010819165, 'size_avg'), (0.010819165, 'pos_norm_median'), (0.010819165, 'pos_avg'), (0.010819165, 'fasttext_content_similarityMEDIAN'), (0.00927357, 'size_rel_median'), (0.00927357, 'size_rel_avg_mult'), (0.00927357, 'size_rel_avg'), (0.00927357, 'rank_by_LangFrom_tfidf'), (0.00927357, 'pos_avg_mult'), (0.00927357, 'count'), (0.0077279755, 'link_dens_avg'), (0.0077279755, 'DistanceWeighted'), (0.00618238, 'size_median_mult'), (0.00618238, 'num_links_avg'), (0.00618238, 'links_rel_avg_mult'), (0.00618238, 'links_rel_avg'), (0.00618238, 'LangTo_tfidf'), (0.00618238, 'Distance_myWeighted'), (0.004636785, 'rank_from'), (0.004636785, 'pos_norm_median_mult'), (0.004636785, 'LangFrom_tfidf_normed'), (0.00309119, 'size_rel_median_mult'), (0.00309119, 'size_avg_mult'), (0.00309119, 'pos_inv_median'), (0.00309119, 'links_rel_median'), (0.00309119, 'links_commonMEDIAN'), (0.00309119, 'links_commonMEAN'), (0.00309119, 'isAutomaticTranslationTo'), (0.00309119, 'TotalCount_mult'), (0.001545595, 'rank_mult'), (0.001545595, 'pos_median'), (0.001545595, 'links_commonSUM'), (0.001545595, 'link_dens_median_mult'), (0.001545595, 'link_dens_median'), (0.0, 'size_std_mult'), (0.0, 'size_std'), (0.0, 'size_rel_std_mult'), (0.0, 'size_rel_std'), (0.0, 'rank_by_LangTo_tfidf'), (0.0, 'pos_std_mult'), (0.0, 'pos_std'), (0.0, 'pos_norm_std_mult'), (0.0, 'pos_norm_std'), (0.0, 'pos_median_mult'), (0.0, 'pos_inv_std_mult'), (0.0, 'pos_inv_std'), (0.0, 'pos_inv_median_mult'), (0.0, 'num_links_std_mult'), (0.0, 'num_links_std'), (0.0, 'links_rel_std_mult'), (0.0, 'links_rel_std'), (0.0, 'link_dens_std_mult'), (0.0, 'link_dens_std'), (0.0, 'link_dens_avg_mult')]\n"
     ]
    },
    {
     "name": "stderr",
     "output_type": "stream",
     "text": [
      "/home/dsaez/venv/lib/python3.5/site-packages/ipykernel_launcher.py:67: UserWarning: Boolean Series key will be reindexed to match DataFrame index.\n",
      "/home/dsaez/venv/lib/python3.5/site-packages/ipykernel_launcher.py:68: UserWarning: Boolean Series key will be reindexed to match DataFrame index.\n"
     ]
    },
    {
     "name": "stdout",
     "output_type": "stream",
     "text": [
      "fr ru {'Baseline3 Acc@1': 0.4, 'Baseline2 Acc@1': 0.0, 'Baseline2 Acc@5': 0.0, 'Baseline2 Acc@3': 0.0, 'Acc@3': 0.84, 'Baseline3 Acc@5': 0.74, 'Acc@1': 0.67, 'Baseline3 Acc@3': 0.65, 'langFrom': 'fr', 'langTo': 'ru', 'Baseline': 0.12, 'Instances': 43, 'Acc@5': 0.95}\n"
     ]
    },
    {
     "name": "stderr",
     "output_type": "stream",
     "text": [
      "/home/dsaez/venv/lib/python3.5/site-packages/ipykernel_launcher.py:67: UserWarning: Boolean Series key will be reindexed to match DataFrame index.\n",
      "/home/dsaez/venv/lib/python3.5/site-packages/ipykernel_launcher.py:68: UserWarning: Boolean Series key will be reindexed to match DataFrame index.\n"
     ]
    },
    {
     "name": "stdout",
     "output_type": "stream",
     "text": [
      "fr ja {'Baseline3 Acc@1': 0.13, 'Baseline2 Acc@1': 0.0, 'Baseline2 Acc@5': 0.02, 'Baseline2 Acc@3': 0.02, 'Acc@3': 0.73, 'Baseline3 Acc@5': 0.43, 'Acc@1': 0.48, 'Baseline3 Acc@3': 0.33, 'langFrom': 'fr', 'langTo': 'ja', 'Baseline': 0.32, 'Instances': 60, 'Acc@5': 0.85}\n"
     ]
    },
    {
     "name": "stderr",
     "output_type": "stream",
     "text": [
      "/home/dsaez/venv/lib/python3.5/site-packages/ipykernel_launcher.py:67: UserWarning: Boolean Series key will be reindexed to match DataFrame index.\n",
      "/home/dsaez/venv/lib/python3.5/site-packages/ipykernel_launcher.py:68: UserWarning: Boolean Series key will be reindexed to match DataFrame index.\n"
     ]
    },
    {
     "name": "stdout",
     "output_type": "stream",
     "text": [
      "fr ar {'Baseline3 Acc@1': 0.3, 'Baseline2 Acc@1': 0.03, 'Baseline2 Acc@5': 0.07, 'Baseline2 Acc@3': 0.03, 'Acc@3': 0.73, 'Baseline3 Acc@5': 0.6, 'Acc@1': 0.33, 'Baseline3 Acc@3': 0.5, 'langFrom': 'fr', 'langTo': 'ar', 'Baseline': 0.17, 'Instances': 30, 'Acc@5': 0.83}\n"
     ]
    },
    {
     "name": "stderr",
     "output_type": "stream",
     "text": [
      "/home/dsaez/venv/lib/python3.5/site-packages/ipykernel_launcher.py:67: UserWarning: Boolean Series key will be reindexed to match DataFrame index.\n",
      "/home/dsaez/venv/lib/python3.5/site-packages/ipykernel_launcher.py:68: UserWarning: Boolean Series key will be reindexed to match DataFrame index.\n"
     ]
    },
    {
     "name": "stdout",
     "output_type": "stream",
     "text": [
      "fr es {'Baseline3 Acc@1': 0.67, 'Baseline2 Acc@1': 0.0, 'Baseline2 Acc@5': 0.03, 'Baseline2 Acc@3': 0.02, 'Acc@3': 0.93, 'Baseline3 Acc@5': 0.95, 'Acc@1': 0.75, 'Baseline3 Acc@3': 0.88, 'langFrom': 'fr', 'langTo': 'es', 'Baseline': 0.18, 'Instances': 100, 'Acc@5': 0.96}\n"
     ]
    },
    {
     "name": "stderr",
     "output_type": "stream",
     "text": [
      "/home/dsaez/venv/lib/python3.5/site-packages/ipykernel_launcher.py:67: UserWarning: Boolean Series key will be reindexed to match DataFrame index.\n",
      "/home/dsaez/venv/lib/python3.5/site-packages/ipykernel_launcher.py:68: UserWarning: Boolean Series key will be reindexed to match DataFrame index.\n"
     ]
    },
    {
     "name": "stdout",
     "output_type": "stream",
     "text": [
      "fr en {'Baseline3 Acc@1': 0.69, 'Baseline2 Acc@1': 0.67, 'Baseline2 Acc@5': 0.89, 'Baseline2 Acc@3': 0.84, 'Acc@3': 0.94, 'Baseline3 Acc@5': 0.88, 'Acc@1': 0.82, 'Baseline3 Acc@3': 0.84, 'langFrom': 'fr', 'langTo': 'en', 'Baseline': 0.58, 'Instances': 342, 'Acc@5': 0.97}\n",
      "ar\n"
     ]
    },
    {
     "name": "stderr",
     "output_type": "stream",
     "text": [
      "/home/dsaez/venv/lib/python3.5/site-packages/ipykernel_launcher.py:30: FutureWarning: Sorting because non-concatenation axis is not aligned. A future version\n",
      "of pandas will change to not sort by default.\n",
      "\n",
      "To accept the future behavior, pass 'sort=False'.\n",
      "\n",
      "To retain the current behavior and silence the warning, pass 'sort=True'.\n",
      "\n"
     ]
    },
    {
     "name": "stdout",
     "output_type": "stream",
     "text": [
      "[(0.12210201, 'Distance_my'), (0.061823804, 'isAutomaticTranslationFrom'), (0.060278207, 'LangTo_tfidfWeighted'), (0.057187017, 'links_jaccardMEAN'), (0.04945904, 'rank'), (0.04945904, 'editDistance'), (0.038639877, 'LangTo_tfidf_normed'), (0.035548687, 'links_jaccardSUM'), (0.03400309, 'Distance'), (0.02782071, 'pos_avg'), (0.026275115, 'links_jaccardMEDIAN'), (0.023183925, 'size_median'), (0.02163833, 'pos_avg_mult'), (0.017001545, 'pos_norm_avg_mult'), (0.017001545, 'pos_norm_avg'), (0.017001545, 'LangTo_tfidf'), (0.015455951, 'size_rel_avg'), (0.015455951, 'rank_by_count'), (0.013910355, 'LangFrom_tfidfWeighted'), (0.013910355, 'DistanceWeighted'), (0.01236476, 'size_rel_median'), (0.01236476, 'size_median_mult'), (0.01236476, 'size_avg_mult'), (0.01236476, 'num_links_median_mult'), (0.01236476, 'links_commonMEDIAN'), (0.01236476, 'count'), (0.01236476, 'LangFrom_tfidf_normed'), (0.01236476, 'LangFrom_tfidf'), (0.010819165, 'pos_inv_avg'), (0.010819165, 'num_links_median'), (0.010819165, 'links_rel_median_mult'), (0.010819165, 'links_rel_median'), (0.010819165, 'fasttext_content_similarityMEDIAN'), (0.00927357, 'num_links_avg'), (0.00927357, 'links_rel_avg'), (0.00927357, 'link_dens_avg_mult'), (0.0077279755, 'size_rel_avg_mult'), (0.0077279755, 'size_avg'), (0.0077279755, 'pos_inv_median'), (0.00618238, 'rank_by_LangFrom_tfidf'), (0.00618238, 'links_commonSUM'), (0.00618238, 'link_dens_median_mult'), (0.00618238, 'fasttext_content_similarityMEAN'), (0.00618238, 'TotalCount_mult'), (0.004636785, 'rank_mult'), (0.004636785, 'pos_norm_median_mult'), (0.004636785, 'pos_median'), (0.004636785, 'links_rel_avg_mult'), (0.00309119, 'size_rel_median_mult'), (0.00309119, 'rank_from'), (0.00309119, 'pos_inv_avg_mult'), (0.00309119, 'links_commonMEAN'), (0.00309119, 'link_dens_avg'), (0.00309119, 'Distance_myWeighted'), (0.001545595, 'pos_norm_median'), (0.001545595, 'pos_inv_median_mult'), (0.001545595, 'num_links_avg_mult'), (0.001545595, 'link_dens_median'), (0.001545595, 'isAutomaticTranslationTo'), (0.001545595, 'count_normed'), (0.001545595, 'TotalCount'), (0.0, 'size_std_mult'), (0.0, 'size_std'), (0.0, 'size_rel_std_mult'), (0.0, 'size_rel_std'), (0.0, 'rank_by_LangTo_tfidf'), (0.0, 'pos_std_mult'), (0.0, 'pos_std'), (0.0, 'pos_norm_std_mult'), (0.0, 'pos_norm_std'), (0.0, 'pos_median_mult'), (0.0, 'pos_inv_std_mult'), (0.0, 'pos_inv_std'), (0.0, 'num_links_std_mult'), (0.0, 'num_links_std'), (0.0, 'links_rel_std_mult'), (0.0, 'links_rel_std'), (0.0, 'link_dens_std_mult'), (0.0, 'link_dens_std')]\n"
     ]
    },
    {
     "name": "stderr",
     "output_type": "stream",
     "text": [
      "/home/dsaez/venv/lib/python3.5/site-packages/ipykernel_launcher.py:67: UserWarning: Boolean Series key will be reindexed to match DataFrame index.\n",
      "/home/dsaez/venv/lib/python3.5/site-packages/ipykernel_launcher.py:68: UserWarning: Boolean Series key will be reindexed to match DataFrame index.\n"
     ]
    },
    {
     "name": "stdout",
     "output_type": "stream",
     "text": [
      "ar ru {'Baseline3 Acc@1': 0.39, 'Baseline2 Acc@1': 0.04, 'Baseline2 Acc@5': 0.09, 'Baseline2 Acc@3': 0.09, 'Acc@3': 0.91, 'Baseline3 Acc@5': 0.87, 'Acc@1': 0.83, 'Baseline3 Acc@3': 0.7, 'langFrom': 'ar', 'langTo': 'ru', 'Baseline': 0.09, 'Instances': 23, 'Acc@5': 0.96}\n"
     ]
    },
    {
     "name": "stderr",
     "output_type": "stream",
     "text": [
      "/home/dsaez/venv/lib/python3.5/site-packages/ipykernel_launcher.py:67: UserWarning: Boolean Series key will be reindexed to match DataFrame index.\n",
      "/home/dsaez/venv/lib/python3.5/site-packages/ipykernel_launcher.py:68: UserWarning: Boolean Series key will be reindexed to match DataFrame index.\n"
     ]
    },
    {
     "name": "stdout",
     "output_type": "stream",
     "text": [
      "ar ja {'Baseline3 Acc@1': 0.3, 'Baseline2 Acc@1': 0.0, 'Baseline2 Acc@5': 0.0, 'Baseline2 Acc@3': 0.0, 'Acc@3': 0.6, 'Baseline3 Acc@5': 0.6, 'Acc@1': 0.3, 'Baseline3 Acc@3': 0.3, 'langFrom': 'ar', 'langTo': 'ja', 'Baseline': 0.3, 'Instances': 10, 'Acc@5': 0.8}\n"
     ]
    },
    {
     "name": "stderr",
     "output_type": "stream",
     "text": [
      "/home/dsaez/venv/lib/python3.5/site-packages/ipykernel_launcher.py:67: UserWarning: Boolean Series key will be reindexed to match DataFrame index.\n",
      "/home/dsaez/venv/lib/python3.5/site-packages/ipykernel_launcher.py:68: UserWarning: Boolean Series key will be reindexed to match DataFrame index.\n"
     ]
    },
    {
     "name": "stdout",
     "output_type": "stream",
     "text": [
      "ar fr {'Baseline3 Acc@1': 0.58, 'Baseline2 Acc@1': 0.07, 'Baseline2 Acc@5': 0.18, 'Baseline2 Acc@3': 0.12, 'Acc@3': 0.9, 'Baseline3 Acc@5': 0.8, 'Acc@1': 0.71, 'Baseline3 Acc@3': 0.76, 'langFrom': 'ar', 'langTo': 'fr', 'Baseline': 0.45, 'Instances': 136, 'Acc@5': 0.93}\n"
     ]
    },
    {
     "name": "stderr",
     "output_type": "stream",
     "text": [
      "/home/dsaez/venv/lib/python3.5/site-packages/ipykernel_launcher.py:67: UserWarning: Boolean Series key will be reindexed to match DataFrame index.\n",
      "/home/dsaez/venv/lib/python3.5/site-packages/ipykernel_launcher.py:68: UserWarning: Boolean Series key will be reindexed to match DataFrame index.\n"
     ]
    },
    {
     "name": "stdout",
     "output_type": "stream",
     "text": [
      "ar es {'Baseline3 Acc@1': 0.51, 'Baseline2 Acc@1': 0.0, 'Baseline2 Acc@5': 0.12, 'Baseline2 Acc@3': 0.07, 'Acc@3': 0.9, 'Baseline3 Acc@5': 0.85, 'Acc@1': 0.68, 'Baseline3 Acc@3': 0.73, 'langFrom': 'ar', 'langTo': 'es', 'Baseline': 0.58, 'Instances': 59, 'Acc@5': 0.97}\n"
     ]
    },
    {
     "name": "stderr",
     "output_type": "stream",
     "text": [
      "/home/dsaez/venv/lib/python3.5/site-packages/ipykernel_launcher.py:67: UserWarning: Boolean Series key will be reindexed to match DataFrame index.\n",
      "/home/dsaez/venv/lib/python3.5/site-packages/ipykernel_launcher.py:68: UserWarning: Boolean Series key will be reindexed to match DataFrame index.\n"
     ]
    },
    {
     "name": "stdout",
     "output_type": "stream",
     "text": [
      "ar en {'Baseline3 Acc@1': 0.51, 'Baseline2 Acc@1': 0.6, 'Baseline2 Acc@5': 0.93, 'Baseline2 Acc@3': 0.86, 'Acc@3': 0.95, 'Baseline3 Acc@5': 0.85, 'Acc@1': 0.76, 'Baseline3 Acc@3': 0.78, 'langFrom': 'ar', 'langTo': 'en', 'Baseline': 0.35, 'Instances': 382, 'Acc@5': 0.97}\n",
      "es\n"
     ]
    },
    {
     "name": "stderr",
     "output_type": "stream",
     "text": [
      "/home/dsaez/venv/lib/python3.5/site-packages/ipykernel_launcher.py:30: FutureWarning: Sorting because non-concatenation axis is not aligned. A future version\n",
      "of pandas will change to not sort by default.\n",
      "\n",
      "To accept the future behavior, pass 'sort=False'.\n",
      "\n",
      "To retain the current behavior and silence the warning, pass 'sort=True'.\n",
      "\n"
     ]
    },
    {
     "name": "stdout",
     "output_type": "stream",
     "text": [
      "[(0.10429448, 'Distance_my'), (0.07055215, 'links_jaccardMEAN'), (0.07055215, 'isAutomaticTranslationFrom'), (0.06288344, 'Distance'), (0.061349694, 'rank'), (0.058282208, 'LangTo_tfidf_normed'), (0.042944785, 'links_jaccardSUM'), (0.0398773, 'LangTo_tfidfWeighted'), (0.035276074, 'pos_avg'), (0.024539877, 'pos_avg_mult'), (0.024539877, 'LangTo_tfidf'), (0.023006136, 'pos_norm_avg_mult'), (0.023006136, 'pos_inv_avg'), (0.018404908, 'pos_inv_avg_mult'), (0.016871165, 'pos_norm_avg'), (0.016871165, 'links_jaccardMEDIAN'), (0.016871165, 'editDistance'), (0.016871165, 'TotalCount'), (0.015337423, 'size_rel_median'), (0.015337423, 'rank_by_count'), (0.015337423, 'LangFrom_tfidf'), (0.013803681, 'size_median'), (0.012269938, 'pos_inv_median'), (0.012269938, 'LangFrom_tfidfWeighted'), (0.010736196, 'size_rel_avg'), (0.010736196, 'size_median_mult'), (0.010736196, 'num_links_median_mult'), (0.009202454, 'num_links_median'), (0.009202454, 'links_commonSUM'), (0.009202454, 'fasttext_content_similarityMEDIAN'), (0.009202454, 'fasttext_content_similarityMEAN'), (0.009202454, 'count'), (0.0076687117, 'rank_mult'), (0.0076687117, 'pos_norm_median_mult'), (0.0076687117, 'links_rel_avg'), (0.0076687117, 'link_dens_avg_mult'), (0.0076687117, 'DistanceWeighted'), (0.006134969, 'num_links_avg'), (0.004601227, 'size_avg_mult'), (0.004601227, 'size_avg'), (0.004601227, 'rank_from'), (0.004601227, 'num_links_avg_mult'), (0.004601227, 'links_rel_median_mult'), (0.004601227, 'links_commonMEAN'), (0.004601227, 'link_dens_median'), (0.004601227, 'count_normed'), (0.004601227, 'TotalCount_mult'), (0.0030674846, 'size_rel_median_mult'), (0.0030674846, 'pos_median'), (0.0030674846, 'links_rel_median'), (0.0030674846, 'link_dens_median_mult'), (0.0015337423, 'rank_by_LangFrom_tfidf'), (0.0015337423, 'pos_norm_median'), (0.0015337423, 'pos_median_mult'), (0.0015337423, 'links_rel_avg_mult'), (0.0015337423, 'links_commonMEDIAN'), (0.0015337423, 'link_dens_avg'), (0.0015337423, 'LangFrom_tfidf_normed'), (0.0015337423, 'Distance_myWeighted'), (0.0, 'size_std_mult'), (0.0, 'size_std'), (0.0, 'size_rel_std_mult'), (0.0, 'size_rel_std'), (0.0, 'size_rel_avg_mult'), (0.0, 'rank_by_LangTo_tfidf'), (0.0, 'pos_std_mult'), (0.0, 'pos_std'), (0.0, 'pos_norm_std_mult'), (0.0, 'pos_norm_std'), (0.0, 'pos_inv_std_mult'), (0.0, 'pos_inv_std'), (0.0, 'pos_inv_median_mult'), (0.0, 'num_links_std_mult'), (0.0, 'num_links_std'), (0.0, 'links_rel_std_mult'), (0.0, 'links_rel_std'), (0.0, 'link_dens_std_mult'), (0.0, 'link_dens_std'), (0.0, 'isAutomaticTranslationTo')]\n"
     ]
    },
    {
     "name": "stderr",
     "output_type": "stream",
     "text": [
      "/home/dsaez/venv/lib/python3.5/site-packages/ipykernel_launcher.py:67: UserWarning: Boolean Series key will be reindexed to match DataFrame index.\n",
      "/home/dsaez/venv/lib/python3.5/site-packages/ipykernel_launcher.py:68: UserWarning: Boolean Series key will be reindexed to match DataFrame index.\n"
     ]
    },
    {
     "name": "stdout",
     "output_type": "stream",
     "text": [
      "es ru {'Baseline3 Acc@1': 0.44, 'Baseline2 Acc@1': 0.0, 'Baseline2 Acc@5': 0.0, 'Baseline2 Acc@3': 0.0, 'Acc@3': 0.81, 'Baseline3 Acc@5': 0.75, 'Acc@1': 0.69, 'Baseline3 Acc@3': 0.62, 'langFrom': 'es', 'langTo': 'ru', 'Baseline': 0.19, 'Instances': 16, 'Acc@5': 0.88}\n",
      "es ja {'Baseline3 Acc@1': 0.0, 'Baseline2 Acc@1': 0.0, 'Baseline2 Acc@5': 0.0, 'Baseline2 Acc@3': 0.0, 'Acc@3': 1.0, 'Baseline3 Acc@5': 0.0, 'Acc@1': 0.0, 'Baseline3 Acc@3': 0.0, 'langFrom': 'es', 'langTo': 'ja', 'Baseline': 0.0, 'Instances': 1, 'Acc@5': 1.0}\n"
     ]
    },
    {
     "name": "stderr",
     "output_type": "stream",
     "text": [
      "/home/dsaez/venv/lib/python3.5/site-packages/ipykernel_launcher.py:67: UserWarning: Boolean Series key will be reindexed to match DataFrame index.\n",
      "/home/dsaez/venv/lib/python3.5/site-packages/ipykernel_launcher.py:68: UserWarning: Boolean Series key will be reindexed to match DataFrame index.\n"
     ]
    }
   ],
   "source": [
    "from xgboost import XGBClassifier\n",
    "from sklearn.model_selection import train_test_split\n",
    "from sklearn.metrics import accuracy_score\n",
    "from sklearn.metrics import confusion_matrix\n",
    "from itertools import permutations\n",
    "K = 5\n",
    "\n",
    "#features = ['LangTo_tfidf','LangFrom_tfidf','Distance','Distance_my',\n",
    "#            'count','pos_norm_avg','pos_inv_avg','pos_norm_median',\n",
    "#            'pos_avg_mult','size_median_mult','num_links_avg',\n",
    "#           'links_jaccardMEAN', 'links_jaccardMEDIAN',\n",
    "#           'links_jaccardSUM', 'links_commonMEAN', 'links_commonMEDIAN',\n",
    "#           'links_commonSUM','editDistance','count_normed',\n",
    "#            'Distance_myWeighted','DistanceWeighted','LangFrom_tfidfWeighted','LangTo_tfidfWeighted','rank']\n",
    "            #'isAutomaticTranslationTo','isAutomaticTranslationFrom']\n",
    "features = datasets['en']['es'].columns #could be any pair, all have the same columns\n",
    "features = features.drop(['isTranslation','langFrom','langTo'])#,'isAutomaticTranslationTo','isAutomaticTranslationFrom'])\n",
    "\n",
    "featuresRankWithGT = []\n",
    "finalResults = []\n",
    "accuracyPos = {}\n",
    "for lang in langs:\n",
    "    print(lang)\n",
    "    tmpDF = []\n",
    "    for lang1,data in datasets.items():\n",
    "        if lang1 != lang:\n",
    "            for lang2,dataset in data.items():\n",
    "                if lang2 != lang:\n",
    "                    tmpDF.append(dataset)    \n",
    "    TrainData = pd.concat(tmpDF)\n",
    "    X_train = TrainData[features]\n",
    "    Y_train = TrainData['isTranslation']\n",
    "    Model = XGBClassifier()\n",
    "    Model.fit(X_train, Y_train)\n",
    "    print(sorted(zip(Model.feature_importances_,X_train.columns),reverse=True))\n",
    "    featuresRankWithGT.append(sorted(zip(Model.feature_importances_,X_train.columns),reverse=True))\n",
    "\n",
    "    accuracyPos[lang] = {}\n",
    "    for lang1,lang2 in permutations(langs,2):\n",
    "        if lang1 == lang:\n",
    "            try:\n",
    "                recSheet = []\n",
    "\n",
    "                TestData = prepareDataNew(lang1,lang2) # I need to create again the dataset, because the stored ones, are balanaced\n",
    "                TestData  = TestData[TestData['count'] > 1] # PRE-FILTER, CANDIDATES NEWS TO COOCURR AT LEAST TWO (Arbitrary), THIS FOR REMOVING TYPOS AND NOISE\n",
    "\n",
    "                X_test = TestData[features]\n",
    "                test = TestData['isTranslation']\n",
    "                y_prob= Model.predict_proba(X_test)\n",
    "                TestData['prob'] = [pred[1] for pred in y_prob]\n",
    "                output = []\n",
    "                automaticTranslation = []\n",
    "\n",
    "                #init accuracy dict\n",
    "                accjustEmbeddings = {}\n",
    "                accjustEmbeddingsMy = {}\n",
    "                accuracy = {}\n",
    "                accuracyPos[lang1][lang2] = {}          \n",
    "                for i in range(1,K+1,2):\n",
    "                    accuracy[i] = []\n",
    "                    accjustEmbeddings[i] = []\n",
    "                    accjustEmbeddingsMy[i] = []\n",
    "                    accuracyPos[lang1][lang2][i] = []\n",
    "\n",
    "                for secFrom,data in TestData.groupby('langFrom'):\n",
    "                     if data['isTranslation'].any():\n",
    "                        rank = data[TestData['isTranslation']]['rank_from'].iloc[0]\n",
    "                        if data[TestData['isTranslation']]['isAutomaticTranslationFrom'].any() : #check if label is automatic translation\n",
    "                            automaticTranslation.append(1)\n",
    "                        else:\n",
    "                            automaticTranslation.append(0)\n",
    "\n",
    "                        for i in range(1,K+1,2):\n",
    "                            #evaluation my approach\n",
    "                            evaluation = data.sort_values('prob',ascending=False).iloc[0:i]['isTranslation'].any()\n",
    "                       \n",
    "                            if evaluation:\n",
    "                                accuracy[i].append(1)\n",
    "                                accuracyPos[lang1][lang2][i].append((rank,1))\n",
    "\n",
    "                            else:\n",
    "                                accuracy[i].append(0)\n",
    "                                accuracyPos[lang1][lang2][i].append((rank,0))\n",
    "                            #evaluating just embeedings\n",
    "\n",
    "                            evaluationjustEmbeddings = data.sort_values('Distance',ascending=False).iloc[0:i]['isTranslation'].any()\n",
    "                            evaluationjustEmbeddingsMy = data.sort_values('Distance_my',ascending=False).iloc[0:i]['isTranslation'].any()\n",
    "\n",
    "                            if evaluationjustEmbeddings:\n",
    "                                accjustEmbeddings[i].append(1)\n",
    "                            else:\n",
    "                                accjustEmbeddings[i].append(0)\n",
    "                                       \n",
    "                            if evaluationjustEmbeddingsMy:\n",
    "                                accjustEmbeddingsMy[i].append(1)\n",
    "                            else:\n",
    "                                accjustEmbeddingsMy[i].append(0)    \n",
    "                                       \n",
    "                            if generateRecs == True:\n",
    "                                    if numbOfCandidates == i:\n",
    "                                        candidates = data.sort_values('prob',ascending=False)[['langTo','prob','rank_from']].iloc[0:5]\n",
    "                                        candidates['secFrom'] =secFrom\n",
    "                                        recSheet.append(candidates)\n",
    "                            \n",
    "                numOfInstances= len(automaticTranslation)\n",
    "\n",
    "                if  numOfInstances> 0: #Here I'm just counting the number of sections with labels\n",
    "                    acc = {'langFrom':lang1,'langTo':lang2,'Instances':numOfInstances}\n",
    "                    acc['Baseline'] = round(sum(automaticTranslation)/len(automaticTranslation),2)\n",
    "                    for i in range(1,K+1,2):\n",
    "                        try:\n",
    "                            acc['Acc@%s' % i] = round(sum(accuracy[i])/len(accuracy[i]),2)\n",
    "                            acc['Baseline2 Acc@%s' % i] = round(sum(accjustEmbeddings[i])/len(accjustEmbeddings[i]),2)\n",
    "                            acc['Baseline3 Acc@%s' % i] = round(sum(accjustEmbeddingsMy[i])/len(accjustEmbeddingsMy[i]),2)\n",
    "\n",
    "                        except:\n",
    "                            acc['Acc@%s' %i] = 0\n",
    "\n",
    "                    print(lang1,lang2,acc)\n",
    "                    finalResults.append(acc)\n",
    "                    recSheet = pd.concat(recSheet)\n",
    "                    recSheet.set_index('secFrom',inplace=True)\n",
    "                    recSheet.sort_values(['rank_from','prob'],ascending=[True,False],inplace=True)\n",
    "                    recSheet.to_excel('recSheets/%s_to_%s_withGoogle.xls' % (lang1,lang2))\n",
    "\n",
    "\n",
    "            except Exception as ex:\n",
    "                print('error',ex) #empty pairs\n",
    "pd.DataFrame(finalResults).sort_values('langFrom').to_csv('predictorOutputWithAutomaticTranslationV2.csv')\n"
   ]
  },
  {
   "cell_type": "code",
   "execution_count": 384,
   "metadata": {},
   "outputs": [
    {
     "data": {
      "text/plain": [
       "<matplotlib.text.Text at 0x7f87335e5828>"
      ]
     },
     "execution_count": 384,
     "metadata": {},
     "output_type": "execute_result"
    },
    {
     "data": {
      "image/png": "[encoded data removed]",
      "text/plain": [
       "<matplotlib.figure.Figure at 0x7f875dbaec50>"
      ]
     },
     "metadata": {},
     "output_type": "display_data"
    }
   ],
   "source": [
    "#convert results in matrix\n",
    "import seaborn as sns\n",
    "%matplotlib inline\n",
    "import matplotlib.pyplot as plt\n",
    "matrix = pd.DataFrame(finalResults)\n",
    "matrix = matrix[matrix.Instances > 10]\n",
    "fig, ax =plt.subplots(1,3,figsize=(19,6))\n",
    "\n",
    "pl1 = sns.heatmap(matrix.pivot(index='langFrom',columns='langTo',values='Acc@1'),vmin=0.2, vmax=1 , cmap=\"Blues\",cbar=False,annot=True, ax=ax[0])\n",
    "pl1.set_title('Precision@1')\n",
    "pl2 = sns.heatmap(matrix.pivot(index='langFrom',columns='langTo', values='Acc@3'),vmin=0.2, vmax=1, cmap=\"Blues\",cbar=False,annot=True, ax=ax[1])\n",
    "pl2.set_title('Precision@3')\n",
    "pl3 =sns.heatmap(matrix.pivot(index='langFrom',columns='langTo', values='Acc@5'),vmin=0.2, vmax=1, cmap=\"Blues\",cbar=False,annot=True,ax=ax[2])\n",
    "pl3.set_title('Precision@5')\n",
    "#fig.savefig('WikiAlignmentsWithGTPrecision.png',bbox_inches='tight')\n",
    "\n",
    "#fig.show()"
   ]
  },
  {
   "cell_type": "code",
   "execution_count": 429,
   "metadata": {},
   "outputs": [
    {
     "data": {
      "text/plain": [
       "rank_by_count                       -0.520585\n",
       "rank_by_LangTo_tfidf                -0.520585\n",
       "editDistance                        -0.380979\n",
       "TotalCount                          -0.312997\n",
       "LangFrom_tfidf                      -0.305469\n",
       "LangFrom_tfidf_normed               -0.302984\n",
       "rank_mult                           -0.181803\n",
       "links_rel_avg                       -0.173122\n",
       "size_rel_avg                        -0.145983\n",
       "pos_norm_avg                        -0.124642\n",
       "link_dens_avg                       -0.116147\n",
       "pos_norm_median                     -0.099866\n",
       "pos_norm_std                        -0.099866\n",
       "pos_std_mult                        -0.084907\n",
       "pos_median_mult                     -0.084907\n",
       "link_dens_std                       -0.077988\n",
       "link_dens_median                    -0.077988\n",
       "pos_avg_mult                        -0.076091\n",
       "size_std_mult                       -0.075815\n",
       "size_median_mult                    -0.075815\n",
       "rank_by_LangFrom_tfidf              -0.066605\n",
       "pos_inv_std_mult                    -0.062194\n",
       "pos_inv_median_mult                 -0.062194\n",
       "links_rel_median                    -0.057058\n",
       "links_rel_std                       -0.057058\n",
       "size_rel_median                     -0.036609\n",
       "size_rel_std                        -0.036609\n",
       "pos_inv_avg_mult                    -0.035556\n",
       "num_links_std_mult                  -0.024745\n",
       "num_links_median_mult               -0.024745\n",
       "                                       ...   \n",
       "pos_avg                              0.175725\n",
       "links_commonSUM                      0.178549\n",
       "LangTo_tfidfWeighted                 0.181498\n",
       "links_commonMEDIAN                   0.187231\n",
       "num_links_std                        0.190056\n",
       "num_links_median                     0.190056\n",
       "fasttext_content_similarityMEAN      0.190747\n",
       "size_rel_avg_mult                    0.191434\n",
       "count                                0.195592\n",
       "size_std                             0.201453\n",
       "size_median                          0.201453\n",
       "pos_median                           0.210366\n",
       "pos_std                              0.210366\n",
       "Distance_myWeighted                  0.211129\n",
       "count_normed                         0.211352\n",
       "fasttext_content_similarityMEDIAN    0.221588\n",
       "isAutomaticTranslationTo             0.269889\n",
       "pos_inv_avg                          0.278409\n",
       "rank_from                            0.279852\n",
       "links_commonMEAN                     0.298590\n",
       "pos_inv_std                          0.308354\n",
       "pos_inv_median                       0.308354\n",
       "rank                                 0.432775\n",
       "LangTo_tfidf_normed                  0.435016\n",
       "links_jaccardMEDIAN                  0.464902\n",
       "LangTo_tfidf                         0.469399\n",
       "isAutomaticTranslationFrom           0.552456\n",
       "links_jaccardMEAN                    0.648131\n",
       "Distance_my                          0.657341\n",
       "isTranslation                        1.000000\n",
       "Name: isTranslation, Length: 80, dtype: float64"
      ]
     },
     "execution_count": 429,
     "metadata": {},
     "output_type": "execute_result"
    }
   ],
   "source": [
    "TrainData.corr()['isTranslation'].sort_values()"
   ]
  },
  {
   "cell_type": "code",
   "execution_count": 414,
   "metadata": {},
   "outputs": [
    {
     "name": "stdout",
     "output_type": "stream",
     "text": [
      "\\begin{tabular}{lr}\n",
      "\\toprule\n",
      "{} &      0 \\\\\n",
      "\\midrule\n",
      "Distance\\_my                &  0.108 \\\\\n",
      "links\\_jaccardMEAN          &  0.067 \\\\\n",
      "isAutomaticTranslationFrom &  0.065 \\\\\n",
      "rank                       &  0.052 \\\\\n",
      "LangTo\\_tfidf\\_normed        &  0.051 \\\\\n",
      "Distance                   &  0.048 \\\\\n",
      "LangTo\\_tfidfWeighted       &  0.042 \\\\\n",
      "editDistance               &  0.037 \\\\\n",
      "links\\_jaccardSUM           &  0.036 \\\\\n",
      "pos\\_avg                    &  0.030 \\\\\n",
      "pos\\_norm\\_avg\\_mult          &  0.023 \\\\\n",
      "pos\\_norm\\_avg               &  0.021 \\\\\n",
      "rank\\_by\\_count              &  0.021 \\\\\n",
      "LangTo\\_tfidf               &  0.019 \\\\\n",
      "size\\_median                &  0.017 \\\\\n",
      "\\bottomrule\n",
      "\\end{tabular}\n",
      "\n"
     ]
    }
   ],
   "source": [
    "t = [dict([ reversed(y) for y in x]) for x in featuresRankWithGT]\n",
    "featuresRankDF = pd.DataFrame(t)\n",
    "f = featuresRankDF.agg('mean')\n",
    "\n",
    "print(pd.DataFrame(f.sort_values(ascending=False)[0:15]).round(decimals=3).to_latex())"
   ]
  },
  {
   "cell_type": "code",
   "execution_count": 421,
   "metadata": {},
   "outputs": [
    {
     "data": {
      "text/plain": [
       "Index(['Distance_my', 'links_jaccardMEAN', 'isAutomaticTranslationFrom',\n",
       "       'rank', 'LangTo_tfidf_normed', 'Distance', 'LangTo_tfidfWeighted',\n",
       "       'editDistance', 'links_jaccardSUM', 'pos_avg', 'pos_norm_avg_mult',\n",
       "       'pos_norm_avg', 'rank_by_count', 'LangTo_tfidf', 'size_median',\n",
       "       'pos_inv_avg', 'pos_avg_mult', 'LangFrom_tfidf', 'links_jaccardMEDIAN',\n",
       "       'num_links_median_mult', 'size_rel_median', 'num_links_median',\n",
       "       'fasttext_content_similarityMEAN', 'link_dens_avg',\n",
       "       'fasttext_content_similarityMEDIAN', 'size_median_mult',\n",
       "       'pos_inv_avg_mult', 'LangFrom_tfidf_normed', 'TotalCount', 'count',\n",
       "       'LangFrom_tfidfWeighted', 'size_rel_avg', 'size_avg',\n",
       "       'pos_norm_median_mult', 'links_rel_avg', 'links_commonMEDIAN',\n",
       "       'num_links_avg_mult', 'pos_inv_median', 'link_dens_median_mult',\n",
       "       'link_dens_avg_mult', 'Distance_myWeighted', 'DistanceWeighted',\n",
       "       'num_links_avg', 'size_avg_mult', 'links_commonMEAN',\n",
       "       'links_rel_median_mult', 'links_commonSUM', 'rank_mult',\n",
       "       'size_rel_avg_mult', 'rank_from', 'rank_by_LangFrom_tfidf',\n",
       "       'count_normed', 'links_rel_median', 'size_rel_median_mult',\n",
       "       'links_rel_avg_mult', 'link_dens_median', 'pos_median',\n",
       "       'TotalCount_mult', 'isAutomaticTranslationTo', 'pos_norm_median',\n",
       "       'pos_inv_median_mult', 'pos_median_mult', 'pos_norm_std_mult',\n",
       "       'pos_norm_std', 'size_rel_std', 'size_rel_std_mult', 'pos_std_mult',\n",
       "       'pos_inv_std_mult', 'pos_inv_std', 'pos_std', 'link_dens_std',\n",
       "       'link_dens_std_mult', 'links_rel_std', 'links_rel_std_mult', 'size_std',\n",
       "       'rank_by_LangTo_tfidf', 'num_links_std', 'num_links_std_mult',\n",
       "       'size_std_mult'],\n",
       "      dtype='object')"
      ]
     },
     "execution_count": 421,
     "metadata": {},
     "output_type": "execute_result"
    }
   ],
   "source": [
    "f.sort_values(ascending=False).index\n"
   ]
  },
  {
   "cell_type": "code",
   "execution_count": null,
   "metadata": {},
   "outputs": [],
   "source": [
    "#convert results in matrix\n",
    "import seaborn as sns\n",
    "%matplotlib inline\n",
    "import matplotlib.pyplot as plt\n",
    "matrixGT = pd.DataFrame(finalResults)\n",
    "matrixGT = matrixGT[matrixGT.Instances > 10]\n",
    "fig, ax =plt.subplots(1,3,figsize=(19,6))\n",
    "\n",
    "pl1 = sns.heatmap(matrixGT.pivot(index='langFrom',columns='langTo',values='Acc@1'),vmin=0.2, vmax=1 , cmap=\"Blues\",cbar=False,annot=True, ax=ax[0])\n",
    "pl1.set_title('Precision@1')\n",
    "pl2 = sns.heatmap(matrixGT.pivot(index='langFrom',columns='langTo', values='Acc@3'),vmin=0.2, vmax=1, cmap=\"Blues\",cbar=False,annot=True, ax=ax[1])\n",
    "pl2.set_title('Precision@3')\n",
    "pl3 =sns.heatmap(matrixGT.pivot(index='langFrom',columns='langTo', values='Acc@5'),vmin=0.2, vmax=1, cmap=\"Blues\",cbar=False,annot=True,ax=ax[2])\n",
    "pl3.set_title('Precision@5')\n",
    "fig.savefig('WikiAlignmentsPrecisionWithGT.png',bbox_inches='tight')\n",
    "\n",
    "fig.show()\n"
   ]
  },
  {
   "cell_type": "code",
   "execution_count": 109,
   "metadata": {
    "scrolled": true
   },
   "outputs": [
    {
     "name": "stdout",
     "output_type": "stream",
     "text": [
      "en\n"
     ]
    },
    {
     "name": "stderr",
     "output_type": "stream",
     "text": [
      "/home/dsaez/venv/lib/python3.5/site-packages/ipykernel_launcher.py:22: FutureWarning: Sorting because non-concatenation axis is not aligned. A future version\n",
      "of pandas will change to not sort by default.\n",
      "\n",
      "To accept the future behavior, pass 'sort=False'.\n",
      "\n",
      "To retain the current behavior and silence the warning, pass 'sort=True'.\n",
      "\n"
     ]
    },
    {
     "name": "stdout",
     "output_type": "stream",
     "text": [
      "[(0.15615141, 'Distance_my'), (0.07097792, 'LangTo_tfidf'), (0.06782334, 'rank'), (0.066246055, 'editDistance'), (0.06309148, 'links_jaccardMEAN'), (0.0488959, 'links_jaccardSUM'), (0.036277603, 'pos_avg'), (0.03154574, 'rank_by_LangTo_tfidf'), (0.03154574, 'pos_norm_avg'), (0.03154574, 'LangFrom_tfidf'), (0.029968454, 'LangTo_tfidfWeighted'), (0.02208202, 'TotalCount_mult'), (0.020504732, 'size_median_mult'), (0.018927446, 'size_median'), (0.018927446, 'Distance_myWeighted'), (0.01577287, 'size_rel_avg'), (0.01577287, 'num_links_avg'), (0.01577287, 'TotalCount'), (0.014195584, 'size_rel_avg_mult'), (0.014195584, 'pos_avg_mult'), (0.014195584, 'num_links_avg_mult'), (0.012618297, 'pos_norm_avg_mult'), (0.01104101, 'size_avg'), (0.01104101, 'pos_norm_median'), (0.01104101, 'LangFrom_tfidfWeighted'), (0.009463723, 'size_rel_median'), (0.009463723, 'num_links_median'), (0.009463723, 'link_dens_avg_mult'), (0.009463723, 'link_dens_avg'), (0.009463723, 'DistanceWeighted'), (0.007886435, 'pos_inv_avg_mult'), (0.007886435, 'link_dens_median'), (0.007886435, 'count_normed'), (0.0063091484, 'size_rel_median_mult'), (0.0063091484, 'rank_mult'), (0.0063091484, 'rank_by_LangFrom_tfidf'), (0.0063091484, 'pos_inv_avg'), (0.0063091484, 'links_rel_median'), (0.0063091484, 'links_commonSUM'), (0.0047318614, 'rank_from'), (0.0047318614, 'pos_inv_median'), (0.0047318614, 'links_rel_median_mult'), (0.0047318614, 'link_dens_median_mult'), (0.0047318614, 'Distance'), (0.0031545742, 'size_avg_mult'), (0.0031545742, 'pos_median'), (0.0031545742, 'links_commonMEDIAN'), (0.0031545742, 'links_commonMEAN'), (0.0015772871, 'pos_norm_median_mult'), (0.0015772871, 'links_rel_avg'), (0.0015772871, 'links_jaccardMEDIAN'), (0.0, 'size_std_mult'), (0.0, 'size_std'), (0.0, 'size_rel_std_mult'), (0.0, 'size_rel_std'), (0.0, 'rank_by_count'), (0.0, 'pos_std_mult'), (0.0, 'pos_std'), (0.0, 'pos_norm_std_mult'), (0.0, 'pos_norm_std'), (0.0, 'pos_median_mult'), (0.0, 'pos_inv_std_mult'), (0.0, 'pos_inv_std'), (0.0, 'pos_inv_median_mult'), (0.0, 'num_links_std_mult'), (0.0, 'num_links_std'), (0.0, 'num_links_median_mult'), (0.0, 'links_rel_std_mult'), (0.0, 'links_rel_std'), (0.0, 'links_rel_avg_mult'), (0.0, 'link_dens_std_mult'), (0.0, 'link_dens_std'), (0.0, 'count')]\n"
     ]
    },
    {
     "name": "stderr",
     "output_type": "stream",
     "text": [
      "/home/dsaez/venv/lib/python3.5/site-packages/ipykernel_launcher.py:43: UserWarning: Boolean Series key will be reindexed to match DataFrame index.\n"
     ]
    },
    {
     "name": "stdout",
     "output_type": "stream",
     "text": [
      "Automatic Translation 0.5774647887323944\n",
      "Accuracy@1 en fr 0.6901408450704225\n",
      "Accuracy@3 en fr 0.8886043533930857\n",
      "Accuracy@5 en fr 0.9321382842509603\n"
     ]
    }
   ],
   "source": [
    "#Testing just one pair en es\n",
    "#Test precision at K\n",
    "\n",
    "features = TrainData.columns \n",
    "features = features.drop(['isTranslation','langFrom','langTo','isAutomaticTranslationTo','isAutomaticTranslationFrom'])\n",
    "\n",
    "K = 5\n",
    "from xgboost import XGBClassifier\n",
    "from sklearn.model_selection import train_test_split\n",
    "from sklearn.metrics import accuracy_score\n",
    "from sklearn.metrics import confusion_matrix\n",
    "from itertools import permutations\n",
    "\n",
    "for lang in ['en']:#langs:\n",
    "    print(lang)\n",
    "    tmpDF = []\n",
    "    for lang1,data in datasets.items():\n",
    "        if lang1 != lang:\n",
    "            for lang2,dataset in data.items():\n",
    "                if lang2 != lang:\n",
    "                    tmpDF.append(dataset)    \n",
    "    TrainData = pd.concat(tmpDF)\n",
    "    X_train = TrainData[features]\n",
    "    Y_train = TrainData['isTranslation']\n",
    "    Model = XGBClassifier()\n",
    "    Model.fit(X_train, Y_train)\n",
    "    print(sorted(zip(Model.feature_importances_,X_train.columns),reverse=True))\n",
    "    for lang1,lang2 in [('en','fr')]: #permutations(langs,2):\n",
    "        if lang1 == lang:\n",
    "                TestData = prepareDataNew(lang1,lang2) # I need to create again the dataset, because the stored ones, are balanaced\n",
    "                TestData  = TestData[TestData['count'] > 1] # PRE-FILTER, CANDIDATES NEWS TO COOCURR AT LEAST FIVE (Arbitrary), THIS FOR REMOVING TYPOS AND NOISE\n",
    "                X_test = TestData[features]\n",
    "                test = TestData['isTranslation']\n",
    "                y_prob= Model.predict_proba(X_test)\n",
    "                TestData['prob'] = [pred[1] for pred in y_prob]\n",
    "                output = []\n",
    "                automaticTranslation = []\n",
    "                #init accuracy dict\n",
    "                for i in range(1,K+1,2):\n",
    "                    accuracy[i] = []\n",
    "                for secFrom,data in TestData.groupby('langFrom'):\n",
    "                     if data['isTranslation'].any():\n",
    "                        if data[TestData['isTranslation']]['isAutomaticTranslationFrom'].any(): #check if label is automatic translation\n",
    "                            automaticTranslation.append(1)\n",
    "                        else:\n",
    "                            automaticTranslation.append(0)\n",
    "\n",
    "                        for i in range(1,K+1,2):\n",
    "                            evaluation = data.sort_values('prob',ascending=False).iloc[0:i]['isTranslation'].any()\n",
    "                        \n",
    "                            if evaluation:\n",
    "                                accuracy[i].append(1)\n",
    "                            else:\n",
    "                                accuracy[i].append(0)\n",
    "                        \n",
    "                        \n",
    "                        \n",
    "                        #### This is for create spreadshets with examples\n",
    "                        #data = data.sort_values('prob',ascending=False)[['langTo','prob','count','count_normed','isTranslation']]\n",
    "                        #data.reset_index(inplace=True)\n",
    "                        #data['rank'] = data.index +1 \n",
    "                        #candidates = data.iloc[0:2]\n",
    "                        #label = data[data['isTranslation'] == True]\n",
    "                        #candidates = pd.concat([candidates,label])\n",
    "                        #candidates['secFrom'] =secFrom\n",
    "                        #candidates.set_index('secFrom',inplace=True)\n",
    "                        #candidates.drop_duplicates(inplace=True)\n",
    "                        #del(candidates['index'])\n",
    "                        #output.append(candidates)\n",
    "                        \n",
    "                print('Automatic Translation',sum(automaticTranslation)/len(automaticTranslation))\n",
    "                acc = {}\n",
    "                for i in range(1,K+1,2):\n",
    "                    try:\n",
    "\n",
    "                        acc[i] = sum(accuracy[i])/len(accuracy[i])\n",
    "                    except:\n",
    "                        acc[i] = 0\n",
    "                    print('Accuracy@%s' % i,lang1,lang2, acc[i])\n",
    "                #finalResults.append((lang1,lang2,round(acc,3)))\n",
    "                #spreadsheetOutput = pd.concat(output)\n",
    "                #spreadsheetOutput.rename(columns={'isTranslation':'label'},inplace=True)\n",
    "                #spreadsheetOutput.to_excel('spreadsheetOutput/%s_to_%s.xls' % (lang1,lang2))\n",
    "\n",
    "pd.DataFrame(finalResults).sort_values('langFrom').to_csv('predictorOutputWithAutomaticTranslationV2.csv')\n"
   ]
  },
  {
   "cell_type": "code",
   "execution_count": 539,
   "metadata": {},
   "outputs": [
    {
     "name": "stdout",
     "output_type": "stream",
     "text": [
      "ru ja 33851\n",
      "ru fr 57202\n",
      "ru ar 20047\n",
      "ru es 44546\n",
      "ru en 77783\n",
      "ja fr 43870\n",
      "ja es 33855\n",
      "ja en 59907\n",
      "fr ru 42270\n",
      "fr ja 32825\n",
      "fr ar 25961\n",
      "fr es 47675\n",
      "fr en 77446\n",
      "ar ru 11848\n",
      "ar ja 6921\n",
      "ar fr 25000\n",
      "ar es 15462\n",
      "ar en 35803\n",
      "es ru 45192\n",
      "es ja 4833\n",
      "es fr 58216\n",
      "es ar 5025\n",
      "es en 77383\n",
      "en ru 66571\n",
      "en ja 50258\n",
      "en fr 72221\n",
      "en ar 41629\n"
     ]
    }
   ],
   "source": [
    "#counting the number of candidates per pair\n",
    "for lang1,lang2 in permutations(langs,2):\n",
    "    try:\n",
    "        TestData=prepareDataNew(lang1,lang2)\n",
    "    \n",
    "        print(lang1,lang2,len(TestData.langTo.unique()))\n",
    "        \n",
    "    except:\n",
    "        pass"
   ]
  },
  {
   "cell_type": "code",
   "execution_count": 572,
   "metadata": {},
   "outputs": [],
   "source": [
    "import matplotlib.pyplot as plt\n",
    "def plotAccRank(results,K,title='',M=False):\n",
    "\n",
    "    for label,result in results.items():\n",
    "        posX = []\n",
    "        posY = []\n",
    "        posVal = 0\n",
    "        for n,(rank,val) in enumerate(sorted(result[K])):\n",
    "            posVal += val\n",
    "            posY.append(posVal/(n+1))\n",
    "            posX.append(rank)\n",
    "        plt.plot(posX,posY,label=label)\n",
    "    plt.legend()\n",
    "    if not M: M=max(posX)\n",
    "    plt.xlim(0,M)\n",
    "    plt.title(title)\n",
    "    plt.xlabel('Section Popularity (Ranking)')\n",
    "    plt.ylabel('Mapping Accuracy at %s' % K)"
   ]
  },
  {
   "cell_type": "code",
   "execution_count": 573,
   "metadata": {},
   "outputs": [
    {
     "data": {
      "image/png": "[encoded data removed]",
      "text/plain": [
       "<matplotlib.figure.Figure at 0x7f8757a038d0>"
      ]
     },
     "metadata": {},
     "output_type": "display_data"
    }
   ],
   "source": [
    "plotAccRank(accuracyPos['en'],1)\n"
   ]
  },
  {
   "cell_type": "code",
   "execution_count": 566,
   "metadata": {},
   "outputs": [
    {
     "data": {
      "image/png": "[encoded data removed]",
      "text/plain": [
       "<matplotlib.figure.Figure at 0x7f877544ada0>"
      ]
     },
     "metadata": {},
     "output_type": "display_data"
    }
   ],
   "source": [
    "plotAccRank(accuracyPos['fr'],1)\n"
   ]
  },
  {
   "cell_type": "code",
   "execution_count": 567,
   "metadata": {},
   "outputs": [
    {
     "data": {
      "image/png": "[encoded data removed]",
      "text/plain": [
       "<matplotlib.figure.Figure at 0x7f8737acb860>"
      ]
     },
     "metadata": {},
     "output_type": "display_data"
    }
   ],
   "source": [
    "plotAccRank(accuracyPos['en'],3)\n"
   ]
  },
  {
   "cell_type": "code",
   "execution_count": 569,
   "metadata": {},
   "outputs": [
    {
     "data": {
      "image/png": "[encoded data removed]",
      "text/plain": [
       "<matplotlib.figure.Figure at 0x7f8752ef5cc0>"
      ]
     },
     "metadata": {},
     "output_type": "display_data"
    }
   ],
   "source": [
    "plotAccRank(accuracyPos['en'],5)\n"
   ]
  },
  {
   "cell_type": "code",
   "execution_count": 574,
   "metadata": {},
   "outputs": [
    {
     "data": {
      "image/png": "[encoded data removed]",
      "text/plain": [
       "<matplotlib.figure.Figure at 0x7f874f19d3c8>"
      ]
     },
     "metadata": {},
     "output_type": "display_data"
    }
   ],
   "source": [
    "plotAccRank(accuracyPos['es'],K=5)\n"
   ]
  },
  {
   "cell_type": "code",
   "execution_count": 571,
   "metadata": {},
   "outputs": [
    {
     "data": {
      "image/png": "[encoded data removed]",
      "text/plain": [
       "<matplotlib.figure.Figure at 0x7f873e9cd978>"
      ]
     },
     "metadata": {},
     "output_type": "display_data"
    }
   ],
   "source": [
    "plotAccRank(accuracyPos['en'],1,'English to other languages')\n"
   ]
  },
  {
   "cell_type": "code",
   "execution_count": null,
   "metadata": {},
   "outputs": [],
   "source": [
    "plotAccRank(accuracyPosAT['ar'],1,'Arabic to Other Languages + GT')\n"
   ]
  },
  {
   "cell_type": "code",
   "execution_count": null,
   "metadata": {},
   "outputs": [],
   "source": [
    "plotAccRank(accuracyPosAT['en'],1,'English to Other Languages + GT')\n"
   ]
  },
  {
   "cell_type": "code",
   "execution_count": 431,
   "metadata": {
    "scrolled": true
   },
   "outputs": [
    {
     "data": {
      "image/png": "[encoded data removed]",
      "text/plain": [
       "<matplotlib.figure.Figure at 0x7f8757a24c50>"
      ]
     },
     "metadata": {},
     "output_type": "display_data"
    }
   ],
   "source": [
    "r = pd.DataFrame(finalResults)\n",
    "r['langPair'] = r['langFrom'] + '-' + r['langTo']\n",
    "r.set_index('langPair',inplace=True)\n",
    "r['improvementGT'] = r['Acc@1']-r['Baseline']\n",
    "r['improvementEmbeddings'] = r['Acc@1']-r['Baseline2 Acc@1']\n",
    "r['improvementEmbeddings@3'] = r['Acc@3']-r['Baseline2 Acc@3']\n",
    "r['improvementWikidatavsNormalEmbeddings'] = r['Baseline3 Acc@1']-r['Baseline2 Acc@1']\n",
    "r['improvementWikidatavsNormalEmbeddings@5'] = r['Baseline3 Acc@5']-r['Baseline2 Acc@5']\n",
    "\n",
    "g = r[r.Instances > 10].sort_values('Baseline',ascending=True)[['Baseline','Baseline2 Acc@1','Baseline3 Acc@1','Acc@1']].plot(kind='bar',sort_columns=True,figsize=(16,4))\n",
    "g.set_ylabel('Accuracy')\n",
    "g.set_xlabel('Lang pairs')\n",
    "g.set_title('Translation Accuracy (without Google Translate)')\n",
    "fig = g.get_figure()\n",
    "fig.savefig(\"translationAccuracyWithoutGT.png\")\n"
   ]
  },
  {
   "cell_type": "code",
   "execution_count": 521,
   "metadata": {},
   "outputs": [
    {
     "data": {
      "image/png": "[encoded data removed]",
      "text/plain": [
       "<matplotlib.figure.Figure at 0x7f875841ac50>"
      ]
     },
     "metadata": {},
     "output_type": "display_data"
    }
   ],
   "source": [
    "from matplotlib import cm\n",
    "\n",
    "r = pd.DataFrame(finalResults)\n",
    "r['langPair'] = r['langFrom'] + '-' + r['langTo']\n",
    "r.set_index('langPair',inplace=True)\n",
    "r['improvementGT'] = r['Acc@1']-r['Baseline']\n",
    "r['improvementEmbeddings'] = r['Acc@1']-r['Baseline2 Acc@1']\n",
    "r['improvementEmbeddings@3'] = r['Acc@3']-r['Baseline2 Acc@3']\n",
    "r['improvementEmbeddings@5'] = r['Acc@3']-r['Baseline2 Acc@5']\n",
    "\n",
    "r['improvementWikidatavsNormalEmbeddings'] = r['Baseline3 Acc@1']-r['Baseline2 Acc@1']\n",
    "r['improvementWikidatavsNormalEmbeddings@5'] = r['Baseline3 Acc@5']-r['Baseline2 Acc@5']\n",
    "\n",
    "\n",
    "g = r[r.Instances > 10].sort_values('improvementGT',ascending=False)[['improvementGT']].plot(kind='bar',sort_columns=True,figsize=(16,4),cmap=cm.get_cmap('winter'))\n",
    "g.set_ylabel('Improvement')\n",
    "g.set_xlabel('Lang pairs')\n",
    "g.set_title('WikiAlignments vs Google Translate')\n",
    "g.legend(['Improvement @ 1'])\n",
    "\n",
    "g.set_ylim(-.1,.8)\n",
    "g.hlines(xmin=-2,xmax=len(r),y=0,colors='r',linestyles='--')\n",
    "fig = g.get_figure()\n",
    "fig.savefig(\"translationImprovementOverGTWithoutGT.png\",bbox_inches='tight')\n"
   ]
  },
  {
   "cell_type": "code",
   "execution_count": 519,
   "metadata": {},
   "outputs": [
    {
     "data": {
      "image/png": "[encoded data removed]",
      "text/plain": [
       "<matplotlib.figure.Figure at 0x7f872b0c29e8>"
      ]
     },
     "metadata": {},
     "output_type": "display_data"
    }
   ],
   "source": [
    "from matplotlib import cm\n",
    "\n",
    "\n",
    "g = r[r.Instances > 10].sort_values('improvementEmbeddings',ascending=False)[['improvementEmbeddings','improvementEmbeddings@3','improvementEmbeddings@5']].plot(kind='bar',sort_columns=True,figsize=(16,4), cmap=cm.get_cmap('winter'))\n",
    "\n",
    "\n",
    "valuesAcc= r[r.Instances > 10].sort_values('improvementEmbeddings',ascending=False)['Acc@5']\n",
    "\n",
    "\n",
    "\n",
    "g.set_ylabel('Improvement')\n",
    "g.set_xlabel('Lang pairs (WikiAlignments Precision @ 5)')\n",
    "g.legend(['Improvement @1','Improvement @3','Improvement @5'])\n",
    "\n",
    "g.set_title('WikiAlignments vs Embeddings Aligment')\n",
    "g.set_ylim(-.1,1)\n",
    "g.hlines(xmin=-2,xmax=len(r),y=0,colors='r',linestyles='--')\n",
    "\n",
    "g.set_xticklabels([ '%s (%s)' % (label.get_text(),precision) for label,precision in  zip(g.get_xticklabels(),valuesAcc) ])\n",
    "\n",
    "\n",
    "fig = g.get_figure()\n",
    "fig.savefig(\"translationImprovementOverEmbeddingsWithoutGTMutipleK.png\",bbox_inches='tight')"
   ]
  },
  {
   "cell_type": "code",
   "execution_count": 490,
   "metadata": {},
   "outputs": [],
   "source": [
    "x = g.get_xticklabels()"
   ]
  },
  {
   "cell_type": "code",
   "execution_count": 499,
   "metadata": {},
   "outputs": [
    {
     "data": {
      "text/plain": [
       "'es-fr'"
      ]
     },
     "execution_count": 499,
     "metadata": {},
     "output_type": "execute_result"
    }
   ],
   "source": [
    "y= x[0]\n",
    "y.get_text()"
   ]
  },
  {
   "cell_type": "code",
   "execution_count": 448,
   "metadata": {},
   "outputs": [
    {
     "data": {
      "image/png": "[encoded data removed]",
      "text/plain": [
       "<matplotlib.figure.Figure at 0x7f87526e52e8>"
      ]
     },
     "metadata": {},
     "output_type": "display_data"
    }
   ],
   "source": [
    "g = r[r.Instances > 10].sort_values('improvementWikidatavsNormalEmbeddings',ascending=False)[['improvementWikidatavsNormalEmbeddings']].plot(kind='bar',sort_columns=True,figsize=(16,4))\n",
    "g.legend('')\n",
    "g.set_ylabel('Improvement')\n",
    "g.set_xlabel('Lang pairs')\n",
    "g.set_title('Wikidata Alignments vs dictionary-based Aligment')\n",
    "g.set_ylim(-0.1,.8)\n",
    "g.hlines(xmin=-2,xmax=len(r),y=0,colors='r',linestyles='--')\n",
    "fig = g.get_figure()\n"
   ]
  },
  {
   "cell_type": "code",
   "execution_count": 293,
   "metadata": {},
   "outputs": [
    {
     "data": {
      "image/png": "[encoded data removed]",
      "text/plain": [
       "<matplotlib.figure.Figure at 0x7f8764d46f28>"
      ]
     },
     "metadata": {},
     "output_type": "display_data"
    }
   ],
   "source": [
    "g = r[r.Instances > 10].sort_values('improvementWikidatavsNormalEmbeddings@5',ascending=False)[['improvementWikidatavsNormalEmbeddings@5']].plot(kind='bar',sort_columns=True,figsize=(16,4))\n",
    "g.legend('')\n",
    "g.set_ylabel('Improvement')\n",
    "g.set_xlabel('Lang pairs')\n",
    "g.set_title('Wikidata Alignments vs dictionary-based Aligment')\n",
    "g.set_ylim(-.3,.8)\n",
    "g.hlines(xmin=-2,xmax=len(r),y=0,colors='r',linestyles='--')\n",
    "fig = g.get_figure()"
   ]
  },
  {
   "cell_type": "code",
   "execution_count": 575,
   "metadata": {},
   "outputs": [
    {
     "data": {
      "image/png": "[encoded data removed]",
      "text/plain": [
       "<matplotlib.figure.Figure at 0x7f8757a0aeb8>"
      ]
     },
     "metadata": {},
     "output_type": "display_data"
    }
   ],
   "source": [
    "## Plots with GT\n",
    "\n",
    "r = pd.read_csv('predictorOutputWithAutomaticTranslationV2.csv')\n",
    "r['langPair'] = r['langFrom'] + '-' + r['langTo']\n",
    "r.set_index('langPair',inplace=True)\n",
    "r['improvementGT'] = r['Acc@1']-r['Baseline']\n",
    "r['improvementEmbeddings'] = r['Acc@1']-r['Baseline2 Acc@1']\n",
    "r['improvementEmbeddings@3'] = r['Acc@3']-r['Baseline2 Acc@3']\n",
    "r['improvementWikidatavsNormalEmbeddings'] = r['Baseline3 Acc@1']-r['Baseline2 Acc@1']\n",
    "r['improvementWikidatavsNormalEmbeddings@5'] = r['Baseline3 Acc@5']-r['Baseline2 Acc@5']\n",
    "g = r[r.Instances > 10].sort_values('improvementGT',ascending=False)[['improvementGT']].plot(kind='bar',sort_columns=True,figsize=(16,4),cmap=cm.get_cmap('winter'))\n",
    "g.set_ylabel('Improvement')\n",
    "g.set_xlabel('Lang pairs')\n",
    "g.set_title('WikiAlignments (plus Google Translate) vs Google Translate')\n",
    "g.legend('')\n",
    "\n",
    "g.set_ylim(0,.8)\n",
    "g.hlines(xmin=-2,xmax=len(r),y=0,colors='r',linestyles='--')\n",
    "fig = g.get_figure()\n",
    "fig.savefig(\"translationImprovementOverGTWithGT.png\",bbox_inches='tight')\n"
   ]
  },
  {
   "cell_type": "code",
   "execution_count": null,
   "metadata": {},
   "outputs": [],
   "source": []
  }
 ],
 "metadata": {
  "kernelspec": {
   "display_name": "Python 3",
   "language": "python",
   "name": "python3"
  },
  "language_info": {
   "codemirror_mode": {
    "name": "ipython",
    "version": 3
   },
   "file_extension": ".py",
   "mimetype": "text/x-python",
   "name": "python",
   "nbconvert_exporter": "python",
   "pygments_lexer": "ipython3",
   "version": "3.5.3"
  }
 },
 "nbformat": 4,
 "nbformat_minor": 2
}
