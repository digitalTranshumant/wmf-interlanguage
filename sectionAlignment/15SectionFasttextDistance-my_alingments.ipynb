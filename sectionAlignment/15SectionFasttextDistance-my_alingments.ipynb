{
 "cells": [
  {
   "cell_type": "markdown",
   "metadata": {},
   "source": [
    "## Setup notebook"
   ]
  },
  {
   "cell_type": "code",
   "execution_count": 1,
   "metadata": {},
   "outputs": [
    {
     "name": "stdout",
     "output_type": "stream",
     "text": [
      "Collecting fasttext\n",
      "  Downloading https://files.pythonhosted.org/packages/a4/86/ff826211bc9e28d4c371668b30b4b2c38a09127e5e73017b1c0cd52f9dfa/fasttext-0.8.3.tar.gz (73kB)\n",
      "\u001b[K    100% |████████████████████████████████| 81kB 4.3MB/s ta 0:00:011\n",
      "\u001b[?25hRequirement already satisfied: numpy>=1 in ./venv/lib/python3.5/site-packages (from fasttext)\n",
      "Requirement already satisfied: future in ./venv/lib/python3.5/site-packages (from fasttext)\n",
      "Building wheels for collected packages: fasttext\n",
      "  Running setup.py bdist_wheel for fasttext ... \u001b[?25ldone\n",
      "\u001b[?25h  Stored in directory: /home/dsaez/.cache/pip/wheels/73/8e/5d/ecb50b90adaab5868ae1d8df180f31e55e85c2f055aaf2fb35\n",
      "Successfully built fasttext\n",
      "Installing collected packages: fasttext\n",
      "Successfully installed fasttext-0.8.3\n"
     ]
    }
   ],
   "source": [
    "!pip install fasttext"
   ]
  },
  {
   "cell_type": "code",
   "execution_count": 2,
   "metadata": {},
   "outputs": [
    {
     "name": "stdout",
     "output_type": "stream",
     "text": [
      "Cloning into 'fastText_multilingual'...\n",
      "remote: Counting objects: 226, done.\u001b[K\n",
      "remote: Total 226 (delta 0), reused 0 (delta 0), pack-reused 226\u001b[K\n",
      "Receiving objects: 100% (226/226), 144.02 MiB | 37.09 MiB/s, done.\n",
      "Resolving deltas: 100% (29/29), done.\n"
     ]
    }
   ],
   "source": [
    "!git clone https://github.com/Babylonpartners/fastText_multilingual.git"
   ]
  },
  {
   "cell_type": "code",
   "execution_count": 10,
   "metadata": {},
   "outputs": [
    {
     "name": "stdout",
     "output_type": "stream",
     "text": [
      "--2018-08-23 22:40:23--  https://s3-us-west-1.amazonaws.com/fasttext-vectors/wiki.ru.vec\n",
      "Resolving webproxy.eqiad.wmnet (webproxy.eqiad.wmnet)... 2620:0:861:1:208:80:154:22, 208.80.154.22\n",
      "Connecting to webproxy.eqiad.wmnet (webproxy.eqiad.wmnet)|2620:0:861:1:208:80:154:22|:8080... connected.\n",
      "Proxy request sent, awaiting response... 200 OK\n",
      "Length: 4954492872 (4.6G) [binary/octet-stream]\n",
      "Saving to: ‘wiki.ru.vec.1’\n",
      "\n",
      "wiki.ru.vec.1       100%[===================>]   4.61G  34.2MB/s    in 7m 53s  \n",
      "\n",
      "2018-08-23 22:48:17 (9.98 MB/s) - ‘wiki.ru.vec.1’ saved [4954492872/4954492872]\n",
      "\n",
      "--2018-08-23 22:48:17--  https://s3-us-west-1.amazonaws.com/fasttext-vectors/wiki.ja.vec\n",
      "Resolving webproxy.eqiad.wmnet (webproxy.eqiad.wmnet)... 2620:0:861:1:208:80:154:22, 208.80.154.22\n",
      "Connecting to webproxy.eqiad.wmnet (webproxy.eqiad.wmnet)|2620:0:861:1:208:80:154:22|:8080... connected.\n",
      "Proxy request sent, awaiting response... 200 OK\n",
      "Length: 1374192861 (1.3G) [binary/octet-stream]\n",
      "Saving to: ‘wiki.ja.vec’\n",
      "\n",
      "wiki.ja.vec         100%[===================>]   1.28G  28.7MB/s    in 3m 1s   \n",
      "\n",
      "2018-08-23 22:51:20 (7.22 MB/s) - ‘wiki.ja.vec’ saved [1374192861/1374192861]\n",
      "\n",
      "--2018-08-23 22:51:20--  https://s3-us-west-1.amazonaws.com/fasttext-vectors/wiki.fr.vec\n",
      "Resolving webproxy.eqiad.wmnet (webproxy.eqiad.wmnet)... 2620:0:861:1:208:80:154:22, 208.80.154.22\n",
      "Connecting to webproxy.eqiad.wmnet (webproxy.eqiad.wmnet)|2620:0:861:1:208:80:154:22|:8080... connected.\n",
      "Proxy request sent, awaiting response... 200 OK\n",
      "Length: 3027096151 (2.8G) [binary/octet-stream]\n",
      "Saving to: ‘wiki.fr.vec’\n",
      "\n",
      "wiki.fr.vec         100%[===================>]   2.82G  14.7MB/s    in 4m 39s  \n",
      "\n",
      "2018-08-23 22:56:00 (10.3 MB/s) - ‘wiki.fr.vec’ saved [3027096151/3027096151]\n",
      "\n",
      "--2018-08-23 22:56:02--  https://s3-us-west-1.amazonaws.com/fasttext-vectors/wiki.es.vec\n",
      "Resolving webproxy.eqiad.wmnet (webproxy.eqiad.wmnet)... 2620:0:861:1:208:80:154:22, 208.80.154.22\n",
      "Connecting to webproxy.eqiad.wmnet (webproxy.eqiad.wmnet)|2620:0:861:1:208:80:154:22|:8080... connected.\n",
      "Proxy request sent, awaiting response... 200 OK\n",
      "Length: 2594302560 (2.4G) [binary/octet-stream]\n",
      "Saving to: ‘wiki.es.vec’\n",
      "\n",
      "wiki.es.vec         100%[===================>]   2.42G  50.8MB/s    in 5m 26s  \n",
      "\n",
      "2018-08-23 23:01:31 (7.58 MB/s) - ‘wiki.es.vec’ saved [2594302560/2594302560]\n",
      "\n",
      "--2018-08-23 23:01:31--  https://s3-us-west-1.amazonaws.com/fasttext-vectors/wiki.en.vec\n",
      "Resolving webproxy.eqiad.wmnet (webproxy.eqiad.wmnet)... 2620:0:861:1:208:80:154:22, 208.80.154.22\n",
      "Connecting to webproxy.eqiad.wmnet (webproxy.eqiad.wmnet)|2620:0:861:1:208:80:154:22|:8080... connected.\n",
      "Proxy request sent, awaiting response... 200 OK\n",
      "Length: 6597238061 (6.1G) [binary/octet-stream]\n",
      "Saving to: ‘wiki.en.vec’\n",
      "\n",
      "wiki.en.vec         100%[===================>]   6.14G  21.4MB/s    in 8m 28s  \n",
      "\n",
      "2018-08-23 23:10:00 (12.4 MB/s) - ‘wiki.en.vec’ saved [6597238061/6597238061]\n",
      "\n",
      "--2018-08-23 23:10:00--  https://s3-us-west-1.amazonaws.com/fasttext-vectors/wiki.ar.vec\n",
      "Resolving webproxy.eqiad.wmnet (webproxy.eqiad.wmnet)... 2620:0:861:1:208:80:154:22, 208.80.154.22\n",
      "Connecting to webproxy.eqiad.wmnet (webproxy.eqiad.wmnet)|2620:0:861:1:208:80:154:22|:8080... connected.\n",
      "Proxy request sent, awaiting response... 200 OK\n",
      "Length: 1610017300 (1.5G) [binary/octet-stream]\n",
      "Saving to: ‘wiki.ar.vec’\n",
      "\n",
      "wiki.ar.vec         100%[===================>]   1.50G  48.0MB/s    in 94s     \n",
      "\n",
      "2018-08-23 23:11:34 (16.4 MB/s) - ‘wiki.ar.vec’ saved [1610017300/1610017300]\n",
      "\n"
     ]
    }
   ],
   "source": [
    "### Download Fasttext pre-computed embbedings\n",
    "##### ATENTION, LANGS ARE HARD CODED HERE, FOR NEW LANGUAGES: CHANGE #####\n",
    "hardCodedLangs = ['ru', 'ja', 'fr', 'es', 'en', 'ar']\n",
    "for l in hardCodedLangs:\n",
    "    url= 'https://s3-us-west-1.amazonaws.com/fasttext-vectors/wiki.%s.vec' % l\n",
    "    !wget $url"
   ]
  },
  {
   "cell_type": "markdown",
   "metadata": {},
   "source": [
    "## Compute distances "
   ]
  },
  {
   "cell_type": "code",
   "execution_count": 1,
   "metadata": {},
   "outputs": [],
   "source": [
    "def fasttextDistance(sec1,sec2,vectorsLang1,vectorsLang2):\n",
    "    '''\n",
    "    Take two sections, create a vector for each of them summing all the words\n",
    "    return cosine similarity\n",
    "    '''\n",
    "    if (sec1!='') & (sec2!=''): #to avoid '' empty sections\n",
    "        sec1 = sec1.lower().split()\n",
    "        sec2 = sec2.lower().split()\n",
    "        sec1Vector  = sum([vectorsLang1[word] for word in sec1 if word in vectorsLang1])/len(sec1)\n",
    "        sec2Vector  = sum([vectorsLang2[word] for word in sec2 if word in vectorsLang2])/len(sec2)\n",
    "        distance  = vectorsLang2.cosine_similarity(sec1Vector,sec2Vector)\n",
    "        if not isinstance(distance,float): #when at least one of the sections is not the vectorial space, the result is 'nan'\n",
    "            return 0\n",
    "        else:\n",
    "            return distance\n",
    "    else:\n",
    "        return 0"
   ]
  },
  {
   "cell_type": "code",
   "execution_count": 3,
   "metadata": {},
   "outputs": [
    {
     "name": "stdout",
     "output_type": "stream",
     "text": [
      "reading word vectors from SectionAligmentData/wiki.en.vec\n",
      "en ============\n",
      "reading word vectors from SectionAligmentData/wiki.ja.vec\n",
      "ja\n"
     ]
    },
    {
     "name": "stderr",
     "output_type": "stream",
     "text": [
      "/srv/home/dsaez/fastText_multilingual/fasttext.py:144: RuntimeWarning: invalid value encountered in double_scalars\n",
      "  (np.linalg.norm(vec_a) * np.linalg.norm(vec_b))\n",
      "/srv/home/dsaez/fastText_multilingual/fasttext.py:144: RuntimeWarning: invalid value encountered in true_divide\n",
      "  (np.linalg.norm(vec_a) * np.linalg.norm(vec_b))\n"
     ]
    },
    {
     "name": "stdout",
     "output_type": "stream",
     "text": [
      "reading word vectors from SectionAligmentData/wiki.ar.vec\n",
      "ar\n"
     ]
    },
    {
     "name": "stderr",
     "output_type": "stream",
     "text": [
      "/srv/home/dsaez/fastText_multilingual/fasttext.py:144: RuntimeWarning: invalid value encountered in true_divide\n",
      "  (np.linalg.norm(vec_a) * np.linalg.norm(vec_b))\n",
      "/srv/home/dsaez/fastText_multilingual/fasttext.py:144: RuntimeWarning: invalid value encountered in double_scalars\n",
      "  (np.linalg.norm(vec_a) * np.linalg.norm(vec_b))\n"
     ]
    },
    {
     "name": "stdout",
     "output_type": "stream",
     "text": [
      "reading word vectors from SectionAligmentData/wiki.es.vec\n",
      "es\n"
     ]
    },
    {
     "name": "stderr",
     "output_type": "stream",
     "text": [
      "/srv/home/dsaez/fastText_multilingual/fasttext.py:144: RuntimeWarning: invalid value encountered in true_divide\n",
      "  (np.linalg.norm(vec_a) * np.linalg.norm(vec_b))\n",
      "/srv/home/dsaez/fastText_multilingual/fasttext.py:144: RuntimeWarning: invalid value encountered in double_scalars\n",
      "  (np.linalg.norm(vec_a) * np.linalg.norm(vec_b))\n"
     ]
    },
    {
     "name": "stdout",
     "output_type": "stream",
     "text": [
      "reading word vectors from SectionAligmentData/wiki.fr.vec\n",
      "fr\n"
     ]
    },
    {
     "name": "stderr",
     "output_type": "stream",
     "text": [
      "/srv/home/dsaez/fastText_multilingual/fasttext.py:144: RuntimeWarning: invalid value encountered in true_divide\n",
      "  (np.linalg.norm(vec_a) * np.linalg.norm(vec_b))\n",
      "/srv/home/dsaez/fastText_multilingual/fasttext.py:144: RuntimeWarning: invalid value encountered in double_scalars\n",
      "  (np.linalg.norm(vec_a) * np.linalg.norm(vec_b))\n"
     ]
    },
    {
     "name": "stdout",
     "output_type": "stream",
     "text": [
      "reading word vectors from SectionAligmentData/wiki.ru.vec\n",
      "ru\n"
     ]
    },
    {
     "name": "stderr",
     "output_type": "stream",
     "text": [
      "/srv/home/dsaez/fastText_multilingual/fasttext.py:144: RuntimeWarning: invalid value encountered in true_divide\n",
      "  (np.linalg.norm(vec_a) * np.linalg.norm(vec_b))\n",
      "/srv/home/dsaez/fastText_multilingual/fasttext.py:144: RuntimeWarning: invalid value encountered in double_scalars\n",
      "  (np.linalg.norm(vec_a) * np.linalg.norm(vec_b))\n"
     ]
    },
    {
     "name": "stdout",
     "output_type": "stream",
     "text": [
      "reading word vectors from SectionAligmentData/wiki.ru.vec\n",
      "ru ============\n",
      "reading word vectors from SectionAligmentData/wiki.ja.vec\n",
      "ja\n"
     ]
    },
    {
     "name": "stderr",
     "output_type": "stream",
     "text": [
      "/srv/home/dsaez/fastText_multilingual/fasttext.py:144: RuntimeWarning: invalid value encountered in true_divide\n",
      "  (np.linalg.norm(vec_a) * np.linalg.norm(vec_b))\n",
      "/srv/home/dsaez/fastText_multilingual/fasttext.py:144: RuntimeWarning: invalid value encountered in double_scalars\n",
      "  (np.linalg.norm(vec_a) * np.linalg.norm(vec_b))\n"
     ]
    },
    {
     "name": "stdout",
     "output_type": "stream",
     "text": [
      "reading word vectors from SectionAligmentData/wiki.ar.vec\n",
      "ar\n"
     ]
    },
    {
     "name": "stderr",
     "output_type": "stream",
     "text": [
      "/srv/home/dsaez/fastText_multilingual/fasttext.py:144: RuntimeWarning: invalid value encountered in true_divide\n",
      "  (np.linalg.norm(vec_a) * np.linalg.norm(vec_b))\n",
      "/srv/home/dsaez/fastText_multilingual/fasttext.py:144: RuntimeWarning: invalid value encountered in double_scalars\n",
      "  (np.linalg.norm(vec_a) * np.linalg.norm(vec_b))\n"
     ]
    },
    {
     "name": "stdout",
     "output_type": "stream",
     "text": [
      "reading word vectors from SectionAligmentData/wiki.es.vec\n",
      "es\n"
     ]
    },
    {
     "name": "stderr",
     "output_type": "stream",
     "text": [
      "/srv/home/dsaez/fastText_multilingual/fasttext.py:144: RuntimeWarning: invalid value encountered in true_divide\n",
      "  (np.linalg.norm(vec_a) * np.linalg.norm(vec_b))\n",
      "/srv/home/dsaez/fastText_multilingual/fasttext.py:144: RuntimeWarning: invalid value encountered in double_scalars\n",
      "  (np.linalg.norm(vec_a) * np.linalg.norm(vec_b))\n"
     ]
    },
    {
     "name": "stdout",
     "output_type": "stream",
     "text": [
      "reading word vectors from SectionAligmentData/wiki.fr.vec\n",
      "fr\n"
     ]
    },
    {
     "name": "stderr",
     "output_type": "stream",
     "text": [
      "/srv/home/dsaez/fastText_multilingual/fasttext.py:144: RuntimeWarning: invalid value encountered in true_divide\n",
      "  (np.linalg.norm(vec_a) * np.linalg.norm(vec_b))\n",
      "/srv/home/dsaez/fastText_multilingual/fasttext.py:144: RuntimeWarning: invalid value encountered in double_scalars\n",
      "  (np.linalg.norm(vec_a) * np.linalg.norm(vec_b))\n"
     ]
    },
    {
     "name": "stdout",
     "output_type": "stream",
     "text": [
      "reading word vectors from SectionAligmentData/wiki.fr.vec\n",
      "fr ============\n",
      "reading word vectors from SectionAligmentData/wiki.ja.vec\n",
      "ja\n"
     ]
    },
    {
     "name": "stderr",
     "output_type": "stream",
     "text": [
      "/srv/home/dsaez/fastText_multilingual/fasttext.py:144: RuntimeWarning: invalid value encountered in true_divide\n",
      "  (np.linalg.norm(vec_a) * np.linalg.norm(vec_b))\n",
      "/srv/home/dsaez/fastText_multilingual/fasttext.py:144: RuntimeWarning: invalid value encountered in double_scalars\n",
      "  (np.linalg.norm(vec_a) * np.linalg.norm(vec_b))\n"
     ]
    },
    {
     "name": "stdout",
     "output_type": "stream",
     "text": [
      "reading word vectors from SectionAligmentData/wiki.ar.vec\n",
      "ar\n"
     ]
    },
    {
     "name": "stderr",
     "output_type": "stream",
     "text": [
      "/srv/home/dsaez/fastText_multilingual/fasttext.py:144: RuntimeWarning: invalid value encountered in true_divide\n",
      "  (np.linalg.norm(vec_a) * np.linalg.norm(vec_b))\n",
      "/srv/home/dsaez/fastText_multilingual/fasttext.py:144: RuntimeWarning: invalid value encountered in double_scalars\n",
      "  (np.linalg.norm(vec_a) * np.linalg.norm(vec_b))\n"
     ]
    },
    {
     "name": "stdout",
     "output_type": "stream",
     "text": [
      "reading word vectors from SectionAligmentData/wiki.es.vec\n",
      "es\n"
     ]
    },
    {
     "name": "stderr",
     "output_type": "stream",
     "text": [
      "/srv/home/dsaez/fastText_multilingual/fasttext.py:144: RuntimeWarning: invalid value encountered in true_divide\n",
      "  (np.linalg.norm(vec_a) * np.linalg.norm(vec_b))\n",
      "/srv/home/dsaez/fastText_multilingual/fasttext.py:144: RuntimeWarning: invalid value encountered in double_scalars\n",
      "  (np.linalg.norm(vec_a) * np.linalg.norm(vec_b))\n"
     ]
    },
    {
     "name": "stdout",
     "output_type": "stream",
     "text": [
      "reading word vectors from SectionAligmentData/wiki.es.vec\n",
      "es ============\n",
      "reading word vectors from SectionAligmentData/wiki.ja.vec\n",
      "ja\n"
     ]
    },
    {
     "name": "stderr",
     "output_type": "stream",
     "text": [
      "/srv/home/dsaez/fastText_multilingual/fasttext.py:144: RuntimeWarning: invalid value encountered in true_divide\n",
      "  (np.linalg.norm(vec_a) * np.linalg.norm(vec_b))\n",
      "/srv/home/dsaez/fastText_multilingual/fasttext.py:144: RuntimeWarning: invalid value encountered in double_scalars\n",
      "  (np.linalg.norm(vec_a) * np.linalg.norm(vec_b))\n"
     ]
    },
    {
     "name": "stdout",
     "output_type": "stream",
     "text": [
      "reading word vectors from SectionAligmentData/wiki.ar.vec\n",
      "ar\n"
     ]
    },
    {
     "name": "stderr",
     "output_type": "stream",
     "text": [
      "/srv/home/dsaez/fastText_multilingual/fasttext.py:144: RuntimeWarning: invalid value encountered in true_divide\n",
      "  (np.linalg.norm(vec_a) * np.linalg.norm(vec_b))\n",
      "/srv/home/dsaez/fastText_multilingual/fasttext.py:144: RuntimeWarning: invalid value encountered in double_scalars\n",
      "  (np.linalg.norm(vec_a) * np.linalg.norm(vec_b))\n"
     ]
    },
    {
     "name": "stdout",
     "output_type": "stream",
     "text": [
      "reading word vectors from SectionAligmentData/wiki.ar.vec\n",
      "ar ============\n",
      "reading word vectors from SectionAligmentData/wiki.ja.vec\n",
      "ja\n"
     ]
    },
    {
     "name": "stderr",
     "output_type": "stream",
     "text": [
      "/srv/home/dsaez/fastText_multilingual/fasttext.py:144: RuntimeWarning: invalid value encountered in true_divide\n",
      "  (np.linalg.norm(vec_a) * np.linalg.norm(vec_b))\n",
      "/srv/home/dsaez/fastText_multilingual/fasttext.py:144: RuntimeWarning: invalid value encountered in double_scalars\n",
      "  (np.linalg.norm(vec_a) * np.linalg.norm(vec_b))\n"
     ]
    },
    {
     "name": "stdout",
     "output_type": "stream",
     "text": [
      "reading word vectors from SectionAligmentData/wiki.ja.vec\n",
      "ja ============\n"
     ]
    }
   ],
   "source": [
    "import glob,os\n",
    "import os\n",
    "from itertools import product\n",
    "from fastText_multilingual.fasttext import FastVector\n",
    "import pandas as pd\n",
    "\n",
    "output = []\n",
    "\n",
    "vectors = sorted(glob.glob('SectionAligmentData/wiki.*.vec'), key=os.path.getsize) #sorted by size to load the largest files just once\n",
    "lang2 = ''\n",
    "while vectors:\n",
    "    lang1 = vectors.pop()\n",
    "    lang1_dictionary = FastVector(vector_file=lang1)\n",
    "    lang1_code = lang1.split('.')[1]\n",
    "    print(lang1_code,'============')\n",
    "    #secsLang1 = pd.read_csv('SectionAligmentData/%s.tsv' % lang1_code,'\\t')['source_title'].unique()\n",
    "    for lang2 in vectors:\n",
    "        lang2_dictionary = FastVector(vector_file=lang2)\n",
    "        lang2_code = lang2.split('.')[1]\n",
    "        print(lang2_code)\n",
    "        lang2_dictionary.apply_transform('my_alingments/apply_in_%s_to_%s.txt' % (lang2_code,lang1_code))\n",
    "        secsLang2 = pd.read_csv('SectionAligmentData/%s.tsv' % lang2_code,'\\t')['source_title'].unique()\n",
    "        try:\n",
    "            secPairs = pd.read_pickle('resultsMapping-CoOcurrenceCountPandas/mapping_%s_%s.p' % (lang1_code,lang2_code))\n",
    "        except:\n",
    "            secPairs = pd.read_pickle('resultsMapping-CoOcurrenceCountPandas/mapping_%s_%s.p' % (lang2_code,lang1_code))\n",
    "        del(secPairs['count']) # we dont use the co ocurrence count.\n",
    "        secPairs['Distance'] = secPairs.apply(lambda row: fasttextDistance(row[lang1_code],row[lang2_code],lang1_dictionary,lang2_dictionary),axis=1)\n",
    "        secPairs.to_pickle('FastTextDistances-my_alingments/distances_%s_%s.p' %  (lang1_code,lang2_code))\n",
    "        \n"
   ]
  },
  {
   "cell_type": "code",
   "execution_count": null,
   "metadata": {},
   "outputs": [],
   "source": []
  }
 ],
 "metadata": {
  "kernelspec": {
   "display_name": "Python 3",
   "language": "python",
   "name": "python3"
  },
  "language_info": {
   "codemirror_mode": {
    "name": "ipython",
    "version": 3
   },
   "file_extension": ".py",
   "mimetype": "text/x-python",
   "name": "python",
   "nbconvert_exporter": "python",
   "pygments_lexer": "ipython3",
   "version": "3.5.3"
  }
 },
 "nbformat": 4,
 "nbformat_minor": 2
}
