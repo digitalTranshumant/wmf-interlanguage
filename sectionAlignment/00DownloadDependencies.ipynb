{
 "cells": [
  {
   "cell_type": "markdown",
   "metadata": {},
   "source": [
    "## Notebook Setup\n",
    "* Install Fasttext\n",
    "* Install Fasttext_Multilingual\n",
    "* Install googletrans "
   ]
  },
  {
   "cell_type": "code",
   "execution_count": 2,
   "metadata": {},
   "outputs": [
    {
     "name": "stdout",
     "output_type": "stream",
     "text": [
      "Collecting Cython\n",
      "  Using cached https://files.pythonhosted.org/packages/19/8e/32b280abb0947a96cdbb8329fb2014851a21fc1d099009f946ea8a8202c3/Cython-0.28.5-cp36-cp36m-manylinux1_x86_64.whl\n",
      "Installing collected packages: Cython\n",
      "Successfully installed Cython-0.28.5\n",
      "Collecting fasttext\n",
      "  Using cached https://files.pythonhosted.org/packages/a4/86/ff826211bc9e28d4c371668b30b4b2c38a09127e5e73017b1c0cd52f9dfa/fasttext-0.8.3.tar.gz\n",
      "Requirement already satisfied: numpy>=1 in /srv/paws/lib/python3.6/site-packages (from fasttext)\n",
      "Collecting future (from fasttext)\n",
      "  Using cached https://files.pythonhosted.org/packages/00/2b/8d082ddfed935f3608cc61140df6dcbf0edea1bc3ab52fb6c29ae3e81e85/future-0.16.0.tar.gz\n",
      "Building wheels for collected packages: fasttext, future\n",
      "  Running setup.py bdist_wheel for fasttext ... \u001b[?25lerror\n",
      "  Complete output from command /srv/paws/bin/python3.6 -u -c \"import setuptools, tokenize;__file__='/tmp/pip-build-tbyp4o06/fasttext/setup.py';f=getattr(tokenize, 'open', open)(__file__);code=f.read().replace('\\r\\n', '\\n');f.close();exec(compile(code, __file__, 'exec'))\" bdist_wheel -d /tmp/tmpdjsrrqqspip-wheel- --python-tag cp36:\n",
      "  usage: -c [global_opts] cmd1 [cmd1_opts] [cmd2 [cmd2_opts] ...]\n",
      "     or: -c --help [cmd1 cmd2 ...]\n",
      "     or: -c --help-commands\n",
      "     or: -c cmd --help\n",
      "  \n",
      "  error: invalid command 'bdist_wheel'\n",
      "  \n",
      "  ----------------------------------------\n",
      "\u001b[31m  Failed building wheel for fasttext\u001b[0m\n",
      "\u001b[?25h  Running setup.py clean for fasttext\n",
      "  Running setup.py bdist_wheel for future ... \u001b[?25lerror\n",
      "  Complete output from command /srv/paws/bin/python3.6 -u -c \"import setuptools, tokenize;__file__='/tmp/pip-build-tbyp4o06/future/setup.py';f=getattr(tokenize, 'open', open)(__file__);code=f.read().replace('\\r\\n', '\\n');f.close();exec(compile(code, __file__, 'exec'))\" bdist_wheel -d /tmp/tmpwjmkjpxspip-wheel- --python-tag cp36:\n",
      "  usage: -c [global_opts] cmd1 [cmd1_opts] [cmd2 [cmd2_opts] ...]\n",
      "     or: -c --help [cmd1 cmd2 ...]\n",
      "     or: -c --help-commands\n",
      "     or: -c cmd --help\n",
      "  \n",
      "  error: invalid command 'bdist_wheel'\n",
      "  \n",
      "  ----------------------------------------\n",
      "\u001b[31m  Failed building wheel for future\u001b[0m\n",
      "\u001b[?25h  Running setup.py clean for future\n",
      "Failed to build fasttext future\n",
      "Installing collected packages: future, fasttext\n",
      "  Running setup.py install for future ... \u001b[?25ldone\n",
      "\u001b[?25h  Running setup.py install for fasttext ... \u001b[?25ldone\n",
      "\u001b[?25hSuccessfully installed fasttext-0.8.3 future-0.16.0\n"
     ]
    }
   ],
   "source": [
    "#Install fasttext\n",
    "!pip install Cython\n",
    "!pip install fasttext"
   ]
  },
  {
   "cell_type": "code",
   "execution_count": null,
   "metadata": {},
   "outputs": [],
   "source": []
  },
  {
   "cell_type": "code",
   "execution_count": 3,
   "metadata": {},
   "outputs": [
    {
     "name": "stdout",
     "output_type": "stream",
     "text": [
      "Cloning into 'fastText_multilingual'...\n",
      "remote: Counting objects: 226, done.\u001b[K\n",
      "remote: Total 226 (delta 0), reused 0 (delta 0), pack-reused 226\u001b[K\n",
      "Receiving objects: 100% (226/226), 144.02 MiB | 23.67 MiB/s, done.\n",
      "Resolving deltas: 100% (29/29), done.\n",
      "Checking out files: 100% (83/83), done.\n"
     ]
    }
   ],
   "source": [
    "### Download BabelFasttext\n",
    "!git clone https://github.com/Babylonpartners/fastText_multilingual"
   ]
  },
  {
   "cell_type": "code",
   "execution_count": null,
   "metadata": {},
   "outputs": [
    {
     "name": "stdout",
     "output_type": "stream",
     "text": [
      "--2018-08-23 18:05:40--  https://s3-us-west-1.amazonaws.com/fasttext-vectors/wiki.ru.vec\n",
      "Resolving s3-us-west-1.amazonaws.com (s3-us-west-1.amazonaws.com)... 52.219.28.45\n",
      "Connecting to s3-us-west-1.amazonaws.com (s3-us-west-1.amazonaws.com)|52.219.28.45|:443... connected.\n",
      "HTTP request sent, awaiting response... 200 OK\n",
      "Length: 4954492872 (4.6G) [binary/octet-stream]\n",
      "Saving to: ‘wiki.ru.vec’\n",
      "\n",
      "wiki.ru.vec           5%[>                   ] 278.40M  6.95MB/s    eta 39m 4s "
     ]
    }
   ],
   "source": [
    "UNCOMMENT HERE TO RUN THIS\n",
    "### Download Fasttext pre-computed embbedings\n",
    "##### ATENTION, LANGS ARE HARD CODED HERE, FOR NEW LANGUAGES CHANGE #####\n",
    "hardCodedLangs = ['ru', 'ja', 'fr', 'es', 'en', 'ar']\n",
    "for l in hardCodedLangs:\n",
    "    url= 'https://s3-us-west-1.amazonaws.com/fasttext-vectors/wiki.%s.vec' % l\n",
    "    !wget $url\n",
    "\n"
   ]
  },
  {
   "cell_type": "code",
   "execution_count": 88,
   "metadata": {},
   "outputs": [
    {
     "name": "stdout",
     "output_type": "stream",
     "text": [
      "--2018-09-12 18:43:34--  https://s3-us-west-1.amazonaws.com/fasttext-vectors/wiki.fa.vec\n",
      "Resolving webproxy.eqiad.wmnet (webproxy.eqiad.wmnet)... 2620:0:861:1:208:80:154:22, 208.80.154.22\n",
      "Connecting to webproxy.eqiad.wmnet (webproxy.eqiad.wmnet)|2620:0:861:1:208:80:154:22|:8080... connected.\n",
      "Proxy request sent, awaiting response... 200 OK\n",
      "Length: 1105157170 (1.0G) [binary/octet-stream]\n",
      "Saving to: ‘wiki.fa.vec’\n",
      "\n",
      "wiki.fa.vec         100%[===================>]   1.03G  12.7MB/s    in 2m 16s  \n",
      "\n",
      "2018-09-12 18:45:51 (7.73 MB/s) - ‘wiki.fa.vec’ saved [1105157170/1105157170]\n",
      "\n",
      "--2018-09-12 18:45:52--  https://s3-us-west-1.amazonaws.com/fasttext-vectors/wiki.it.vec\n",
      "Resolving webproxy.eqiad.wmnet (webproxy.eqiad.wmnet)... 2620:0:861:1:208:80:154:22, 208.80.154.22\n",
      "Connecting to webproxy.eqiad.wmnet (webproxy.eqiad.wmnet)|2620:0:861:1:208:80:154:22|:8080... connected.\n",
      "Proxy request sent, awaiting response... 200 OK\n",
      "Length: 2288554213 (2.1G) [binary/octet-stream]\n",
      "Saving to: ‘wiki.it.vec’\n",
      "\n",
      "wiki.it.vec         100%[===================>]   2.13G  14.8MB/s    in 2m 30s  \n",
      "\n",
      "2018-09-12 18:48:22 (14.6 MB/s) - ‘wiki.it.vec’ saved [2288554213/2288554213]\n",
      "\n"
     ]
    }
   ],
   "source": [
    "## Add new Langs\n",
    "hardCodedLangs = ['fa','it']\n",
    "for l in hardCodedLangs:\n",
    "    url= 'https://s3-us-west-1.amazonaws.com/fasttext-vectors/wiki.%s.vec' % l\n",
    "    !wget $url\n",
    "\n",
    "\n"
   ]
  }
 ],
 "metadata": {
  "kernelspec": {
   "display_name": "Python 3",
   "language": "python",
   "name": "python3"
  },
  "language_info": {
   "codemirror_mode": {
    "name": "ipython",
    "version": 3
   },
   "file_extension": ".py",
   "mimetype": "text/x-python",
   "name": "python",
   "nbconvert_exporter": "python",
   "pygments_lexer": "ipython3",
   "version": "3.5.3"
  }
 },
 "nbformat": 4,
 "nbformat_minor": 2
}
