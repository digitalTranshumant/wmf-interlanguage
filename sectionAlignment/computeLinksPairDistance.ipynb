{
 "cells": [
  {
   "cell_type": "code",
   "execution_count": null,
   "metadata": {},
   "outputs": [],
   "source": [
    "# double check this, I have moved things"
   ]
  },
  {
   "cell_type": "code",
   "execution_count": null,
   "metadata": {},
   "outputs": [],
   "source": [
    "import pandas,os,glob,numpy as np\n",
    "vectors = sorted(glob.glob('multiLanguageFromDumpsSecLinks/*'), key=os.path.getsize)\n"
   ]
  },
  {
   "cell_type": "code",
   "execution_count": null,
   "metadata": {},
   "outputs": [],
   "source": [
    "import json\n",
    "def jaccard(x):\n",
    "    a = set(json.loads(x[0].replace(\"'\",'\"')))\n",
    "    b = set(json.loads(x[1].replace(\"'\",'\"')))\n",
    "    return len(a.intersection(b)) / len(a.union(b)) , len(a.intersection(b)) "
   ]
  },
  {
   "cell_type": "code",
   "execution_count": null,
   "metadata": {},
   "outputs": [],
   "source": [
    "while vectors:\n",
    "    lang1 = vectors.pop()\n",
    "    print(lang1)\n",
    "    lang1_code = lang1.split('_')[-1][:-4]\n",
    "    df = pandas.read_csv(lang1,sep='\\t',header=None).rename(columns={0:'q',1:lang1_code,2:'links'})\n",
    "    df.set_index('q',inplace=True)\n",
    "    #df = df[df.index.isin(articleFilter)]\n",
    "    for lang2 in vectors:\n",
    "        lang2_code = lang2.split('_')[-1][:-4]\n",
    "        print(lang2)\n",
    "        df2 = pandas.read_csv(lang2,sep='\\t',header=None).rename(columns={0:'q',1:lang2_code,2:'links'})\n",
    "        df2.set_index('q',inplace=True)\n",
    "        #df2 = df2[df2.index.isin(articleFilter)]\n",
    "        dfs = df.join(df2,how='inner',rsuffix='_2')\n",
    "        pairs = zip(dfs['links'],dfs['links_2'])\n",
    "        result = map(jaccard,pairs)\n",
    "        #prepare output\n",
    "        del(dfs['links'])\n",
    "        del(dfs['links_2'])\n",
    "        dfs.reset_index(inplace=True)\n",
    "        dfs['jaccard'] = pandas.Series(result)\n",
    "        dfs[['links_jaccard','links_common']] = pandas.DataFrame(dfs['jaccard'].values.tolist())\n",
    "        del(dfs['jaccard'])\n",
    "        dfs = dfs[[lang1_code,lang2_code,'links_jaccard','links_common']].groupby([lang1_code,lang2_code]).agg(['mean','median','sum']).reset_index()\n",
    "        dfs.columns =['%s%s' % (x,y.upper()) for x,y in dfs.columns.tolist()]   #flatten index                                      \n",
    "        dfs.to_pickle('linksSimilarities/%s_%s.p' % (lang1_code,lang2_code))\n",
    "   "
   ]
  },
  {
   "cell_type": "code",
   "execution_count": null,
   "metadata": {},
   "outputs": [],
   "source": []
  }
 ],
 "metadata": {
  "kernelspec": {
   "display_name": "Python 3",
   "language": "python",
   "name": "python3"
  },
  "language_info": {
   "codemirror_mode": {
    "name": "ipython",
    "version": 3
   },
   "file_extension": ".py",
   "mimetype": "text/x-python",
   "name": "python",
   "nbconvert_exporter": "python",
   "pygments_lexer": "ipython3",
   "version": "3.5.3"
  }
 },
 "nbformat": 4,
 "nbformat_minor": 2
}
