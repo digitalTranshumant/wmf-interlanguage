{
 "cells": [
  {
   "cell_type": "markdown",
   "metadata": {},
   "source": [
    "# Section Recommendation / Inter-lingual approach\n",
    "\n",
    "This notebook implements section recommendation based on the Section Aligments. \n",
    "Given an article in language a target language T, though Wikidata retrieves the section of the same in article in other languages, and provides a recommendations."
   ]
  },
  {
   "cell_type": "code",
   "execution_count": 1,
   "metadata": {},
   "outputs": [],
   "source": [
    "import pandas as pd\n",
    "import requests\n",
    "import re\n",
    "\n",
    "#Config\n",
    "suportedLangs = ['fr','en','es','ja','ar','ru']"
   ]
  },
  {
   "cell_type": "code",
   "execution_count": 470,
   "metadata": {},
   "outputs": [],
   "source": [
    "#Loads alignments \n",
    "\n",
    "import os \n",
    "rec = {}\n",
    "for f in os.listdir('recSheetsTSV/'):\n",
    "    lang1 = f[0:2]\n",
    "    lang2 = f[6:8]\n",
    "    rec[lang1] = rec.get(lang1,{})\n",
    "    rec[lang1][lang2] = pd.read_csv('recSheetsTSV/'+f,sep='\\t')\n",
    "    rec[lang1][lang2].set_index('secFrom',inplace=True)\n",
    "\n",
    "\n"
   ]
  },
  {
   "cell_type": "code",
   "execution_count": 473,
   "metadata": {},
   "outputs": [],
   "source": [
    "## Section parser\n",
    "sections_RE = re.compile(r'(^|[^=])==([^=\\n\\r]+)==([^=]|$)')\n",
    "def extract_sections(text):\n",
    "    for m in sections_RE.finditer(text):\n",
    "        yield m.group(2).strip()\n",
    "\n",
    "#Get articles\n",
    "def getContent(title,lang):\n",
    "    url = \"https://%s.wikipedia.org/w/api.php?action=query&prop=revisions&rvprop=content&format=json&formatversion=2&titles=%s\" % (lang,title)\n",
    "    response = requests.get(url)\n",
    "    content = response.json()['query']['pages'][0]['revisions'][0]['content']\n",
    "    return content\n",
    "\n",
    "def getPages(title,lang,target=suportedLangs):\n",
    "    \"\"\"\n",
    "    title: page title in target language\n",
    "    lang: target language\n",
    "    target: List of Pages \n",
    "    returns a dictionary 'x_wiki':x_title\n",
    "    \"\"\"\n",
    "    response= requests.get(\"https://www.wikidata.org/w/api.php?action=wbgetentities&sites=%swiki&titles=%s&props=sitelinks&format=json\" % (lang,title))\n",
    "    output ={}\n",
    "    assert list(response.json()['entities'].values())[0]['sitelinks'], \"Oh no! This assertion failed!\"\n",
    "    links = list(response.json()['entities'].values())[0]['sitelinks']\n",
    "    for t in target:\n",
    "        if t+'wiki' in links:\n",
    "            output[t] = links[t+'wiki' ]['title']\n",
    "        \n",
    "    return output\n",
    "\n",
    "def getAllLangs(title,lang):\n",
    "    \"\"\"\n",
    "    title: page title in target language\n",
    "    lang: target language\n",
    "    returns a dictionary 'x_wiki':list_of_sections_in_x \n",
    "    \"\"\"\n",
    "    secs = {}\n",
    "    for l,page in getPages(title,lang).items():\n",
    "        print(l,page)\n",
    "        secs[l]  = list(extract_sections(getContent(page,l)))\n",
    "    return secs\n"
   ]
  },
  {
   "cell_type": "code",
   "execution_count": 442,
   "metadata": {},
   "outputs": [],
   "source": [
    "import networkx as nx\n",
    "import json\n",
    "\n",
    "#For each section in language X, we have N possible mappings with certain probability. \n",
    "#Ex: 'Vida temprana' in Spanish maps to 'Early Life,p=0.9','Early Years,p=.8','References,p=0.3' in English\n",
    "#Given two languages X and Y, we want to find the most similar clusters considering the mapped sections\n",
    "def getMostSimilarClusters(c1,c2): \n",
    "    \"\"\"\n",
    "    c1: dictionary of sections in language 1 (allready mapped to target language) with a giving probability\n",
    "    c2: dictionary of sections in language 2 (allready mapped to target languages) with a giving probability\n",
    "    \"\"\"\n",
    "    G = nx.Graph()\n",
    "    mostSimilar = []\n",
    "    for pos1,dict_1 in enumerate(c1):\n",
    "        for pos2,dict_2 in enumerate(c2):\n",
    "            dot_product = sum(dict_1[key]*dict_2.get(key, 0) for key in dict_1)\n",
    "            G.add_edge((1,pos1),(2,pos2))\n",
    "            G[(1,pos1)][(2,pos2)]['w'] = dot_product\n",
    "    for a, b, data in sorted(G.edges(data=True), key=lambda x: x[2]['w'],reverse=True):\n",
    "        try:\n",
    "            G.remove_node(a)\n",
    "            G.remove_node(b)   \n",
    "            sortedNodes  = sorted([a,b])\n",
    "            mostSimilar.append((sortedNodes[0][1],sortedNodes[1][1]))\n",
    "        except:\n",
    "            pass #one of the nodes was already paried\n",
    "    return mostSimilar\n",
    "\n",
    "#Given a template dictionary of sections c1\n",
    "#and another dictionary of sections c2\n",
    "#update  probabilities on c1 based on information c2\n",
    "def updateClusterWeights(c1,c2): #c1 is the template to be updated\n",
    "    \"\"\"\n",
    "    c1: dictionary of sections in language 1 (allready mapped to target language) with a giving probability\n",
    "    c2: dictionary of sections in language 2 (allready mapped to target languages) with a giving probability\n",
    "    \"\"\"\n",
    "    for s1,s2 in getMostSimilarClusters(c1,c2):\n",
    "        for s in c1[s1].keys() & c2[s2].keys():\n",
    "            c1[s1][s] = c1[s1][s] + c2[s2][s]\n",
    "    return c1\n",
    "        "
   ]
  },
  {
   "cell_type": "code",
   "execution_count": 495,
   "metadata": {},
   "outputs": [],
   "source": [
    "def getRecs(title,TargetLang):\n",
    "    '''\n",
    "    title: Article to get recommendations (ex:'Quilombo')\n",
    "    Target: Language of the article (ex:'en')\n",
    "    '''\n",
    "    #load translations\n",
    "    global rec\n",
    "    # get sections in all Languages\n",
    "    secs = getAllLangs(title,TargetLang)\n",
    "    # get a list of the sources languages\n",
    "    sourceLangs = set(secs.keys()) - {TargetLang}\n",
    "    #count amount of sections in the target language\n",
    "    lenTarget = len(secs[TargetLang])\n",
    "    #count the number of sections in each source lang, produce a tuple (SecCount,Lang)\n",
    "    lenSources = [(len(s),l) for l,s in secs.items() if l != TargetLang]\n",
    "    #use the language with more sections as template\n",
    "    templateLang = max(lenSources)[1]\n",
    "    secsMapped = {}\n",
    "    #For all source languages S, take all sections in S and map to the target languge T, with it's probability\n",
    "    for lang in sourceLangs:\n",
    "        df = rec[lang][TargetLang]\n",
    "        secsMapped[lang] = []\n",
    "        for sec in secs[lang]:\n",
    "            tmp = df[df.index ==sec][['langTo','prob']]\n",
    "            secsMapped[lang].append(dict(zip(tmp.langTo,tmp.prob)))\n",
    "    #Use the language with more sections as template\n",
    "    templateRec = secsMapped[templateLang]\n",
    "    #Update the template using the remaining languages\n",
    "    for lang in sourceLangs:\n",
    "        if lang != templateLang:\n",
    "            templateRec = updateClusterWeights(templateRec,secsMapped[lang])\n",
    "    finalRecs = []\n",
    "    for cluster in templateRec:\n",
    "        if cluster: #check cluster is not empty\n",
    "            candidates = [recTuple[0] for recTuple in sorted(cluster.items(),  key=lambda x: x[1],reverse=True)][:3]\n",
    "            if not (set(candidates) & set(secs[TargetLang])):\n",
    "                finalRecs.append(candidates[0])\n",
    "    return json.dumps(list(set(finalRecs)))\n"
   ]
  },
  {
   "cell_type": "code",
   "execution_count": 481,
   "metadata": {
    "scrolled": true
   },
   "outputs": [
    {
     "name": "stdout",
     "output_type": "stream",
     "text": [
      "ar غابرييل غارثيا ماركيث\n",
      "fr Gabriel García Márquez\n",
      "ru Гарсиа Маркес, Габриэль\n",
      "en Gabriel García Márquez\n",
      "ja ガブリエル・ガルシア＝マルケス\n",
      "es Gabriel García Márquez\n"
     ]
    },
    {
     "data": {
      "text/plain": [
       "'[\"Works\"]'"
      ]
     },
     "execution_count": 481,
     "metadata": {},
     "output_type": "execute_result"
    }
   ],
   "source": [
    " getRecs('Gabriel_García_Márquez','en')"
   ]
  },
  {
   "cell_type": "code",
   "execution_count": 496,
   "metadata": {},
   "outputs": [
    {
     "name": "stdout",
     "output_type": "stream",
     "text": [
      "ru Киломбу\n",
      "en Quilombo\n",
      "fr Quilombo (esclavage)\n",
      "es Quilombo\n",
      "{'es': ['Historia', 'Infraestructura', 'Organización', 'Economía', 'Véase también', 'Referencias', 'Bibliografía'], 'en': ['Lives of slaves', 'History', 'Palmares', 'Movie', 'Constitution of Brazil', 'In Castilian', 'See also', 'References', 'Further reading', 'External links'], 'fr': ['Histoire', 'Étymologie', 'Organisation', 'Économie', 'Notes et références'], 'ru': ['Примечания']}\n",
      "{'ru': [{'Footnotes': 0.9801848530769348, 'References and notes': 0.9524641633033752, 'Citations': 0.949655055999756, 'Notes and references': 0.9438883066177368, 'Notes': 0.982460916042328, 'Bibliography': 0.9128163456916808, 'References': 0.9946438074111938, 'External links': 0.8982529044151306, 'Further reading': 0.922937273979187, 'Sources': 0.9584944248199464}], 'fr': [{'History': 0.9977226853370668, 'Discovery': 0.5326027870178223, 'Service history': 0.5549576878547668, 'Publication history': 0.5412408709526062, 'Early history': 0.7285196781158447, 'Synopsis': 0.5094431042671204, 'Story': 0.8846527338027954, 'History and profile': 0.624829113483429, 'Geography': 0.8961514830589294, 'Overview': 0.5523406863212585}, {'History and etymology': 0.445112407207489, 'Discovery and naming': 0.4351326823234558, 'Name': 0.9514397382736206, 'Etymology': 0.9981398582458496, 'Taxonomy and etymology': 0.6537871956825256, 'Geography': 0.4077908992767334, 'Church': 0.2989387512207031, 'Toponymy': 0.8440755605697632, 'Names': 0.4658099710941314, 'Naming': 0.6582338213920593}, {'Venues': 0.8166611790657043, 'Commanders': 0.8352581858634949, 'Leadership': 0.8178792595863342, 'Participating nations': 0.8501885533332825, 'Organizational structure': 0.976444661617279, 'Structure': 0.8260189890861511, 'Composition': 0.7939799427986145, 'Organisation': 0.997517466545105, 'Administration': 0.8571560978889465, 'Organization': 0.9974117875099182}, {'Economy and infrastructure': 0.6586071848869324, 'Economics': 0.8523007035255432, 'Transport': 0.5812241435050964, 'Transportation': 0.6691998839378357, 'Industry': 0.971068561077118, 'Economy': 0.997720181941986, 'Tourism': 0.9097414016723632, 'Agriculture': 0.6546869277954102, 'Geography': 0.6239901781082153, 'Demography': 0.6182769536972046}, {'Footnotes': 0.9608513712882996, 'Further reading': 0.8959265947341919, 'References and notes': 0.857684850692749, 'Notes and references': 0.9917842149734496, 'Citations': 0.8502702116966248, 'Notes': 0.9859139919281006, 'Bibliography': 0.8617519736289978, 'References': 0.9984710812568665, 'External links': 0.9590902328491212, 'Sources': 0.9785903692245485}], 'es': [{'History': 0.9977351427078248, 'Fictional character biography': 0.7781490087509155, 'Origins': 0.8630629777908325, 'Service history': 0.7977169752120972, 'Career': 0.8236261010169983, 'Early history': 0.8923622965812683, 'Plot': 0.8114045858383179, 'Biography': 0.8285400271415709, 'Story': 0.9115408658981324, 'Performance history': 0.8862800598144531}, {'Economy and infrastructure': 0.7449622154235841, 'Transport': 0.9154863953590392, 'Administration': 0.6032415628433228, 'Infrastructure': 0.9971373081207277, 'Transportation': 0.9337680339813232, 'Geography and environment': 0.7022451758384705, 'Economy': 0.961898684501648, 'Facilities': 0.9698502421379088, 'Environment': 0.8370521068572998, 'Communications': 0.9589359760284424}, {'Venues': 0.8873395323753357, 'Organisation': 0.9965465664863586, 'Leadership': 0.7626573443412781, 'Group stage': 0.6689295768737793, 'Structure': 0.9376434087753296, 'Activities': 0.7888046503067017, 'Match officials': 0.7125335335731506, 'Membership': 0.8439175486564636, 'Administration': 0.7642970085144043, 'Organization': 0.9977885484695436}, {'Economy and infrastructure': 0.7227051854133606, 'Economics': 0.9449336528778076, 'Infrastructure': 0.7485665082931519, 'Industry': 0.8958739638328552, 'Economy': 0.99764084815979, 'Tourism': 0.9334400296211244, 'Government and politics': 0.6453857421875, 'Agriculture': 0.6669327020645142, 'Culture': 0.6732016801834106, 'Demography': 0.7385551929473877}, {'References and notes': 0.21886838972568512, 'See also': 0.9969900846481324, 'Gallery': 0.15294401347637174, 'Notes': 0.4234161078929901, 'Bibliography': 0.2415396422147751, 'Notes and references': 0.20837178826332087, 'References': 0.6991536617279053, 'Other uses': 0.2863127291202545, 'Further reading': 0.2027073949575424, 'External links': 0.2963458299636841}, {'Footnotes': 0.9764350056648254, 'Further reading': 0.9610522389411926, 'Citations': 0.9748255610466005, 'Notes and references': 0.9673485755920409, 'Notes': 0.9820446968078612, 'Bibliography': 0.9655594825744628, 'References': 0.9987037181854248, 'References and notes': 0.925125539302826, 'External links': 0.968205749988556, 'Sources': 0.9729123711586}, {'References and notes': 0.9083753824234008, 'Further reading': 0.9650164246559144, 'Citations': 0.9106215834617616, 'Notes and references': 0.9519344568252563, 'References and sources': 0.8806318044662476, 'Notes': 0.9720825552940368, 'Bibliography': 0.9977768063545228, 'References': 0.9951659440994264, 'Literature': 0.9699965715408324, 'Sources': 0.9938130378723145}]}\n"
     ]
    },
    {
     "data": {
      "text/plain": [
       "'[\"Economy\", \"Infrastructure\", \"Organization\"]'"
      ]
     },
     "execution_count": 496,
     "metadata": {},
     "output_type": "execute_result"
    }
   ],
   "source": [
    " getRecs('Quilombo','en')"
   ]
  },
  {
   "cell_type": "code",
   "execution_count": 492,
   "metadata": {},
   "outputs": [
    {
     "name": "stdout",
     "output_type": "stream",
     "text": [
      "ar بديهية (فلسفة)\n",
      "fr Axiome\n",
      "ru Аксиома\n",
      "en Axiom\n",
      "ja 公理\n",
      "es Axioma\n"
     ]
    },
    {
     "data": {
      "text/plain": [
       "'[\"Historia\"]'"
      ]
     },
     "execution_count": 492,
     "metadata": {},
     "output_type": "execute_result"
    }
   ],
   "source": [
    "getRecs('Axioma','es')"
   ]
  },
  {
   "cell_type": "code",
   "execution_count": null,
   "metadata": {},
   "outputs": [],
   "source": []
  }
 ],
 "metadata": {
  "kernelspec": {
   "display_name": "Python 3",
   "language": "python",
   "name": "python3"
  },
  "language_info": {
   "codemirror_mode": {
    "name": "ipython",
    "version": 3
   },
   "file_extension": ".py",
   "mimetype": "text/x-python",
   "name": "python",
   "nbconvert_exporter": "python",
   "pygments_lexer": "ipython3",
   "version": "3.5.3"
  }
 },
 "nbformat": 4,
 "nbformat_minor": 2
}
