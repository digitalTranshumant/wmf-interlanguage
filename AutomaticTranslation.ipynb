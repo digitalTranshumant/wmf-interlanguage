{
 "cells": [
  {
   "cell_type": "markdown",
   "metadata": {},
   "source": [
    "### Load section information from the source language"
   ]
  },
  {
   "cell_type": "code",
   "execution_count": 18,
   "metadata": {},
   "outputs": [],
   "source": [
    "import pandas as pd\n",
    "import networkx as nx\n",
    "import json\n",
    "from collections import Counter\n",
    "import gzip,json\n",
    "import re\n",
    "targetLang = 'fa'"
   ]
  },
  {
   "cell_type": "code",
   "execution_count": 20,
   "metadata": {},
   "outputs": [
    {
     "name": "stdout",
     "output_type": "stream",
     "text": [
      "1000000\n",
      "2000000\n"
     ]
    }
   ],
   "source": [
    "sectionsTargetAll = []\n",
    "sectionsTarget = {}\n",
    "c=0\n",
    "with gzip.open('../gap/multiLanguageFromDumps/sections-articles_%s.json.gz' % targetLang) as f: #this for the freq hq articles\n",
    "    for l in f:\n",
    "        c+=1\n",
    "        if c%1000000 == 0: print(c)\n",
    "        tmp = json.loads(l.decode())\n",
    "        sectionsTarget[tmp[1]] = tmp[2]\n",
    "        for secName in tmp[2]:\n",
    "                sectionsTargetAll.append(secName.strip())\n",
    "sectionsTargetFreq = Counter(sectionsTargetAll)\n"
   ]
  },
  {
   "cell_type": "markdown",
   "metadata": {},
   "source": [
    "### Select the sections name to be translate\n",
    "\n",
    "* use \"freq\" to filter by frequecy\n",
    "* use acc/total to filter by %"
   ]
  },
  {
   "cell_type": "code",
   "execution_count": 21,
   "metadata": {},
   "outputs": [
    {
     "name": "stdout",
     "output_type": "stream",
     "text": [
      "251\n",
      "0.7644290801033017\n"
     ]
    }
   ],
   "source": [
    "#sectionsEnFreq.most_common(50)\n",
    "total = sum(sectionsTargetFreq.values())\n",
    "acc =0\n",
    "secsToEval = []\n",
    "for n,(sec,freq) in enumerate(sectionsTargetFreq.most_common()):\n",
    "    acc+= freq\n",
    "    secsToEval.append(sec)\n",
    "    #print(n,acc/total,sec)\n",
    "    if freq < 100:\n",
    "        print(n)\n",
    "        print(acc/total)\n",
    "        break\n",
    "    #if acc/total > 0.82: #using sections that cover 80% of total\n",
    "    #    print(n)\n",
    "    #    print(freq)\n",
    "    #    break"
   ]
  },
  {
   "cell_type": "code",
   "execution_count": 22,
   "metadata": {},
   "outputs": [],
   "source": [
    "from googletrans import Translator\n",
    "from random import random\n",
    "from time import sleep\n",
    "\n",
    "def translateSecs(seclist=secsToEval,targetLang='es'):\n",
    "    print('Wait, translating')\n",
    "    translator = Translator()\n",
    "    words = ''\n",
    "    results = ''\n",
    "    for n,section in enumerate(secsToEval):\n",
    "        if len(words) + len(section) < 4900: #max allowed by google\n",
    "            words += '%d) %s \\n' % (n , section)\n",
    "        else:\n",
    "            results+= translator.translate(words,dest=targetLang).text +'\\n'\n",
    "            sleep(random() * 5)\n",
    "            #print(results)\n",
    "            words = '%d) %s \\n' % (n , section)\n",
    "\n",
    "    results+= translator.translate(words,dest=targetLang).text\n",
    "    d  = dict(re.findall(\"(\\d+)\\) (.+)\\n\",results))\n",
    "    output ={}\n",
    "    for n,word  in enumerate(secsToEval):\n",
    "        try:\n",
    "            output[word] = d[str(n)]\n",
    "        except:\n",
    "            pass\n",
    "    print('Finish')\n",
    "    return output"
   ]
  },
  {
   "cell_type": "code",
   "execution_count": 88,
   "metadata": {},
   "outputs": [
    {
     "name": "stdout",
     "output_type": "stream",
     "text": [
      "Wait, translating\n",
      "Finish\n"
     ]
    }
   ],
   "source": [
    "secsEs = translateSecs(targetLang='es')"
   ]
  },
  {
   "cell_type": "code",
   "execution_count": 89,
   "metadata": {},
   "outputs": [
    {
     "name": "stdout",
     "output_type": "stream",
     "text": [
      "Wait, translating\n",
      "Finish\n"
     ]
    }
   ],
   "source": [
    "secsFa = translateSecs(targetLang='fa')"
   ]
  },
  {
   "cell_type": "code",
   "execution_count": 90,
   "metadata": {},
   "outputs": [
    {
     "name": "stdout",
     "output_type": "stream",
     "text": [
      "Wait, translating\n",
      "Finish\n"
     ]
    }
   ],
   "source": [
    "secsDe = translateSecs(targetLang='de')"
   ]
  },
  {
   "cell_type": "code",
   "execution_count": 12,
   "metadata": {},
   "outputs": [
    {
     "name": "stdout",
     "output_type": "stream",
     "text": [
      "Wait, translating\n",
      "Finish\n"
     ]
    }
   ],
   "source": [
    "secsEnFromDe = translateSecs(targetLang='en')"
   ]
  },
  {
   "cell_type": "code",
   "execution_count": 23,
   "metadata": {},
   "outputs": [
    {
     "name": "stdout",
     "output_type": "stream",
     "text": [
      "Wait, translating\n",
      "Finish\n"
     ]
    }
   ],
   "source": [
    "secsEnFromFa = translateSecs(targetLang='en')"
   ]
  },
  {
   "cell_type": "markdown",
   "metadata": {},
   "source": [
    "### Export to Excel"
   ]
  },
  {
   "cell_type": "code",
   "execution_count": 26,
   "metadata": {},
   "outputs": [],
   "source": [
    "## join 3\n",
    "#df = pd.DataFrame.from_dict(secsEs,orient='index').join(pd.DataFrame.from_dict(secsDe,orient='index'),lsuffix='_es',rsuffix='_de').join(pd.DataFrame.from_dict(secsFa,orient='index'),rsuffix='_fa')\n",
    "## join 2\n",
    "df = pd.DataFrame.from_dict(secsEnFromFa,orient='index')\n",
    "rank = dict([(x,n) for n,(x,y) in enumerate(sectionsTargetFreq.most_common(len(secsToEval)))])\n",
    "df  = df.join(pd.DataFrame.from_dict(rank,orient='index'),rsuffix='rank')\n",
    "df = df.sort_values([\"0rank\"])"
   ]
  },
  {
   "cell_type": "code",
   "execution_count": 27,
   "metadata": {},
   "outputs": [],
   "source": [
    "df.to_excel('automaticTranslationEnFromFa.xls')"
   ]
  },
  {
   "cell_type": "code",
   "execution_count": null,
   "metadata": {},
   "outputs": [],
   "source": []
  }
 ],
 "metadata": {
  "kernelspec": {
   "display_name": "Python 3",
   "language": "python",
   "name": "python3"
  },
  "language_info": {
   "codemirror_mode": {
    "name": "ipython",
    "version": 3
   },
   "file_extension": ".py",
   "mimetype": "text/x-python",
   "name": "python",
   "nbconvert_exporter": "python",
   "pygments_lexer": "ipython3",
   "version": "3.5.3"
  }
 },
 "nbformat": 4,
 "nbformat_minor": 2
}
